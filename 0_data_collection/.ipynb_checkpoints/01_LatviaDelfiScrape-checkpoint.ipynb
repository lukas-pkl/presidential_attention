{
 "cells": [
  {
   "cell_type": "code",
   "execution_count": 1,
   "metadata": {},
   "outputs": [],
   "source": [
    "import requests \n",
    "from bs4 import BeautifulSoup\n",
    "from pymongo import MongoClient\n",
    "from datetime import datetime\n",
    "from tqdm import tqdm\n",
    "import random \n",
    "import time"
   ]
  },
  {
   "cell_type": "code",
   "execution_count": 2,
   "metadata": {},
   "outputs": [],
   "source": [
    "mongo = MongoClient(\"mongodb://localhost:27017/?readPreference=primary&appname=MongoDB%20Compass&ssl=false\")\n",
    "mongo_col = mongo[\"delfi_texts\"][\"lv_news\"]"
   ]
  },
  {
   "cell_type": "code",
   "execution_count": 3,
   "metadata": {},
   "outputs": [],
   "source": [
    "def get_date(soup):\n",
    "    date_tag = soup.find(\"time\")\n",
    "    date = None\n",
    "    if date_tag != None:\n",
    "        date_s = date_tag.text\n",
    "        date_s = date_s.replace(\"\\t\", \"\")\n",
    "        date_s = date_s.replace(\"\\n\", \"\")\n",
    "        if date_s.startswith(\"  \"):\n",
    "            date_s = date_s.replace(\"  \", \"\")\n",
    "        try:\n",
    "            date = datetime.strptime(date_s, \"%d.%m.%Y %H:%M\")\n",
    "        except Exception as e:\n",
    "            try:\n",
    "                date = datetime.strptime(date_s, \"%Y.%m.%d %H:%M:%S\")\n",
    "            except Exception as e2:\n",
    "                print(current_link)\n",
    "                print(e)\n",
    "                print(e2)\n",
    "    return date\n",
    "\n",
    "def get_text(soup):\n",
    "    text = \"\"\n",
    "    #lead = soup.find(\"div\", {\"class\": \"delfi-article-lead\"}).text\n",
    "    #text += lead\n",
    "    p_tags = soup.find_all(\"p\")\n",
    "    for p in p_tags:\n",
    "        if not p.text.endswith(\"...\"):\n",
    "            text += p.text+\"\\n \"\n",
    "    return text\n",
    "    \n",
    "def clean_link(link):\n",
    "    bad_parts = [\"https://www.facebook.com/sharer/sharer.php?u=\", \n",
    "                 \"https://www.facebook.com/dialog/send?app_id=1476286675946138&link=\", \n",
    "                 \"https://www.facebook.com/dialog/send?app_id=1476286675946138&link=\",\n",
    "                 \"&com=1\"]\n",
    "    for bp in bad_parts:\n",
    "        link = link.replace(bp, \"\")\n",
    "    #link = link.split(\"&redirect_uri=\")[0]\n",
    "    link = link.split(\"&\")[0]\n",
    "    return link\n",
    "\n",
    "def get_links(soup):\n",
    "    a_tags = soup.find_all(\"a\")\n",
    "    links = [i for i in a_tags if \"href\" in i.attrs]\n",
    "    rel_links = set([i[\"href\"] for i in links if i[\"href\"].startswith(core_link)])\n",
    "    rel_links2 = set([clean_link(i) for i in rel_links])\n",
    "    return rel_links2\n",
    "\n",
    "def add_to_visited(link):\n",
    "    last_char = link[-1]\n",
    "    if last_char == \"0\":\n",
    "        visited_0.add(link)\n",
    "    elif last_char == \"1\":\n",
    "        visited_1.add(link)\n",
    "    elif last_char == \"2\":\n",
    "        visited_2.add(link)\n",
    "    elif last_char == \"3\":\n",
    "        visited_3.add(link)\n",
    "    elif last_char == \"4\":\n",
    "        visited_4.add(link)\n",
    "    elif last_char == \"5\":\n",
    "        visited_5.add(link)\n",
    "    elif last_char == \"6\":\n",
    "        visited_6.add(link)\n",
    "    elif last_char == \"7\":\n",
    "        visited_7.add(link)\n",
    "    elif last_char == \"8\":\n",
    "        visited_8.add(link)\n",
    "    elif last_char == \"9\":\n",
    "        visited_9.add(link)\n",
    "    else :\n",
    "        visited_oth.add(link)\n",
    "        \n",
    "        \n",
    "def check_visited(link):\n",
    "    last_char = link[-1]\n",
    "    \n",
    "    if last_char == \"0\":\n",
    "        return link in visited_0\n",
    "    elif last_char == \"1\":\n",
    "        return link in visited_1\n",
    "    elif last_char == \"2\":\n",
    "        return link in visited_2\n",
    "    elif last_char == \"3\":\n",
    "        return link in visited_3\n",
    "    elif last_char == \"4\":\n",
    "        return link in visited_4\n",
    "    elif last_char == \"5\":\n",
    "        return link in visited_5\n",
    "    elif last_char == \"6\":\n",
    "        return link in visited_6\n",
    "    elif last_char == \"7\":\n",
    "        return link in visited_7\n",
    "    elif last_char == \"8\":\n",
    "        return link in visited_8\n",
    "    elif last_char == \"9\":\n",
    "        return link in visited_9\n",
    "    else:\n",
    "        return link in visited_oth\n",
    "    "
   ]
  },
  {
   "cell_type": "code",
   "execution_count": 4,
   "metadata": {},
   "outputs": [],
   "source": [
    "core_link = \"https://www.delfi.lv/news/national/politics/\"\n"
   ]
  },
  {
   "cell_type": "code",
   "execution_count": 5,
   "metadata": {},
   "outputs": [],
   "source": [
    "visited_0 = set()\n",
    "visited_1 = set()\n",
    "visited_2 = set()\n",
    "visited_3 = set()\n",
    "visited_4 = set()\n",
    "visited_5 = set()\n",
    "visited_6 = set()\n",
    "visited_7 = set()\n",
    "visited_8 = set()\n",
    "visited_9 = set()\n",
    "visited_oth = set()"
   ]
  },
  {
   "cell_type": "code",
   "execution_count": 6,
   "metadata": {},
   "outputs": [
    {
     "name": "stderr",
     "output_type": "stream",
     "text": [
      "138006it [00:01, 115164.41it/s]\n"
     ]
    }
   ],
   "source": [
    "query = {}\n",
    "projection = {\"_id\" : 0, \"source\":1}\n",
    "\n",
    "for i in tqdm(mongo_col.find(query, projection)):\n",
    "    add_to_visited(i[\"source\"])"
   ]
  },
  {
   "cell_type": "code",
   "execution_count": 7,
   "metadata": {},
   "outputs": [],
   "source": [
    "#initial\n",
    "links = set()\n",
    "\n",
    "res = requests.get(core_link)\n",
    "add_to_visited(core_link)\n",
    "if res.status_code == 200 :\n",
    "    soup = BeautifulSoup(res.text, \"html5lib\")\n",
    "    site_links = get_links(soup)\n",
    "    for link in site_links:\n",
    "        if check_visited(link) == False:\n",
    "            links.add(link)\n",
    "else:\n",
    "    pass"
   ]
  },
  {
   "cell_type": "code",
   "execution_count": 8,
   "metadata": {},
   "outputs": [
    {
     "data": {
      "text/plain": [
       "['https://www.delfi.lv/news/national/politics/zanda-kalnina-lukasevica-es-ir-japieskir-kandidatvalsts-statuss-ukrainai.d?id=54122056',\n",
       " 'https://www.delfi.lv/news/national/politics/video-gajiens-kopa-ar-ukrainu-kopa-pret-putinu-pulcejis-30-000-cilveku.d?id=54122464',\n",
       " 'https://www.delfi.lv/news/national/politics/rigas-dome-lidz-sim-pieteikti-divi-16-marta-pasakumi.d?id=54120178',\n",
       " 'https://www.delfi.lv/news/national/politics/sandi-girgenu-ievel-par-politiskas-partijas-republika-priekssedetaju.d?id=54122716']"
      ]
     },
     "execution_count": 8,
     "metadata": {},
     "output_type": "execute_result"
    }
   ],
   "source": [
    "list(links)[0:4]"
   ]
  },
  {
   "cell_type": "code",
   "execution_count": 9,
   "metadata": {},
   "outputs": [
    {
     "data": {
      "text/plain": [
       "[2, 3, 4, 5, 6]"
      ]
     },
     "execution_count": 9,
     "metadata": {},
     "output_type": "execute_result"
    }
   ],
   "source": [
    "#last_page = 6210\n",
    "\n",
    "#pages = [last_page - i for i in range(0, last_page)]\n",
    "\n",
    "#random.shuffle(pages)\n",
    "\n",
    "pages = [i for i in range(2, 350)]\n",
    "\n",
    "pages = pages[0:1000]\n",
    "\n",
    "pages[0:5]"
   ]
  },
  {
   "cell_type": "code",
   "execution_count": 10,
   "metadata": {},
   "outputs": [
    {
     "name": "stderr",
     "output_type": "stream",
     "text": [
      "100%|██████████| 348/348 [19:10<00:00,  3.31s/it]\n"
     ]
    }
   ],
   "source": [
    "link_fragment = \"https://www.delfi.lv/news/national/politics/?page=\"\n",
    "#\"\"\"\n",
    "for i in tqdm(pages):\n",
    "    res = requests.get(link_fragment+str(i))\n",
    "    if res.status_code == 200 :\n",
    "        soup = BeautifulSoup(res.text, \"html5lib\")\n",
    "        site_links = get_links(soup)\n",
    "        for link in site_links:\n",
    "            if check_visited(link) == False:\n",
    "                links.add(link)\n",
    "    else:\n",
    "        pass\n",
    "    sleep_interval = random.randint(100,300)/100\n",
    "    time.sleep(sleep_interval)\n",
    "#\"\"\""
   ]
  },
  {
   "cell_type": "code",
   "execution_count": 11,
   "metadata": {},
   "outputs": [
    {
     "name": "stdout",
     "output_type": "stream",
     "text": [
      "582\n"
     ]
    }
   ],
   "source": [
    "print(len(links))"
   ]
  },
  {
   "cell_type": "code",
   "execution_count": 12,
   "metadata": {},
   "outputs": [
    {
     "name": "stdout",
     "output_type": "stream",
     "text": [
      "2022-03-05 16:29:35.933633  Started\n"
     ]
    }
   ],
   "source": [
    "counter = 0\n",
    "faulty_links = []\n",
    "print(datetime.now(), \" Started\")\n",
    "while True :\n",
    "    if len(links) > 0:\n",
    "        current_link = links.pop()\n",
    "        add_to_visited(current_link)\n",
    "        try:\n",
    "            res = requests.get(current_link)\n",
    "            if res.status_code == 200 :\n",
    "                try:\n",
    "                    soup = BeautifulSoup(res.text, \"html5lib\")\n",
    "                    date = get_date(soup)\n",
    "                    site_links = get_links(soup)\n",
    "                    text = get_text(soup)\n",
    "\n",
    "                    doc = {\"source\" : current_link, \n",
    "                           \"text\": text, \n",
    "                           \"date\": date }\n",
    "                    mongo_col.insert_one(doc)\n",
    "                    counter +=1 \n",
    "\n",
    "                    if counter % 1000 == 0:\n",
    "                        print(datetime.now(), \" Counter at \", counter)\n",
    "\n",
    "                    for link in site_links:\n",
    "                        if check_visited(link) == False:\n",
    "                            links.add(link)\n",
    "\n",
    "                except Exception as e:\n",
    "                    print(datetime.now(), current_link, e)   \n",
    "                    faulty_links.append(current_link)\n",
    "        except Exception as e:\n",
    "            print(datetime.now(), \" Faulty link \", current_link)\n",
    "        \n",
    "        pass\n",
    "    else:\n",
    "        if len(faulty_links) > 0:\n",
    "            for link in faulty_links:\n",
    "                links.add(link)\n",
    "        else:\n",
    "            break\n",
    "            "
   ]
  },
  {
   "cell_type": "code",
   "execution_count": null,
   "metadata": {},
   "outputs": [],
   "source": [
    "date"
   ]
  },
  {
   "cell_type": "code",
   "execution_count": null,
   "metadata": {},
   "outputs": [],
   "source": []
  },
  {
   "cell_type": "code",
   "execution_count": null,
   "metadata": {},
   "outputs": [],
   "source": []
  },
  {
   "cell_type": "code",
   "execution_count": null,
   "metadata": {},
   "outputs": [],
   "source": []
  },
  {
   "cell_type": "code",
   "execution_count": null,
   "metadata": {},
   "outputs": [],
   "source": []
  },
  {
   "cell_type": "code",
   "execution_count": null,
   "metadata": {},
   "outputs": [],
   "source": []
  },
  {
   "cell_type": "code",
   "execution_count": null,
   "metadata": {},
   "outputs": [],
   "source": []
  },
  {
   "cell_type": "code",
   "execution_count": null,
   "metadata": {},
   "outputs": [],
   "source": []
  },
  {
   "cell_type": "code",
   "execution_count": null,
   "metadata": {},
   "outputs": [],
   "source": []
  },
  {
   "cell_type": "code",
   "execution_count": null,
   "metadata": {},
   "outputs": [],
   "source": []
  },
  {
   "cell_type": "code",
   "execution_count": null,
   "metadata": {},
   "outputs": [],
   "source": [
    "current_link = \"https://www.delfi.lv/news/national/politics/deputate-ir-istais-laiks-debatem-par-deputatu-un-prezidenta-impicmenta-iespejam.d?id=42485970\"\n",
    "\n",
    "res = requests.get(current_link)\n",
    "if res.status_code == 200 :\n",
    "    try:\n",
    "        soup = BeautifulSoup(res.text, \"html5lib\")\n",
    "        date = get_date(soup)\n",
    "        site_links = get_links(soup)\n",
    "        text = get_text(soup)\n",
    "\n",
    "        doc = {\"source\" : current_link, \n",
    "               \"text\": text, \n",
    "               \"date\": date }\n",
    "    except Exception as e:\n",
    "        print(e)"
   ]
  },
  {
   "cell_type": "code",
   "execution_count": null,
   "metadata": {},
   "outputs": [],
   "source": [
    "date_tag = soup.find(\"time\")\n",
    "date = None\n",
    "if date_tag != None:\n",
    "    date_s = date_tag.text\n",
    "    date_s = date_s.replace(\"\\t\", \"\")\n",
    "    date_s = date_s.replace(\"\\n\", \"\")\n",
    "    if date_s.startswith(\"  \"):\n",
    "        date_s = date_s.replace(\"  \", \"\")\n",
    "    try:\n",
    "        date = datetime.strptime(date_s, \"%d.%m.%Y %H:%M\")\n",
    "    except Exception as e:\n",
    "        try:\n",
    "            date = datetime.strptime(date_s, \"%Y.%m.%d %H:%M:%S\")\n",
    "        except Exception as e2:\n",
    "            print(current_link)\n",
    "            print(e)\n",
    "            print(e2)"
   ]
  },
  {
   "cell_type": "code",
   "execution_count": null,
   "metadata": {},
   "outputs": [],
   "source": [
    "date_s.replace(\"  \", \"\")"
   ]
  },
  {
   "cell_type": "code",
   "execution_count": null,
   "metadata": {},
   "outputs": [],
   "source": [
    "text = \"\"\n",
    "#lead = soup.find(\"div\", {\"class\": \"delfi-article-lead\"}).text\n",
    "#text += lead\n",
    "p_tags = soup.find_all(\"p\")\n",
    "for p in p_tags:\n",
    "    if not p.text.endswith(\"...\"):\n",
    "        text += p.text+\"\\n \""
   ]
  },
  {
   "cell_type": "code",
   "execution_count": null,
   "metadata": {},
   "outputs": [],
   "source": [
    "text"
   ]
  },
  {
   "cell_type": "code",
   "execution_count": null,
   "metadata": {},
   "outputs": [],
   "source": []
  },
  {
   "cell_type": "code",
   "execution_count": null,
   "metadata": {},
   "outputs": [],
   "source": []
  },
  {
   "cell_type": "code",
   "execution_count": null,
   "metadata": {},
   "outputs": [],
   "source": []
  },
  {
   "cell_type": "code",
   "execution_count": null,
   "metadata": {},
   "outputs": [],
   "source": [
    "def get_date(soup:Object)->datetime:\n",
    "    \"\"\"Extracts publish time from the page source\"\"\"\n",
    "    date_tag = soup.find(\"meta\", {\"name\": \"cXenseParse:recs:publishtime\"})\n",
    "    date = None\n",
    "    if date_tag != None:\n",
    "        if \"content\" in date_tag.attrs:\n",
    "            date_s = date_tag[\"content\"]\n",
    "            date = datetime.strptime(date_s.split(\"+\")[0], \"%Y-%m-%dT%H:%M:%S\")\n",
    "    return date"
   ]
  },
  {
   "cell_type": "code",
   "execution_count": null,
   "metadata": {},
   "outputs": [],
   "source": [
    "def get_date(soup):\n",
    "    date_tag = soup.find(\"time\")\n",
    "    date = None\n",
    "    if date_tag != None:\n",
    "        date_s = date_tag.text\n",
    "        date_s = date_s.replace(\"\\t\", \"\")\n",
    "        date_s = date_s.replace(\"\\n\", \"\")\n",
    "        date = datetime.strptime(date_s, \"%d.%m.%Y %H:%M\")\n",
    "    return date"
   ]
  },
  {
   "cell_type": "code",
   "execution_count": null,
   "metadata": {},
   "outputs": [],
   "source": [
    "get_date(soup)"
   ]
  },
  {
   "cell_type": "code",
   "execution_count": null,
   "metadata": {},
   "outputs": [],
   "source": [
    "date_tag = soup.find(\"time\")\n",
    "date = None\n",
    "if date_tag != None:\n",
    "    date_s = date_tag.text\n",
    "    date_s = date_s.replace(\"\\t\", \"\")\n",
    "    date_s = date_s.replace(\"\\n\", \"\")\n",
    "    date = datetime.strptime(date_s, \"%d.%m.%Y %H:%M\")\n",
    "date"
   ]
  },
  {
   "cell_type": "code",
   "execution_count": null,
   "metadata": {},
   "outputs": [],
   "source": [
    "soup"
   ]
  },
  {
   "cell_type": "code",
   "execution_count": null,
   "metadata": {},
   "outputs": [],
   "source": [
    "\"%d.%m.%Y %H:%M\""
   ]
  }
 ],
 "metadata": {
  "kernelspec": {
   "display_name": "Python 3",
   "language": "python",
   "name": "python3"
  },
  "language_info": {
   "codemirror_mode": {
    "name": "ipython",
    "version": 3
   },
   "file_extension": ".py",
   "mimetype": "text/x-python",
   "name": "python",
   "nbconvert_exporter": "python",
   "pygments_lexer": "ipython3",
   "version": "3.8.8"
  }
 },
 "nbformat": 4,
 "nbformat_minor": 4
}
