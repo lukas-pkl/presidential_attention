{
 "cells": [
  {
   "cell_type": "code",
   "execution_count": null,
   "id": "3ea91b40-480b-481d-beca-8a5466e34c16",
   "metadata": {},
   "outputs": [],
   "source": [
    "from datetime import datetime\n",
    "\n",
    "from pymongo import MongoClient\n",
    "import pandas as pd\n",
    "\n",
    "import constants\n",
    "from tqdm import tqdm\n"
   ]
  },
  {
   "cell_type": "code",
   "execution_count": null,
   "id": "82a9bc0a-ba13-4d7f-b4b5-d03bdb02f49f",
   "metadata": {},
   "outputs": [],
   "source": [
    "mongo = MongoClient(constants.mongo_conn_string)\n",
    "mongo_lt_col = mongo[constants.mongo_db][constants.mongo_lt_annotated_col]"
   ]
  },
  {
   "cell_type": "code",
   "execution_count": null,
   "id": "44c4a696-17af-443c-962c-a2e6684faa4d",
   "metadata": {},
   "outputs": [],
   "source": [
    "query = {}\n",
    "\n",
    "cursor = mongo_lt_col.find(query, {\"_id\":0, \"text\":0})\n",
    "\n",
    "data = [i for i in cursor]\n",
    "print(len(data))\n",
    "\n",
    "df = pd.DataFrame(data)\n",
    "print(df.shape)\n",
    "df.head()"
   ]
  },
  {
   "cell_type": "code",
   "execution_count": null,
   "id": "d9a6c039-a901-4923-ab44-413169dc0f43",
   "metadata": {},
   "outputs": [],
   "source": [
    "#df.to_parquet(\"Data.parquet\")"
   ]
  },
  {
   "cell_type": "markdown",
   "id": "fdfbc00c-4f08-4354-8ab2-dfed0dcdd57d",
   "metadata": {},
   "source": [
    "# Basic Data"
   ]
  },
  {
   "cell_type": "code",
   "execution_count": null,
   "id": "48ecfdef-68b6-4eb4-a589-21b3e989021b",
   "metadata": {},
   "outputs": [],
   "source": [
    "df.year.value_counts()"
   ]
  },
  {
   "cell_type": "code",
   "execution_count": null,
   "id": "6690744a-b2e3-4dbd-8710-3a592ac56e57",
   "metadata": {},
   "outputs": [],
   "source": [
    "df.cabinet.value_counts()"
   ]
  },
  {
   "cell_type": "code",
   "execution_count": null,
   "id": "02c19b5d-a074-44ac-8ed2-ccdcf6cda126",
   "metadata": {},
   "outputs": [],
   "source": [
    "df.president.value_counts()"
   ]
  },
  {
   "cell_type": "markdown",
   "id": "e8bbe632-bc82-4899-b727-b5ba25a408c2",
   "metadata": {},
   "source": [
    "# Adding dummies for media & presidential attention for each policy sphere"
   ]
  },
  {
   "cell_type": "code",
   "execution_count": null,
   "id": "7d8ffca8-3e5e-4b51-9ce3-9e8b49a87612",
   "metadata": {},
   "outputs": [],
   "source": [
    "ministries = set()\n",
    "for i in list(df.cabinet_ents):\n",
    "    for a in i:\n",
    "        ministries.add(a)\n",
    "    \n",
    "for item in tqdm(list(ministries)):\n",
    "    df[item]= df.apply(lambda x : int(item in x[\"cabinet_ents\"]), axis = 1)\n",
    "\n",
    "\n",
    "def prez_attention( list_min , minister):\n",
    "    if \"Prezidentas\" in list_min and minister in list_min:\n",
    "        return 1\n",
    "    else:\n",
    "        return 0\n",
    "    \n",
    "for item in tqdm(list(ministries)):\n",
    "    if item != \"Prezidentas\":\n",
    "        df[\"president_\"+item]= df.apply(lambda x : prez_attention(x[\"cabinet_ents\"], item), axis = 1)\n",
    "    \n",
    "df.head() "
   ]
  },
  {
   "cell_type": "code",
   "execution_count": null,
   "id": "132174a0-e820-4673-b220-e0cfe58e8c0d",
   "metadata": {},
   "outputs": [],
   "source": [
    "df.columns"
   ]
  },
  {
   "cell_type": "code",
   "execution_count": null,
   "id": "509c07a8-88d5-4856-8b10-07049ee35c4f",
   "metadata": {},
   "outputs": [],
   "source": [
    "df.to_parquet(\"DataEnhanced.parquet\")"
   ]
  },
  {
   "cell_type": "code",
   "execution_count": null,
   "id": "8ac42f5c-e180-4e97-b105-eccb6e20b7c2",
   "metadata": {},
   "outputs": [],
   "source": [
    "df.to_csv(\"DataEnhanced.csv\")"
   ]
  },
  {
   "cell_type": "code",
   "execution_count": null,
   "id": "72d4f3b4-db92-4901-93e9-5ff08689dbbe",
   "metadata": {},
   "outputs": [],
   "source": []
  }
 ],
 "metadata": {
  "kernelspec": {
   "display_name": "Python 3",
   "language": "python",
   "name": "python3"
  },
  "language_info": {
   "codemirror_mode": {
    "name": "ipython",
    "version": 3
   },
   "file_extension": ".py",
   "mimetype": "text/x-python",
   "name": "python",
   "nbconvert_exporter": "python",
   "pygments_lexer": "ipython3",
   "version": "3.8.8"
  }
 },
 "nbformat": 4,
 "nbformat_minor": 5
}
