{
 "cells": [
  {
   "cell_type": "code",
   "execution_count": null,
   "id": "d53e5dc5-1eab-4b37-923f-15d950ee1f4e",
   "metadata": {},
   "outputs": [],
   "source": [
    "from datetime import datetime\n",
    "\n",
    "import pandas as pd\n",
    "import numpy as np\n",
    "import matplotlib.pyplot as plt\n",
    "from scipy.stats import ttest_ind, pearsonr\n",
    "import statsmodels.api as sm\n",
    "\n",
    "\n",
    "%matplotlib inline"
   ]
  },
  {
   "cell_type": "code",
   "execution_count": null,
   "id": "43a9525c-5848-43eb-9c84-b8173211b3e0",
   "metadata": {},
   "outputs": [],
   "source": [
    "df = pd.read_parquet(\"DataEnhanced.parquet\")\n",
    "print(df.shape)\n",
    "df.head()"
   ]
  },
  {
   "cell_type": "code",
   "execution_count": null,
   "id": "1502d64c-bbed-4a68-b40a-098f4900261f",
   "metadata": {},
   "outputs": [],
   "source": [
    "df.columns"
   ]
  },
  {
   "cell_type": "markdown",
   "id": "d37ad965-e196-4f55-9f15-06cc0b46efe8",
   "metadata": {},
   "source": [
    "## Standardising Ministries"
   ]
  },
  {
   "cell_type": "code",
   "execution_count": null,
   "id": "e2800268-b1ad-422c-83c9-f8ab4d262a44",
   "metadata": {},
   "outputs": [],
   "source": [
    "cabinet_map = {'Krašto apsaugos' : \"Defense\", \n",
    "               'Premjeras': \"Prime-Minister\",\n",
    "               'Susisiekimo': \"Other\", \n",
    "               'Žemės Ūkio': \"Agriculture\", \n",
    "               'Kultūros': \"Culture\", \n",
    "               'Ūkio': \"Economy\", \n",
    "               'Aplinkos ': \"Environment\",\n",
    "               'Energetikos': \"Other\", \n",
    "               'Ekonomikos ir inovacijų': \"Economy\", \n",
    "               'Teisingumo': \"Justice\", \n",
    "               'Finansų': \"Finance\",\n",
    "               'Užsienio reikalų': \"Foreign-Affairs\", \n",
    "               'Prezidentas': \"President\", \n",
    "               'Socialinės apsaugos ir darbo': \"Social-Security\",\n",
    "               'Sveikatos apsaugos': \"Healthcare\", \n",
    "               'Švietimo ir mokslo': \"Research-Education\",\n",
    "               'Švietimo, mokslo ir sporto': \"Research-Education\", \n",
    "               'Vidaus reikalų': \"Internal-Affairs\",\n",
    "               'president_Krašto apsaugos': \"President-Defense\", \n",
    "               'president_Premjeras': \"President-Prime-Minister\",\n",
    "               'president_Susisiekimo': \"President-Other\", \n",
    "               'president_Žemės Ūkio': \"President-Agriculture\", \n",
    "               'president_Kultūros': \"President-Culture\",\n",
    "               'president_Ūkio': \"President-Economy\", \n",
    "               'president_Aplinkos ': \"President-Environment\", \n",
    "               'president_Energetikos': \"President-Other\",\n",
    "               'president_Ekonomikos ir inovacijų': \"President-Economy\", \n",
    "               'president_Teisingumo': \"President-Justice\",\n",
    "               'president_Finansų': \"President-Finance\", \n",
    "               'president_Užsienio reikalų': \"President-Foreign-Affairs\",\n",
    "               'president_Socialinės apsaugos ir darbo': \"President-Social-Security\",\n",
    "               'president_Sveikatos apsaugos': \"President-Healthcare\", \n",
    "               'president_Švietimo ir mokslo': \"President-Research-Education\",\n",
    "               'president_Švietimo, mokslo ir sporto': \"President-Research-Education\", \n",
    "               'president_Vidaus reikalų': \"President-Internal-Affairs\"}"
   ]
  },
  {
   "cell_type": "code",
   "execution_count": null,
   "id": "238d20e5-84dc-498f-8d67-b00a668aad6e",
   "metadata": {},
   "outputs": [],
   "source": [
    "new_cols = list(set(cabinet_map.values()))\n",
    "old_cols = list(set(cabinet_map.keys()))\n",
    "\n",
    "new_col_data = {item:[] for item in new_cols}\n",
    "\n",
    "for index, row in df.iterrows():\n",
    "    plh = {item : 0 for item in new_cols}\n",
    "    for entry in old_cols:\n",
    "        if entry in row:\n",
    "            plh[cabinet_map[entry]]+=row[entry]\n",
    "    plh2 = {key: value != 0 for key, value in plh.items()}\n",
    "    \n",
    "    for key, value in plh2.items():\n",
    "        new_col_data[key].append(value)    "
   ]
  },
  {
   "cell_type": "code",
   "execution_count": null,
   "id": "19399758-2f02-44ae-ae63-dde1858ac87d",
   "metadata": {},
   "outputs": [],
   "source": [
    "for key, value in new_col_data.items():\n",
    "    df[key]=value"
   ]
  },
  {
   "cell_type": "code",
   "execution_count": null,
   "id": "75789203-ac60-49ce-a8c1-c0f91e785cdb",
   "metadata": {},
   "outputs": [],
   "source": [
    "df.head()"
   ]
  },
  {
   "cell_type": "code",
   "execution_count": null,
   "id": "2e99d56d-93b2-4b79-b3e7-d247753b9476",
   "metadata": {},
   "outputs": [],
   "source": [
    "sorted(new_cols)"
   ]
  },
  {
   "cell_type": "markdown",
   "id": "e33f4289-3b89-49b9-a180-d1599b62960d",
   "metadata": {},
   "source": [
    "# Question 1 : How is presidential attention distributed accross policy spheres?  "
   ]
  },
  {
   "cell_type": "code",
   "execution_count": null,
   "id": "838d7d66-fc44-4648-91a8-0e770f2664e9",
   "metadata": {},
   "outputs": [],
   "source": [
    "\n",
    "columns = [ 'President-Agriculture',\n",
    " 'President-Culture',\n",
    " 'President-Defense',\n",
    " 'President-Economy',\n",
    " 'President-Environment',\n",
    " 'President-Finance',\n",
    " 'President-Foreign-Affairs',\n",
    " 'President-Healthcare',\n",
    " 'President-Internal-Affairs',\n",
    " 'President-Justice',\n",
    " 'President-Other',\n",
    " 'President-Prime-Minister',\n",
    " 'President-Research-Education',\n",
    " 'President-Social-Security',]\n",
    "\n",
    "\n",
    "data = {item.replace(\"President-\", \"\") : df[item].mean() for item in columns}\n",
    "data_s = sorted(data.items(), key = lambda x:x[1])\n",
    "\n",
    "label_vals = [i[0] for i in data_s]\n",
    "values = [i[1] for i in data_s]\n",
    "\n",
    "plt.rcParams[\"figure.figsize\"] = (12,12)\n",
    "y_pos = np.arange(len(values))\n",
    "\n",
    "plt.barh(y_pos, values, color=\"grey\")\n",
    "plt.yticks(y_pos, label_vals, fontsize=14)\n",
    "plt.xticks(fontsize=14)\n",
    "plt.show()\n",
    "\n",
    "plt.show((16,16))\n"
   ]
  },
  {
   "cell_type": "markdown",
   "id": "8bdcfe8f-34f6-474f-8677-3ce44c19bea7",
   "metadata": {},
   "source": [
    "# Q2: How the attention pattern differs over time?"
   ]
  },
  {
   "cell_type": "code",
   "execution_count": null,
   "id": "9198185f-bc2e-444a-a05d-d22964d7d887",
   "metadata": {},
   "outputs": [],
   "source": [
    "columns = ['President-Prime-Minister',\n",
    "            'President-Foreign-Affairs',\n",
    "            'President-Defense', \n",
    "            'President-Internal-Affairs',\n",
    "            'President-Healthcare',]\n",
    "\n",
    "\n",
    "agg_dict = {i : \"mean\" for i in columns}\n",
    "\n",
    "df2 = df.groupby([\"year\"]).agg(agg_dict)\n",
    "#print(df2.shape)\n",
    "#df2.head()\n",
    "\n",
    "years = list(df2.index)\n",
    "data = [list(df2[i]) for i in columns]\n",
    "\n",
    "\n",
    "fig, ax = plt.subplots(figsize=(18, 10))\n",
    "\n",
    "style_dict = {0 : \"k-\", \n",
    "             1: \"k--\", \n",
    "             2: \"k-.\",\n",
    "             3: \"k:\",\n",
    "             4: \"k-x\"}\n",
    "\n",
    "for i in range(len(columns)):\n",
    "    ax.plot(years, data[i], style_dict[i], label=columns[i])\n",
    "\n",
    "plt.legend()"
   ]
  },
  {
   "cell_type": "markdown",
   "id": "e36dd23c-618e-4677-ace4-3c3984233871",
   "metadata": {},
   "source": [
    "## Is Attention Higher For FP/DP than for others?"
   ]
  },
  {
   "cell_type": "code",
   "execution_count": null,
   "id": "e3dceab0-3876-4cd8-b7b2-57ef08b3f04f",
   "metadata": {},
   "outputs": [],
   "source": [
    "target =  'President-Foreign-Affairs'\n",
    "nincl = ['President-Foreign-Affairs', 'President-Prime-Minister', 'President-Defense']\n",
    "target_dist = list(df[target])\n",
    "\n",
    "other_dist = []\n",
    "for c in columns:\n",
    "    if c != target and c not in nincl:\n",
    "        other_dist += list(df[c])\n",
    "        \n",
    "print(len(target_dist))\n",
    "print(len(other_dist))\n",
    "\n",
    "print( sum(target_dist)/len(target_dist))\n",
    "print( sum(other_dist)/len(other_dist))\n",
    "\n",
    "ttest_ind(target_dist, other_dist)"
   ]
  },
  {
   "cell_type": "code",
   "execution_count": null,
   "id": "f372d030-e847-49e2-bd8f-2b665f370310",
   "metadata": {},
   "outputs": [],
   "source": [
    "target =  'President-Defense'\n",
    "\n",
    "nincl = ['President-Foreign-Affairs', 'President-Prime-Minister', 'President-Defense']\n",
    "target_dist = list(df[target])\n",
    "\n",
    "other_dist = []\n",
    "for c in columns:\n",
    "    if c != target and c not in nincl:\n",
    "        other_dist += list(df[c])\n",
    "        \n",
    "print(len(target_dist))\n",
    "print(len(other_dist))\n",
    "\n",
    "print( sum(target_dist)/len(target_dist))\n",
    "print( sum(other_dist)/len(other_dist))\n",
    "\n",
    "ttest_ind(target_dist, other_dist)"
   ]
  },
  {
   "cell_type": "markdown",
   "id": "d68c93b3-dbe3-4510-b1ab-5f6a4a9052e6",
   "metadata": {},
   "source": [
    "## Does Presidential Attention Mirror media attention?"
   ]
  },
  {
   "cell_type": "code",
   "execution_count": null,
   "id": "51ac5e50-c1ab-4973-abb2-8a23d7b74b40",
   "metadata": {},
   "outputs": [],
   "source": [
    "columns = [  'President-Agriculture',\n",
    " 'President-Culture',\n",
    " 'President-Defense',\n",
    " 'President-Economy',\n",
    " 'President-Environment',\n",
    " 'President-Finance',\n",
    " 'President-Foreign-Affairs',\n",
    " 'President-Healthcare',\n",
    " 'President-Internal-Affairs',\n",
    " 'President-Justice',\n",
    " 'President-Other',\n",
    " 'President-Prime-Minister',\n",
    " 'President-Research-Education',\n",
    " 'President-Social-Security',]"
   ]
  },
  {
   "cell_type": "code",
   "execution_count": null,
   "id": "9d4acac6-fe83-4d8b-9198-3f3f5bdc7d5f",
   "metadata": {},
   "outputs": [],
   "source": [
    "columns2 = [i.replace(\"President-\", \"\") for i in columns]\n",
    "ministries_full = columns + columns2\n",
    "\n",
    "agg_dict = {i:\"mean\" for i in ministries_full}\n",
    "agg_dict[\"president\"] = \"last\" \n",
    "\n",
    "dfg = df.groupby([\"year\", \"month\"]).agg(agg_dict)\n",
    "dfg[\"grybauskaite\"] = dfg.apply(lambda x:int(x[\"president\"]==\"Dalia Grybauskaite\"), axis=1)\n",
    "print(dfg.shape)\n",
    "dfg.head()"
   ]
  },
  {
   "cell_type": "code",
   "execution_count": null,
   "id": "27ca9e9a-520f-4871-b2dc-28759c6aebef",
   "metadata": {},
   "outputs": [],
   "source": [
    "for m in columns2:\n",
    "    print(m)\n",
    "    print(pearsonr(dfg[m], dfg[\"President-\"+m]))\n",
    "    print()"
   ]
  },
  {
   "cell_type": "code",
   "execution_count": null,
   "id": "57de15c5-aa7e-474a-ba3c-21e2a541a22c",
   "metadata": {},
   "outputs": [],
   "source": [
    "for m in columns2:\n",
    "    print(m)\n",
    "    y = dfg[[\"President-\"+m]]\n",
    "    X = dfg[[m, \"grybauskaite\"]]\n",
    "    X = sm.add_constant(X)\n",
    "    \n",
    "    model = sm.OLS(y, X)\n",
    "    results = model.fit()\n",
    "    print(results.summary())\n",
    "    \n",
    "    print()"
   ]
  },
  {
   "cell_type": "code",
   "execution_count": null,
   "id": "c89f4a99-ca8a-4b4d-9e2e-cbd053e0bbad",
   "metadata": {},
   "outputs": [],
   "source": []
  },
  {
   "cell_type": "code",
   "execution_count": null,
   "id": "0bb7543a-8b4f-4faf-94d1-bdc55681a6fe",
   "metadata": {},
   "outputs": [],
   "source": [
    "def get_pres_att(ents):\n",
    "    if \"Prezidentas\" in ents and len(ents)>1:\n",
    "        return 1\n",
    "    else:\n",
    "        return 0\n",
    "\n",
    "df[\"PresAtt\"] = df.apply(lambda x : get_pres_att(x[\"cabinet_ents\"]), axis =1)"
   ]
  },
  {
   "cell_type": "code",
   "execution_count": null,
   "id": "b10c9fc1-46d6-410a-b84a-6c2f04fc3335",
   "metadata": {},
   "outputs": [],
   "source": [
    "\n",
    "\n",
    "plh_fp = []\n",
    "plh_dp = []\n",
    "for index, row in df.iterrows():\n",
    "    v_fp = 0\n",
    "    v_dp = 0\n",
    "    \n",
    "    if row[\"PresAtt\"] == 1 and row[\"President-Defense\"] == 0:\n",
    "        v_dp = 1\n",
    "    if row[\"PresAtt\"] == 1 and row[\"President-Foreign-Affairs\"] == 0:\n",
    "        v_fp = 1\n",
    "        \n",
    "    plh_fp.append(v_fp)\n",
    "    plh_dp.append(v_dp)\n",
    "    \n",
    "df[\"non-fp-att\"] = plh_fp\n",
    "df[\"non-dp-att\"] = plh_dp"
   ]
  },
  {
   "cell_type": "code",
   "execution_count": null,
   "id": "a950d445-a829-46d3-bc7a-5b0d01b4dac4",
   "metadata": {},
   "outputs": [],
   "source": [
    "# Defense\n",
    "\n",
    "print(df[\"President-Foreign-Affairs\"].mean())\n",
    "print(df[\"non-fp-att\"].mean())\n",
    "\n",
    "ttest_ind(list(df[\"President-Foreign-Affairs\"]), list(df[\"non-fp-att\"]))"
   ]
  },
  {
   "cell_type": "markdown",
   "id": "76eb783d-13a4-46d1-9f7a-d26bebf82759",
   "metadata": {},
   "source": [
    "# Q 2.1: Did Grybauskaite pay more attention to FP/DP than others?"
   ]
  },
  {
   "cell_type": "code",
   "execution_count": null,
   "id": "4d6041c3-07c2-4eac-98ea-b909c96a27ab",
   "metadata": {},
   "outputs": [],
   "source": [
    "df[\"grybauskaite\"] = df.apply(lambda x: int(x[\"president\"] == \"Dalia Grybauskaite\"), axis = 1)\n",
    "print(df[\"grybauskaite\"].mean())\n",
    "\n",
    "dfa = df[df.grybauskaite == 0]\n",
    "dfb = df[df.grybauskaite == 1]"
   ]
  },
  {
   "cell_type": "code",
   "execution_count": null,
   "id": "99acc300-2600-4c0e-b9c0-bc7d57580dd3",
   "metadata": {},
   "outputs": [],
   "source": [
    "# Foreign policy\n",
    "\n",
    "print(dfa[\"president_Užsienio reikalų\"].mean())\n",
    "print(dfb[\"president_Užsienio reikalų\"].mean())\n",
    "\n",
    "ttest_ind(list(dfa[\"president_Užsienio reikalų\"]), list(dfb[\"president_Užsienio reikalų\"]))"
   ]
  },
  {
   "cell_type": "code",
   "execution_count": null,
   "id": "d899eef7-f5e6-4d9b-a96d-d47d7da8ad1b",
   "metadata": {},
   "outputs": [],
   "source": [
    "# Defense\n",
    "\n",
    "print(dfa[\"president_Krašto apsaugos\"].mean())\n",
    "print(dfb[\"president_Krašto apsaugos\"].mean())\n",
    "\n",
    "ttest_ind(list(dfa[\"president_Krašto apsaugos\"]), list(dfb[\"president_Krašto apsaugos\"]))"
   ]
  },
  {
   "cell_type": "markdown",
   "id": "d25dfded-3d99-4f67-9efc-e66975817a1a",
   "metadata": {},
   "source": [
    "# Q 2.2: Does Nauseda pay more attention to healthcare? "
   ]
  },
  {
   "cell_type": "code",
   "execution_count": null,
   "id": "a86b6dc3-1731-4b33-a250-2f01c6703fe3",
   "metadata": {},
   "outputs": [],
   "source": [
    "df[\"nauseda\"] = df.apply(lambda x: int(x[\"president\"] == \"Gitanas Nausėda\"), axis = 1)\n",
    "print(df[\"nauseda\"].mean())\n",
    "\n",
    "dfa = df[df.nauseda == 0]\n",
    "dfb = df[df.nauseda == 1]"
   ]
  },
  {
   "cell_type": "code",
   "execution_count": null,
   "id": "e08902c9-a1b5-45e5-9398-f5b41dcab082",
   "metadata": {},
   "outputs": [],
   "source": [
    "# Healthcare\n",
    "\n",
    "print(dfa[\"president_Sveikatos apsaugos\"].mean())\n",
    "print(dfb[\"president_Sveikatos apsaugos\"].mean())\n",
    "\n",
    "ttest_ind(list(dfa[\"president_Sveikatos apsaugos\"]), list(dfb[\"president_Sveikatos apsaugos\"]))"
   ]
  },
  {
   "cell_type": "markdown",
   "id": "9d1f59aa-d3a4-4962-978a-283c7ff4e668",
   "metadata": {},
   "source": [
    "# Does presidential attention mirror media attention?"
   ]
  },
  {
   "cell_type": "code",
   "execution_count": null,
   "id": "2a3c92a3-6637-4519-91b5-3283623a6d00",
   "metadata": {},
   "outputs": [],
   "source": [
    "ministries = ['Krašto apsaugos', 'Premjeras',\n",
    "       'Teisingumo', 'Žemės Ūkio',\n",
    "       'Socialinės apsaugos ir darbo', 'Ekonomikos ir inovacijų', 'Ūkio',\n",
    "       'Vidaus reikalų', 'Susisiekimo', 'Švietimo ir mokslo', 'Finansų',\n",
    "       'Švietimo, mokslo ir sporto', 'Kultūros', 'Energetikos', 'Aplinkos ',\n",
    "       'Užsienio reikalų', 'Sveikatos apsaugos',]\n",
    "\n",
    "\n",
    "ministries2 = [\"president_\"+i for i in ministries]\n",
    "\n",
    "ministries_full = ministries + ministries2\n",
    "\n",
    "agg_dict = {i:\"mean\" for i in ministries_full}\n",
    "agg_dict[\"president\"] = \"last\" \n",
    "\n",
    "dfg = df.groupby([\"year\", \"month\"]).agg(agg_dict)\n",
    "dfg[\"grybauskaite\"] = dfg.apply(lambda x:int(x[\"president\"]==\"Dalia Grybauskaite\"), axis=1)\n",
    "print(dfg.shape)\n",
    "dfg.head()"
   ]
  },
  {
   "cell_type": "code",
   "execution_count": null,
   "id": "a4939da6-6cb9-47f7-af8c-2113bf3ac807",
   "metadata": {},
   "outputs": [],
   "source": [
    "for m in ministries:\n",
    "    print(m)\n",
    "    print(pearsonr(dfg[m], dfg[\"president_\"+m]))\n",
    "    print()\n",
    "    "
   ]
  },
  {
   "cell_type": "code",
   "execution_count": null,
   "id": "42593303-a535-420b-ad88-8111d485383b",
   "metadata": {},
   "outputs": [],
   "source": [
    "for m in ministries:\n",
    "    print(m)\n",
    "    y = dfg[[\"president_\"+m]]\n",
    "    X = dfg[[m, \"grybauskaite\"]]\n",
    "    X = sm.add_constant(X)\n",
    "    \n",
    "    model = sm.OLS(y, X)\n",
    "    results = model.fit()\n",
    "    print(results.summary())\n",
    "    \n",
    "    print()"
   ]
  },
  {
   "cell_type": "markdown",
   "id": "007bd3d9-3b67-461b-b4aa-9cf65ee6a8c4",
   "metadata": {},
   "source": [
    "# Is presidential attention larger during the first year of presidential term?"
   ]
  },
  {
   "cell_type": "code",
   "execution_count": null,
   "id": "d5f39851-ed50-4d2d-8be8-574f4c1f6be1",
   "metadata": {},
   "outputs": [],
   "source": [
    "dg1b = datetime(2009, 7, 12)\n",
    "dg1e = datetime(2010, 7, 12)\n",
    "dg2b = datetime(2014, 7, 12)\n",
    "dg2e = datetime(2015, 7, 12)\n",
    "gnb = datetime(2019, 7, 12)\n",
    "gne = datetime(2020, 7, 12)\n",
    "\n",
    "first_year = []\n",
    "\n",
    "for i in df.date:\n",
    "    plh = 0\n",
    "    if dg1b <= i < dg1e :\n",
    "        plh = 1\n",
    "    if dg2b <= i < dg2e :\n",
    "        plh = 1\n",
    "    if gnb <= i < gne :\n",
    "        plh = 1\n",
    "    first_year.append(plh)\n",
    "    \n",
    "df[\"first_year\"] = first_year\n",
    "print(df.first_year.mean())"
   ]
  },
  {
   "cell_type": "code",
   "execution_count": null,
   "id": "d9d52717-4a0c-4892-b5ce-64e56e250d02",
   "metadata": {},
   "outputs": [],
   "source": [
    "dfa = df[df.first_year == 0]\n",
    "dfb = df[df.first_year == 1]\n"
   ]
  },
  {
   "cell_type": "code",
   "execution_count": null,
   "id": "8a3a28ad-eb87-4ccc-96bc-c710ab62614b",
   "metadata": {},
   "outputs": [],
   "source": [
    "#for m in ministries2:\n",
    "for m in columns:\n",
    "    print(m)\n",
    "    print(\"Normal: \", dfa[m].mean())\n",
    "    print(\"First year: \", dfb[m].mean())\n",
    "    print(ttest_ind(dfa[m], dfb[m]))\n",
    "    print()"
   ]
  },
  {
   "cell_type": "code",
   "execution_count": null,
   "id": "7d2d712b-d991-480d-9edc-3b02aa059afd",
   "metadata": {},
   "outputs": [],
   "source": [
    "m=\"PresAtt\"\n",
    "print(m)\n",
    "print(\"Normal: \", dfa[m].mean())\n",
    "print(\"First year: \", dfb[m].mean())\n",
    "print(ttest_ind(dfa[m], dfb[m]))\n",
    "print()"
   ]
  },
  {
   "cell_type": "markdown",
   "id": "8d9b8e53-7f7a-4368-bb31-3b945f764117",
   "metadata": {},
   "source": [
    "# Top 5 Spheres for each president"
   ]
  },
  {
   "cell_type": "code",
   "execution_count": null,
   "id": "88f28fdd-1b88-4e9b-8806-154b0e60d6e0",
   "metadata": {},
   "outputs": [],
   "source": [
    "prez_cols = ['president_Užsienio reikalų',\n",
    "       'president_Vidaus reikalų', 'president_Švietimo ir mokslo',\n",
    "       'president_Teisingumo', 'president_Sveikatos apsaugos',\n",
    "       'president_Kultūros', 'president_Premjeras',\n",
    "       'president_Švietimo, mokslo ir sporto', 'president_Energetikos',\n",
    "       'president_Ekonomikos ir inovacijų',\n",
    "       'president_Finansų', 'president_Žemės Ūkio',\n",
    "       'president_Krašto apsaugos', 'president_Socialinės apsaugos ir darbo',\n",
    "       'president_Aplinkos ', 'president_Susisiekimo', 'president_Ūkio']"
   ]
  },
  {
   "cell_type": "code",
   "execution_count": null,
   "id": "035c3501-cb6f-45fe-8b8e-c21adba4b7c4",
   "metadata": {},
   "outputs": [],
   "source": [
    "df_adamkus = df[df[\"president\"] == \"Valdas Adamkus\"]\n",
    "\n",
    "adamkus_atention_dict = {}\n",
    "for col in prez_cols:\n",
    "    adamkus_atention_dict[col] = df_adamkus[col].mean()\n",
    "    \n",
    "s_adamkus_atention_dict = sorted(adamkus_atention_dict.items(), key = lambda x : x[1], reverse = True)\n",
    "s_adamkus_atention_dict[0:5]"
   ]
  },
  {
   "cell_type": "code",
   "execution_count": null,
   "id": "531f48d9-4a66-40d9-b59e-f500d8652f3c",
   "metadata": {},
   "outputs": [],
   "source": [
    "df_grybauskaite = df[df[\"president\"] == \"Dalia Grybauskaite\"]\n",
    "\n",
    "grybauskaite_atention_dict = {}\n",
    "for col in prez_cols:\n",
    "    grybauskaite_atention_dict[col] = df_grybauskaite[col].mean()\n",
    "    \n",
    "s_grybauskaite_atention_dict = sorted(grybauskaite_atention_dict.items(), key = lambda x : x[1], reverse = True)\n",
    "s_grybauskaite_atention_dict[0:5]"
   ]
  },
  {
   "cell_type": "code",
   "execution_count": null,
   "id": "e226e4eb-8f93-40f5-91c8-07e6a7f5ac28",
   "metadata": {},
   "outputs": [],
   "source": [
    "df_nauseda = df[df[\"president\"] == \"Gitanas Nausėda\"]\n",
    "\n",
    "nauseda_atention_dict = {}\n",
    "for col in prez_cols:\n",
    "    nauseda_atention_dict[col] = df_nauseda[col].mean()\n",
    "    \n",
    "s_nauseda_atention_dict = sorted(nauseda_atention_dict.items(), key = lambda x : x[1], reverse = True)\n",
    "s_nauseda_atention_dict[0:5]"
   ]
  },
  {
   "cell_type": "code",
   "execution_count": null,
   "id": "d653116c-6bed-4f69-b9be-55dca2dbb356",
   "metadata": {},
   "outputs": [],
   "source": []
  },
  {
   "cell_type": "code",
   "execution_count": null,
   "id": "560e4c13-60ef-4ef6-81af-f365422efc0c",
   "metadata": {},
   "outputs": [],
   "source": [
    "df.columns"
   ]
  },
  {
   "cell_type": "markdown",
   "id": "447314fa-a9ee-4d7b-b947-6c24c5b6f039",
   "metadata": {},
   "source": [
    "# Weak Cabinets "
   ]
  },
  {
   "cell_type": "code",
   "execution_count": null,
   "id": "066d12a5-779e-43f6-893a-e05c59abf7a3",
   "metadata": {},
   "outputs": [],
   "source": [
    "df.cabinet.value_counts()\n"
   ]
  },
  {
   "cell_type": "code",
   "execution_count": null,
   "id": "c59ae0fd-f1ad-4181-9654-0c75781ab1dd",
   "metadata": {},
   "outputs": [],
   "source": [
    "df[\"cab_cab_no\"] = df.apply(lambda x : str(x[\"cabinet_no\"])+\"_\"+x[\"cabinet\"], axis = 1)\n",
    "df.cab_cab_no.value_counts()"
   ]
  },
  {
   "cell_type": "code",
   "execution_count": null,
   "id": "6822e3f6-02ea-4f6e-a9a5-ef6d96b4030c",
   "metadata": {},
   "outputs": [],
   "source": [
    "cabinet_strength = {\n",
    "    \"17_Saulius Skvernelis\":None,\n",
    "    \"15_Andrius Kubilius\" : 2.58,\n",
    "    \"16_Algirdas Butkevičius\": 2.16, \n",
    "    \"18_Ingrida Šimonytė\" : None,\n",
    "    \"12_Algirdas Brazauskas\": 2.33,\n",
    "    \"14_Gediminas Kirkilas\": 1.8,\n",
    "    \"13_Algirdas Brazauskas\" : 2.33,\n",
    "    \"11_Rolandas Paksas\" : 1.33, \n",
    "    None: None, \n",
    "    \"_\": None\n",
    "}\n",
    "\n",
    "df[\"cab_strength\"] = df.apply(lambda x : cabinet_strength[x[\"cab_cab_no\"]], axis = 1)\n",
    "print(df.shape)\n",
    "df.head()"
   ]
  },
  {
   "cell_type": "code",
   "execution_count": null,
   "id": "595dfc76-9070-4093-bcbf-ddb81e02e2cf",
   "metadata": {},
   "outputs": [],
   "source": [
    "col_list = [\"year\", \"month\", \"cab_cab_no\", \"cab_strength\", \"PresAtt\"] + columns\n",
    "df2 = df[col_list]\n",
    "df2 = df2.dropna(subset= [\"cab_strength\"])\n",
    "print(df2.shape)\n",
    "df2.head()"
   ]
  },
  {
   "cell_type": "code",
   "execution_count": null,
   "id": "55a9151e-4f85-41f9-95f1-654495e8e9d1",
   "metadata": {},
   "outputs": [],
   "source": [
    "agg_dict = {\"cab_cab_no\" : pd.Series.mode, \"cab_strength\" : \"mean\", \"PresAtt\": \"mean\"}\n",
    "for c in columns:\n",
    "    agg_dict[c] = \"mean\"\n",
    "\n",
    "dfg2 = df2.groupby([\"year\", \"month\"]).agg(agg_dict)\n",
    "print(dfg2.shape)\n",
    "dfg2.head()"
   ]
  },
  {
   "cell_type": "code",
   "execution_count": null,
   "id": "74a723b4-51d6-4256-ae49-8e64a81c2138",
   "metadata": {},
   "outputs": [],
   "source": [
    "for m in columns:\n",
    "    print(m)\n",
    "    y = dfg2[[m]]\n",
    "    X = dfg2[[\"cab_strength\"]]\n",
    "    X = sm.add_constant(X)\n",
    "    \n",
    "    model = sm.OLS(y, X)\n",
    "    results = model.fit()\n",
    "    print(results.summary())\n",
    "    \n",
    "    print()"
   ]
  },
  {
   "cell_type": "code",
   "execution_count": null,
   "id": "22b0609a-38e7-4a0e-887b-e114fc885f92",
   "metadata": {},
   "outputs": [],
   "source": [
    "dfg3 = df2.groupby([\"cab_cab_no\"]).agg({\"cab_strength\": \"mean\", \"PresAtt\": \"mean\"})\n",
    "print(dfg3.shape)\n",
    "dfg3.head(12)"
   ]
  },
  {
   "cell_type": "markdown",
   "id": "53e6eb4d-189f-4ee9-8f4d-dad00ac743a0",
   "metadata": {},
   "source": [
    "# Trust in President"
   ]
  },
  {
   "cell_type": "code",
   "execution_count": null,
   "id": "4ce51551-c19f-4ef1-9070-dc0cc48cf014",
   "metadata": {},
   "outputs": [],
   "source": [
    "# Trust in president data from Mazvydas\n",
    "year = [1998, 1999, 2000, 2001, 2002, 2003, 2004, 2005, 2006, 2007, 2008, 2009, 2010, 2011,\n",
    "        2012, 2013, 2014, 2015, 2016, 2017, 2018]\n",
    "\n",
    "president_trust = [72.3, 79.6, 54.8, 49.9, 54.5, 54.4, 36.7, 58.0, 56.9, 58.1, 55.8, 57.6, 71.8, \n",
    "                   69.9, 61.4, 53.9, 52.3, 53.0, 48.7, 57.7, 53.1]\n",
    "\n",
    "pres_pm_diff = [45.85, 56.1, 37.4, 30.87, 34.22, 27.88, 8.68, 38.33, 38.84, 38.15, 42.72, 45.01, \n",
    "                60.84, 58.59, 47.39, 31.58, 29.88, 27.03, 28.52, 34.21, 32.45]\n",
    "\n",
    "pres_pm_diff_r = [2.7321496033, 3.3862186304, 3.1531375936, 2.6255924171, 2.6857142857, 2.0528700906, \n",
    "                  1.3098893252, 2.9506361323, 3.1506090808, 2.9151606426, 4.2735632184, 4.5864541833, \n",
    "                  6.5409836066,  6.1941489362, 4.3777619387, 2.4136078782, 2.3351206434, 2.0408163265, \n",
    "                  2.4153846154, 2.4576054538, 2.5691489362,]\n",
    "\n",
    "lt = [True]*len(year)\n",
    "\n",
    "df_p_trust = pd.DataFrame()\n",
    "df_p_trust[\"year\"] = year\n",
    "df_p_trust[\"pres_trust\"] = president_trust\n",
    "df_p_trust[\"pres_pm_diff\"] = pres_pm_diff\n",
    "df_p_trust[\"pres_pm_diff\"] = pres_pm_diff_r\n",
    "print(df_p_trust.shape)\n",
    "df_p_trust.head(10)\n"
   ]
  },
  {
   "cell_type": "code",
   "execution_count": null,
   "id": "a9b166a9-8b57-4658-b2df-c698240b4771",
   "metadata": {},
   "outputs": [],
   "source": [
    "cols = ['PresAtt', 'President-Prime-Minister',  'President-Foreign-Affairs', 'President-Defense', 'President-Economy', 'President-Finance',\n",
    "        'President-Healthcare',  'President-Research-Education', 'President-Internal-Affairs', 'President-Justice', \n",
    "        'President-Environment', 'President-Social-Security', 'President-Agriculture', 'President-Culture', 'President-Other']\n",
    "agg_dict = {i : \"mean\" for i in cols}\n",
    "\n",
    "dfg2 = df.groupby([\"year\"]).agg(agg_dict)\n",
    "dfg3 = pd.DataFrame()\n",
    "dfg3[\"year\"]=list(dfg2.index)\n",
    "for c in list(dfg2.columns):\n",
    "    dfg3[c]= list(dfg2[c])\n",
    "#dfg2[\"year_i\"] = list(dfg2.index)\n",
    "\n",
    "print(dfg3.shape)\n",
    "dfg3.head()"
   ]
  },
  {
   "cell_type": "code",
   "execution_count": null,
   "id": "5dfb9682-c3d6-4b55-8083-a968b40f647f",
   "metadata": {},
   "outputs": [],
   "source": [
    "dfgm = pd.merge(left = df_p_trust, right = dfg3, on = [\"year\"], how = \"inner\")\n",
    "print(dfgm.shape)\n",
    "dfgm.head(20)\n"
   ]
  },
  {
   "cell_type": "code",
   "execution_count": null,
   "id": "56e89656-23af-496d-a2ca-bafcfa4db41e",
   "metadata": {},
   "outputs": [],
   "source": [
    "ax1 = dfgm.plot.scatter(x='pres_trust',\n",
    "                       y='PresAtt',\n",
    "                       c='Black', \n",
    "                        ylabel = \"Presidential Attention\", \n",
    "                       xlabel = \"President Popularity\")"
   ]
  },
  {
   "cell_type": "code",
   "execution_count": null,
   "id": "1d3d6ca7-555c-4c5a-a8fd-11be1a62b4f4",
   "metadata": {},
   "outputs": [],
   "source": [
    "ax1 = dfgm.plot.scatter(x='pres_pm_diff',\n",
    "                       y='PresAtt',\n",
    "                       c='Black', \n",
    "                        ylabel = \"Presidential Attention\", \n",
    "                       xlabel = \"President popularity relative to PM\")"
   ]
  },
  {
   "cell_type": "code",
   "execution_count": null,
   "id": "467c4ddb-a5b6-4b6c-8519-f1d26253e562",
   "metadata": {},
   "outputs": [],
   "source": [
    "print(pearsonr(dfgm[\"PresAtt\"], dfgm[\"pres_pm_diff\"]))"
   ]
  },
  {
   "cell_type": "code",
   "execution_count": null,
   "id": "ca85c180-07b0-40cf-b9bb-2af75bee8141",
   "metadata": {},
   "outputs": [],
   "source": [
    "cols = ['PresAtt', 'President-Prime-Minister',\n",
    "       'President-Foreign-Affairs', 'President-Defense', 'President-Economy',\n",
    "       'President-Finance', 'President-Healthcare',\n",
    "       'President-Research-Education', 'President-Internal-Affairs',\n",
    "       'President-Justice', 'President-Environment',\n",
    "       'President-Social-Security', 'President-Agriculture',\n",
    "       'President-Culture', 'President-Other']\n",
    "\n",
    "for m in cols:\n",
    "    print(m)\n",
    "    y = dfgm[[m]]\n",
    "    X = dfgm[[\"pres_trust\"]]\n",
    "    X = sm.add_constant(X)\n",
    "    \n",
    "    model = sm.OLS(y, X)\n",
    "    results = model.fit()\n",
    "    print(results.summary())\n",
    "    \n",
    "    print()"
   ]
  },
  {
   "cell_type": "code",
   "execution_count": null,
   "id": "d6e9b8ec-2eb8-4601-ac81-d81cd46f2fa5",
   "metadata": {},
   "outputs": [],
   "source": [
    "dfgm.plot.line(\"year\", \"pres_trust\")"
   ]
  },
  {
   "cell_type": "code",
   "execution_count": null,
   "id": "86ca1022-2732-449d-80e8-6816f09ab4c9",
   "metadata": {},
   "outputs": [],
   "source": []
  },
  {
   "cell_type": "code",
   "execution_count": null,
   "id": "d2138a24-becf-431d-9656-f535a1c69b8f",
   "metadata": {},
   "outputs": [],
   "source": []
  }
 ],
 "metadata": {
  "kernelspec": {
   "display_name": "Python 3",
   "language": "python",
   "name": "python3"
  },
  "language_info": {
   "codemirror_mode": {
    "name": "ipython",
    "version": 3
   },
   "file_extension": ".py",
   "mimetype": "text/x-python",
   "name": "python",
   "nbconvert_exporter": "python",
   "pygments_lexer": "ipython3",
   "version": "3.8.8"
  }
 },
 "nbformat": 4,
 "nbformat_minor": 5
}
