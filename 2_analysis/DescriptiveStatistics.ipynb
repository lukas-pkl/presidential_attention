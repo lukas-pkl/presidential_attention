{
 "cells": [
  {
   "cell_type": "code",
   "execution_count": null,
   "id": "c367ce56-9be1-4ee9-980a-d3f1c42493d3",
   "metadata": {},
   "outputs": [],
   "source": [
    "import pandas as pd\n",
    "from pymongo import MongoClient\n",
    "from datetime import datetime\n",
    "from tqdm import tqdm\n",
    "\n",
    "import constants\n"
   ]
  },
  {
   "cell_type": "code",
   "execution_count": null,
   "id": "3fa748be-d259-4e14-9b1d-f0f9a0d45037",
   "metadata": {},
   "outputs": [],
   "source": [
    "mongo = MongoClient(constants.mongo_conn_string)\n",
    "mongo_lt_col_raw = mongo[constants.mongo_db][constants.mongo_lt_col]\n",
    "mongo_lt_col = mongo[constants.mongo_db][constants.mongo_lt_annotated_col]\n",
    "mongo_lv_col_raw = mongo[constants.mongo_db][constants.mongo_lv_col]\n",
    "mongo_lv_col = mongo[constants.mongo_db][constants.mongo_lv_annotated_col]"
   ]
  },
  {
   "cell_type": "markdown",
   "id": "c28211e7-6ade-41ca-83ae-a8f599913d4c",
   "metadata": {},
   "source": [
    "## All articles by year"
   ]
  },
  {
   "cell_type": "code",
   "execution_count": null,
   "id": "9429dd93-312a-418f-8dd3-5ffa5b746ab0",
   "metadata": {},
   "outputs": [],
   "source": [
    "# LT\n",
    "query = {}\n",
    "cursor = mongo_lt_col_raw.find(query, {\"_id\":0, \"source\":1, \"date\" : 1})\n",
    "df_lt_all = pd.DataFrame([i for i in tqdm(cursor)])\n",
    "df_lt_all[\"year\"] = df_lt_all.apply(lambda x : int(x[\"date\"].year), axis = 1)\n",
    "print(df_lt_all.shape)\n",
    "df_lt_all.head()"
   ]
  },
  {
   "cell_type": "code",
   "execution_count": null,
   "id": "3894c572-ce04-495d-bea8-9fe16f397e34",
   "metadata": {},
   "outputs": [],
   "source": [
    "year_d = {\"00-04\":0, \"05-09\":0, \"10-14\":0, \"15-19\" : 0, \"20-22\":0}\n",
    "for i in list(df_lt_all.year):\n",
    "    if i < 2005:\n",
    "        year_d[\"00-04\"]+=1\n",
    "    elif i < 2010:\n",
    "        year_d[\"05-09\"]+=1\n",
    "    elif i < 2015: \n",
    "        year_d[\"10-14\"]+=1\n",
    "    elif i < 2020 :\n",
    "        year_d[\"15-19\"]+=1\n",
    "    elif i < 2023:\n",
    "        year_d[\"20-22\"]+=1\n",
    "\n",
    "year_d  "
   ]
  },
  {
   "cell_type": "code",
   "execution_count": null,
   "id": "00874ce4-ced9-4606-8c90-2128bad9f585",
   "metadata": {},
   "outputs": [],
   "source": [
    "# LV\n",
    "query = {}\n",
    "cursor = mongo_lv_col_raw.find(query, {\"_id\":0, \"source\":1, \"date\" : 1})\n",
    "df_lv_all = pd.DataFrame([i for i in tqdm(cursor)])\n",
    "df_lv_all = df_lv_all.dropna(subset=[\"date\"])\n",
    "df_lv_all[\"year\"] = df_lv_all.apply(lambda x : int(x[\"date\"].year), axis = 1)\n",
    "print(df_lv_all.shape)\n",
    "df_lv_all.head()"
   ]
  },
  {
   "cell_type": "code",
   "execution_count": null,
   "id": "e9c51d65-ff57-4b14-9f7f-65c284ca9bef",
   "metadata": {},
   "outputs": [],
   "source": [
    "year_d = {\"00-04\":0, \"05-09\":0, \"10-14\":0, \"15-19\" : 0, \"20-22\":0}\n",
    "for i in list(df_lv_all.year):\n",
    "    if i < 2005:\n",
    "        year_d[\"00-04\"]+=1\n",
    "    elif i < 2010:\n",
    "        year_d[\"05-09\"]+=1\n",
    "    elif i < 2015: \n",
    "        year_d[\"10-14\"]+=1\n",
    "    elif i < 2020 :\n",
    "        year_d[\"15-19\"]+=1\n",
    "    elif i < 2023:\n",
    "        year_d[\"20-22\"]+=1\n",
    "\n",
    "year_d "
   ]
  },
  {
   "cell_type": "markdown",
   "id": "ca522043-e4ec-4378-a126-80940881f946",
   "metadata": {},
   "source": [
    "## Media and Presidential Attention"
   ]
  },
  {
   "cell_type": "code",
   "execution_count": null,
   "id": "4dbcfe12-a3f4-4ba5-96e1-c307c2a5b293",
   "metadata": {},
   "outputs": [],
   "source": [
    "#LT\n",
    "df_med_lt = pd.read_parquet(\"DataEnhanced.parquet\")\n",
    "print(df_med_lt.shape)\n",
    "df_med_lt.head()"
   ]
  },
  {
   "cell_type": "code",
   "execution_count": null,
   "id": "6f649f93-9f2e-4633-9006-49abd1c5d94f",
   "metadata": {},
   "outputs": [],
   "source": [
    "year_d = {\"00-04\":0, \"05-09\":0, \"10-14\":0, \"15-19\" : 0, \"20-22\":0}\n",
    "for i in list(df_med_lt.year):\n",
    "    if i < 2005:\n",
    "        year_d[\"00-04\"]+=1\n",
    "    elif i < 2010:\n",
    "        year_d[\"05-09\"]+=1\n",
    "    elif i < 2015: \n",
    "        year_d[\"10-14\"]+=1\n",
    "    elif i < 2020 :\n",
    "        year_d[\"15-19\"]+=1\n",
    "    elif i < 2023:\n",
    "        year_d[\"20-22\"]+=1\n",
    "year_d"
   ]
  },
  {
   "cell_type": "code",
   "execution_count": null,
   "id": "ab4567c3-ffe2-459c-bb44-8b343a402b36",
   "metadata": {},
   "outputs": [],
   "source": [
    "def get_pres_att(ents):\n",
    "    if \"Prezidentas\" in ents and len(ents)>1:\n",
    "        return 1\n",
    "    else:\n",
    "        return 0\n",
    "\n",
    "df_med_lt[\"PresAtt\"] = df_med_lt.apply(lambda x : get_pres_att(x[\"cabinet_ents\"]), axis =1)"
   ]
  },
  {
   "cell_type": "code",
   "execution_count": null,
   "id": "bb32a24d-f4f9-4e78-88c9-d68bafe37359",
   "metadata": {},
   "outputs": [],
   "source": [
    "year_d = {\"00-04\":0, \"05-09\":0, \"10-14\":0, \"15-19\" : 0, \"20-22\":0}\n",
    "for index, row in df_med_lt.iterrows():\n",
    "    i = row[\"year\"]\n",
    "    if i < 2005:\n",
    "        year_d[\"00-04\"]+=row[\"PresAtt\"]\n",
    "    elif i < 2010:\n",
    "        year_d[\"05-09\"]+=row[\"PresAtt\"]\n",
    "    elif i < 2015: \n",
    "        year_d[\"10-14\"]+=row[\"PresAtt\"]\n",
    "    elif i < 2020 :\n",
    "        year_d[\"15-19\"]+=row[\"PresAtt\"]\n",
    "    elif i < 2023:\n",
    "        year_d[\"20-22\"]+=row[\"PresAtt\"]\n",
    "year_d"
   ]
  },
  {
   "cell_type": "code",
   "execution_count": null,
   "id": "bf9826ad-7aa5-4a51-a6d7-b6cea9a95be3",
   "metadata": {},
   "outputs": [],
   "source": [
    "#LV\n",
    "df_med_lv = pd.read_parquet(\"DataEnhanced_LV.parquet\")\n",
    "print(df_med_lv.shape)\n",
    "df_med_lv.head()"
   ]
  },
  {
   "cell_type": "code",
   "execution_count": null,
   "id": "0f28e1e7-05a9-4e76-8cac-5f5d828af9cd",
   "metadata": {},
   "outputs": [],
   "source": [
    "year_d = {\"00-04\":0, \"05-09\":0, \"10-14\":0, \"15-19\" : 0, \"20-22\":0}\n",
    "for i in list(df_med_lv.year):\n",
    "    if i < 2005:\n",
    "        year_d[\"00-04\"]+=1\n",
    "    elif i < 2010:\n",
    "        year_d[\"05-09\"]+=1\n",
    "    elif i < 2015: \n",
    "        year_d[\"10-14\"]+=1\n",
    "    elif i < 2020 :\n",
    "        year_d[\"15-19\"]+=1\n",
    "    elif i < 2023:\n",
    "        year_d[\"20-22\"]+=1\n",
    "year_d"
   ]
  },
  {
   "cell_type": "code",
   "execution_count": null,
   "id": "24304b30-cde1-4956-b1d5-333916ccc9e9",
   "metadata": {},
   "outputs": [],
   "source": [
    "def get_pres_att(ents):\n",
    "    if \"Prezidents\" in ents and len(ents)>1:\n",
    "        return 1\n",
    "    else:\n",
    "        return 0\n",
    "\n",
    "df_med_lv[\"PresAtt\"] = df_med_lv.apply(lambda x : get_pres_att(x[\"cabinet_ents\"]), axis =1)"
   ]
  },
  {
   "cell_type": "code",
   "execution_count": null,
   "id": "0989fd6e-5299-4cd6-9d64-f1662b37bd70",
   "metadata": {},
   "outputs": [],
   "source": [
    "year_d = {\"00-04\":0, \"05-09\":0, \"10-14\":0, \"15-19\" : 0, \"20-22\":0}\n",
    "for index, row in df_med_lv.iterrows():\n",
    "    i = row[\"year\"]\n",
    "    if i < 2005:\n",
    "        year_d[\"00-04\"]+=row[\"PresAtt\"]\n",
    "    elif i < 2010:\n",
    "        year_d[\"05-09\"]+=row[\"PresAtt\"]\n",
    "    elif i < 2015: \n",
    "        year_d[\"10-14\"]+=row[\"PresAtt\"]\n",
    "    elif i < 2020 :\n",
    "        year_d[\"15-19\"]+=row[\"PresAtt\"]\n",
    "    elif i < 2023:\n",
    "        year_d[\"20-22\"]+=row[\"PresAtt\"]\n",
    "year_d"
   ]
  },
  {
   "cell_type": "code",
   "execution_count": null,
   "id": "4a5ef169-ce7a-4d13-a43d-3d4510622535",
   "metadata": {},
   "outputs": [],
   "source": [
    "sum(year_d.values())"
   ]
  },
  {
   "cell_type": "code",
   "execution_count": null,
   "id": "0da6182c-3851-4c29-a70a-ee6bd3a999a3",
   "metadata": {},
   "outputs": [],
   "source": []
  }
 ],
 "metadata": {
  "kernelspec": {
   "display_name": "Python 3",
   "language": "python",
   "name": "python3"
  },
  "language_info": {
   "codemirror_mode": {
    "name": "ipython",
    "version": 3
   },
   "file_extension": ".py",
   "mimetype": "text/x-python",
   "name": "python",
   "nbconvert_exporter": "python",
   "pygments_lexer": "ipython3",
   "version": "3.8.8"
  }
 },
 "nbformat": 4,
 "nbformat_minor": 5
}
