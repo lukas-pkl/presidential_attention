{
 "cells": [
  {
   "cell_type": "code",
   "execution_count": null,
   "id": "988c2b2e-1ab3-4c20-b20b-20b9d28350f2",
   "metadata": {},
   "outputs": [],
   "source": [
    "import pandas as pd\n",
    "import numpy as np\n",
    "import matplotlib.pyplot as plt\n",
    "import seaborn as sns\n",
    "from scipy.stats import ttest_ind, pearsonr\n",
    "import statsmodels.api as sm\n",
    "\n",
    "%matplotlib inline"
   ]
  },
  {
   "cell_type": "markdown",
   "id": "b204349b-8bc0-4b47-bfc0-82917daaaa26",
   "metadata": {},
   "source": [
    "# TO DOs:"
   ]
  },
  {
   "cell_type": "markdown",
   "id": "fa1c8a8d-a9f4-480e-9e59-d66806962dda",
   "metadata": {},
   "source": [
    "* Check Vaira-Vike\n",
    "* Check LT-PMs in 2000 - 2005\n",
    "* Do more scraping and re-run\n"
   ]
  },
  {
   "cell_type": "code",
   "execution_count": null,
   "id": "f9762d2d-76d3-4a62-9b36-5f60c33ef4c7",
   "metadata": {},
   "outputs": [],
   "source": [
    "df = pd.read_parquet(\"MainData.parquet\")\n",
    "print(df.shape)\n",
    "df.head()"
   ]
  },
  {
   "cell_type": "code",
   "execution_count": null,
   "id": "96866292-a056-4400-ad66-714549a11048",
   "metadata": {},
   "outputs": [],
   "source": [
    "# Trust in president data from Mazvydas\n",
    "year = [1998, 1999, 2000, 2001, 2002, 2003, 2004, 2005, 2006, 2007, 2008, 2009, 2010, 2011,\n",
    "        2012, 2013, 2014, 2015, 2016, 2017, 2018]\n",
    "\n",
    "president_trust = [72.3, 79.6, 54.8, 49.9, 54.5, 54.4, 36.7, 58.0, 56.9, 58.1, 55.8, 57.6, 71.8, \n",
    "                   69.9, 61.4, 53.9, 52.3, 53.0, 48.7, 57.7, 53.1]\n",
    "\n",
    "pres_pm_diff = [45.85, 56.1, 37.4, 30.87, 34.22, 27.88, 8.68, 38.33, 38.84, 38.15, 42.72, 45.01, \n",
    "                60.84, 58.59, 47.39, 31.58, 29.88, 27.03, 28.52, 34.21, 32.45]\n",
    "\n",
    "pres_pm_diff_r = [2.7321496033, 3.3862186304, 3.1531375936, 2.6255924171, 2.6857142857, 2.0528700906, \n",
    "                  1.3098893252, 2.9506361323, 3.1506090808, 2.9151606426, 4.2735632184, 4.5864541833, \n",
    "                  6.5409836066,  6.1941489362, 4.3777619387, 2.4136078782, 2.3351206434, 2.0408163265, \n",
    "                  2.4153846154, 2.4576054538, 2.5691489362,]\n",
    "\n",
    "lt = [True]*len(year)\n",
    "\n",
    "df_p_trust = pd.DataFrame()\n",
    "df_p_trust[\"year\"] = year\n",
    "df_p_trust[\"pres_trust\"] = president_trust\n",
    "df_p_trust[\"pres_pm_diff\"] = pres_pm_diff\n",
    "df_p_trust[\"pres_pm_diff\"] = pres_pm_diff_r\n",
    "df_p_trust[\"LT\"] = lt\n",
    "print(df_p_trust.shape)\n",
    "df_p_trust.head(10)\n"
   ]
  },
  {
   "cell_type": "code",
   "execution_count": null,
   "id": "89c58edd-be31-4bf3-9589-e4ef49602862",
   "metadata": {},
   "outputs": [],
   "source": [
    "df = pd.merge(df, df_p_trust, on=[\"year\", \"LT\"], how = \"left\")\n",
    "print(df.shape)\n",
    "df.head()"
   ]
  },
  {
   "cell_type": "code",
   "execution_count": null,
   "id": "df7e0dc8-9675-4629-b452-9bcd3205a307",
   "metadata": {},
   "outputs": [],
   "source": [
    "df.groupby([\"LT\"]).agg({\"PresAtt\": \"mean\"})"
   ]
  },
  {
   "cell_type": "code",
   "execution_count": null,
   "id": "250d1631-8b72-4b48-bc44-e11c81cf1d5b",
   "metadata": {},
   "outputs": [],
   "source": [
    "lt = list(df[df[\"LT\"]==True][\"PresAtt\"])\n",
    "lv = list(df[df[\"LT\"]==False][\"PresAtt\"])\n",
    "ttest_ind(lt, lv)"
   ]
  },
  {
   "cell_type": "code",
   "execution_count": null,
   "id": "92332bc4-8ac8-423b-afcd-199c4493dddf",
   "metadata": {},
   "outputs": [],
   "source": [
    "df[\"LT\"] = df[\"LT\"].astype(int)\n",
    "df[\"pandemic_period\"] = df[\"pandemic_period\"].astype(int)"
   ]
  },
  {
   "cell_type": "code",
   "execution_count": null,
   "id": "d6948125-68b9-4536-bbe3-17bef879706d",
   "metadata": {},
   "outputs": [],
   "source": [
    "df.columns"
   ]
  },
  {
   "cell_type": "code",
   "execution_count": null,
   "id": "28b0f15f-099f-4c53-9cc8-92c2dd9ef1e0",
   "metadata": {},
   "outputs": [],
   "source": [
    "#df = df[df[\"year\"]>2006]\n",
    "print(df.shape)"
   ]
  },
  {
   "cell_type": "markdown",
   "id": "8d54aa59-61ef-41f4-8f74-d2fe1ad6a5f6",
   "metadata": {},
   "source": [
    "# General Model"
   ]
  },
  {
   "cell_type": "code",
   "execution_count": null,
   "id": "b41b0127-c273-4f80-a0ef-c2ffdbeadd6f",
   "metadata": {},
   "outputs": [],
   "source": [
    "y = df[\"PresAtt\"]\n",
    "X = df[[\"LT\", \"first_year\", \"pm_strength\", \"fp_def\"]] #\"DaliaGryb\", \"pandemic_period\"\n",
    "X = sm.add_constant(X)\n",
    "model = sm.OLS(y, X)\n",
    "results = model.fit()\n",
    "print(results.summary())"
   ]
  },
  {
   "cell_type": "code",
   "execution_count": null,
   "id": "c2e59f4f-4b0d-49bc-b8d4-f899af9f800d",
   "metadata": {},
   "outputs": [],
   "source": [
    "df2 = df.dropna(subset=[\"pres_trust\"])\n",
    "print(df2.shape)\n",
    "df2.head()"
   ]
  },
  {
   "cell_type": "code",
   "execution_count": null,
   "id": "e2f1ed9f-0b37-41af-9075-fd5451243680",
   "metadata": {},
   "outputs": [],
   "source": [
    "\n",
    "y = df2[\"PresAtt\"]\n",
    "X = df2[[\"first_year\", \"pm_strength\", \"fp_def\", \"pres_trust\"]] #\"DaliaGryb\", \"pandemic_period\"\n",
    "X = sm.add_constant(X)\n",
    "model = sm.OLS(y, X)\n",
    "results = model.fit()\n",
    "print(results.summary())"
   ]
  },
  {
   "cell_type": "code",
   "execution_count": null,
   "id": "3a0f619a-8bb4-4c44-a59d-51081fa57638",
   "metadata": {},
   "outputs": [],
   "source": [
    "\n",
    "y = df2[\"PresAtt\"]\n",
    "X = df2[[\"first_year\", \"pm_strength\", \"fp_def\", \"pres_pm_diff\"]] #\"DaliaGryb\", \"pandemic_period\"\n",
    "X = sm.add_constant(X)\n",
    "model = sm.OLS(y, X)\n",
    "results = model.fit()\n",
    "print(results.summary())"
   ]
  },
  {
   "cell_type": "code",
   "execution_count": null,
   "id": "05f9b959-e2c6-432c-9dac-f3f92fe5d541",
   "metadata": {},
   "outputs": [],
   "source": [
    "# Define function to output plot of the model coefficients\n",
    "\n",
    "def coefplot(results, figure_title):\n",
    "    '''\n",
    "    Takes in results of OLS model and returns a plot of \n",
    "    the coefficients with 95% confidence intervals.\n",
    "    \n",
    "    Removes intercept, so if uncentered will return error.\n",
    "    '''\n",
    "    # Create dataframe of results summary \n",
    "    coef_df = pd.DataFrame(results.summary().tables[1].data)\n",
    "    \n",
    "    # Add column names\n",
    "    coef_df.columns = coef_df.iloc[0]\n",
    "\n",
    "    # Drop the extra row with column labels\n",
    "    coef_df=coef_df.drop(0)\n",
    "\n",
    "    # Set index to variable names \n",
    "    coef_df = coef_df.set_index(coef_df.columns[0])\n",
    "\n",
    "    # Change datatype from object to float\n",
    "    coef_df = coef_df.astype(float)\n",
    "\n",
    "    # Get errors; (coef - lower bound of conf interval)\n",
    "    errors = coef_df['coef'] - coef_df['[0.025']\n",
    "    \n",
    "    # Append errors column to dataframe\n",
    "    coef_df['errors'] = errors\n",
    "\n",
    "    # Drop the constant for plotting\n",
    "    coef_df = coef_df.drop(['const'])\n",
    "\n",
    "    # Sort values by coef ascending\n",
    "    coef_df = coef_df.sort_values(by=['coef'])\n",
    "\n",
    "    ### Plot Coefficients ###\n",
    "\n",
    "    # x-labels\n",
    "    variables = list(coef_df.index.values)\n",
    "    \n",
    "    # Add variables column to dataframe\n",
    "    coef_df['variables'] = variables\n",
    "    \n",
    "    # Set sns plot style back to 'poster'\n",
    "    # This will make bars wide on plot\n",
    "    sns.set_context(\"poster\")\n",
    "\n",
    "    # Define figure, axes, and plot\n",
    "    fig, ax = plt.subplots(figsize=(15, 10))\n",
    "    \n",
    "    # Error bars for 95% confidence interval\n",
    "    # Can increase capsize to add whiskers\n",
    "    coef_df.plot(x='variables', y='coef', kind='bar',\n",
    "                 ax=ax, color='none', fontsize=22, \n",
    "                 ecolor='steelblue',capsize=0,\n",
    "                 yerr='errors', legend=False)\n",
    "    \n",
    "    # Set title & labels\n",
    "    plt.title(figure_title,fontsize=30)\n",
    "    ax.set_ylabel('Coefficients',fontsize=22)\n",
    "    ax.set_xlabel('',fontsize=22)\n",
    "    ax.tick_params(axis='x', labelrotation=45)\n",
    "    \n",
    "    # Coefficients\n",
    "    ax.scatter(x=pd.np.arange(coef_df.shape[0]), \n",
    "               marker='o', s=80, \n",
    "               y=coef_df['coef'], color='steelblue')\n",
    "    \n",
    "    # Line to define zero on the y-axis\n",
    "    ax.axhline(y=0, linestyle='--', color='red', linewidth=1)\n",
    "    \n",
    "    plt.ylim([-0.025, 0.175])\n",
    "    \n",
    "    return plt.show()\n"
   ]
  },
  {
   "cell_type": "code",
   "execution_count": null,
   "id": "e9fe5e52-47ef-45c4-8d31-99a3662cb2d7",
   "metadata": {},
   "outputs": [],
   "source": [
    "coefplot(results, \"Main Model\")"
   ]
  },
  {
   "cell_type": "code",
   "execution_count": null,
   "id": "74ef44c3-3357-4ee0-96f4-a914b768aff4",
   "metadata": {},
   "outputs": [],
   "source": [
    "y = df[\"PresAtt\"]\n",
    "X = df[[\"LT\", \"first_year\", \"pm_strength\", \"fp_def\", \"DaliaGryb\"]]\n",
    "X = sm.add_constant(X)\n",
    "model = sm.OLS(y, X)\n",
    "results = model.fit()\n",
    "print(results.summary())"
   ]
  },
  {
   "cell_type": "code",
   "execution_count": null,
   "id": "b330116c-5d0c-4462-9cd2-c07a890fe24b",
   "metadata": {},
   "outputs": [],
   "source": [
    "y = df[\"PresAtt\"]\n",
    "X = df[[\"LT\", \"first_year\", \"pm_strength\", \"fp_def\", \"pandemic_period\"]]\n",
    "X = sm.add_constant(X)\n",
    "model = sm.OLS(y, X)\n",
    "results = model.fit()\n",
    "print(results.summary())"
   ]
  },
  {
   "cell_type": "markdown",
   "id": "17ef5dcf-a929-4720-8b48-9c071d7a2e7c",
   "metadata": {},
   "source": [
    "# By Sphere"
   ]
  },
  {
   "cell_type": "code",
   "execution_count": null,
   "id": "43680b90-c394-41c8-9e08-93980ba04a87",
   "metadata": {},
   "outputs": [],
   "source": [
    "policy_spheres = ['Prime-Minister',\n",
    "                  'Foreign-Affairs', \n",
    "                  'Defense',\n",
    "                'Healthcare', \n",
    "                'Internal-Affairs', \n",
    "                'Economy', \n",
    "                'Finance', \n",
    "                'Social-Security',\n",
    "                'Research-Education', \n",
    "                'Environment', \n",
    "                'Justice', \n",
    "                'Culture', \n",
    "                'Agriculture', \n",
    "                'Other']\n",
    "\n",
    "for sphere in policy_spheres:\n",
    "    print(sphere)\n",
    "    \n",
    "    y = df[\"President-\"+sphere]\n",
    "    \n",
    "    X = df[[sphere, \"LT\", \"first_year\", \"pm_strength\", \"pandemic_period\"]] # \"DaliaGryb\"]]\n",
    "    \n",
    "    X = sm.add_constant(X)\n",
    "    model = sm.OLS(y, X)\n",
    "    results = model.fit()\n",
    "    \n",
    "    coefplot(results, sphere)\n",
    "    \n",
    "    #print(results.summary())\n",
    "    #print(\"*\"*120)\n",
    "    #print()"
   ]
  },
  {
   "cell_type": "code",
   "execution_count": null,
   "id": "2d188c33-1ebf-4852-b961-98d768f48c79",
   "metadata": {},
   "outputs": [],
   "source": []
  },
  {
   "cell_type": "code",
   "execution_count": null,
   "id": "030558d4-ccec-46a6-aacc-11402d861ae1",
   "metadata": {},
   "outputs": [],
   "source": [
    "for m in columns2:\n",
    "    print(m)\n",
    "    y = dfg[[\"President-\"+m]]\n",
    "    X = dfg[[m, \"grybauskaite\"]]\n",
    "    X = sm.add_constant(X)\n",
    "    \n",
    "    model = sm.OLS(y, X)\n",
    "    results = model.fit()\n",
    "    print(results.summary())\n",
    "    \n",
    "    "
   ]
  },
  {
   "cell_type": "code",
   "execution_count": null,
   "id": "ae01e672-432c-4c8a-961c-8926663c81cd",
   "metadata": {},
   "outputs": [],
   "source": [
    "\n",
    "columns = [ 'President-Agriculture',\n",
    " 'President-Culture',\n",
    " 'President-Defense',\n",
    " 'President-Economy',\n",
    " 'President-Environment',\n",
    " 'President-Finance',\n",
    " 'President-Foreign-Affairs',\n",
    " 'President-Healthcare',\n",
    " 'President-Internal-Affairs',\n",
    " 'President-Justice',\n",
    " 'President-Other',\n",
    " 'President-Prime-Minister',\n",
    " 'President-Research-Education',\n",
    " 'President-Social-Security',]\n",
    "\n",
    "\n",
    "data = {item.replace(\"President-\", \"\") : df[item].mean() for item in columns}\n",
    "data_s = sorted(data.items(), key = lambda x:x[1])\n",
    "\n",
    "label_vals = [i[0] for i in data_s]\n",
    "values = [i[1] for i in data_s]\n",
    "\n",
    "plt.rcParams[\"figure.figsize\"] = (8,8)\n",
    "y_pos = np.arange(len(values))\n",
    "\n",
    "plt.barh(y_pos, values)\n",
    "plt.yticks(y_pos, label_vals)\n",
    "\n",
    "plt.show((16,16))\n"
   ]
  },
  {
   "cell_type": "code",
   "execution_count": null,
   "id": "7eb1c417-4d29-488d-a2c0-d4cf7b1c0695",
   "metadata": {},
   "outputs": [],
   "source": [
    "columns = ['President-Prime-Minister',\n",
    "            'President-Foreign-Affairs',\n",
    "            'President-Defense', \n",
    "            'President-Internal-Affairs',\n",
    "            'President-Healthcare',]\n",
    "\n",
    "\n",
    "agg_dict = {i : \"mean\" for i in columns}\n",
    "\n",
    "df2 = df.groupby([\"year\"]).agg(agg_dict)\n",
    "#print(df2.shape)\n",
    "#df2.head()\n",
    "\n",
    "years = list(df2.index)\n",
    "data = [list(df2[i]) for i in columns]\n",
    "\n",
    "\n",
    "fig, ax = plt.subplots(figsize=(14, 8))\n",
    "\n",
    "for i in range(len(columns)):\n",
    "    ax.plot(years, data[i], label=columns[i])\n",
    "\n",
    "plt.legend()"
   ]
  },
  {
   "cell_type": "code",
   "execution_count": null,
   "id": "a68fb4ea-3772-4b88-872f-b05b7dff27b1",
   "metadata": {},
   "outputs": [],
   "source": []
  }
 ],
 "metadata": {
  "kernelspec": {
   "display_name": "Python 3",
   "language": "python",
   "name": "python3"
  },
  "language_info": {
   "codemirror_mode": {
    "name": "ipython",
    "version": 3
   },
   "file_extension": ".py",
   "mimetype": "text/x-python",
   "name": "python",
   "nbconvert_exporter": "python",
   "pygments_lexer": "ipython3",
   "version": "3.8.8"
  }
 },
 "nbformat": 4,
 "nbformat_minor": 5
}
