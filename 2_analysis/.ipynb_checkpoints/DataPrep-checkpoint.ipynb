{
 "cells": [
  {
   "cell_type": "code",
   "execution_count": 30,
   "id": "3ea91b40-480b-481d-beca-8a5466e34c16",
   "metadata": {},
   "outputs": [],
   "source": [
    "from datetime import datetime\n",
    "\n",
    "from pymongo import MongoClient\n",
    "import pandas as pd\n",
    "\n",
    "import constants\n",
    "from tqdm import tqdm\n"
   ]
  },
  {
   "cell_type": "code",
   "execution_count": 31,
   "id": "82a9bc0a-ba13-4d7f-b4b5-d03bdb02f49f",
   "metadata": {},
   "outputs": [],
   "source": [
    "mongo = MongoClient(constants.mongo_conn_string)\n",
    "mongo_lt_col = mongo[constants.mongo_db][constants.mongo_lt_annotated_col]"
   ]
  },
  {
   "cell_type": "code",
   "execution_count": 32,
   "id": "44c4a696-17af-443c-962c-a2e6684faa4d",
   "metadata": {},
   "outputs": [
    {
     "name": "stdout",
     "output_type": "stream",
     "text": [
      "89322\n",
      "(89322, 5)\n"
     ]
    },
    {
     "data": {
      "text/html": [
       "<div>\n",
       "<style scoped>\n",
       "    .dataframe tbody tr th:only-of-type {\n",
       "        vertical-align: middle;\n",
       "    }\n",
       "\n",
       "    .dataframe tbody tr th {\n",
       "        vertical-align: top;\n",
       "    }\n",
       "\n",
       "    .dataframe thead th {\n",
       "        text-align: right;\n",
       "    }\n",
       "</style>\n",
       "<table border=\"1\" class=\"dataframe\">\n",
       "  <thead>\n",
       "    <tr style=\"text-align: right;\">\n",
       "      <th></th>\n",
       "      <th>source_id</th>\n",
       "      <th>date</th>\n",
       "      <th>person_id</th>\n",
       "      <th>person_name</th>\n",
       "      <th>ministry</th>\n",
       "    </tr>\n",
       "  </thead>\n",
       "  <tbody>\n",
       "    <tr>\n",
       "      <th>0</th>\n",
       "      <td>614bbf4a4307555f8af6dd8f</td>\n",
       "      <td>2000-01-27 13:20:46</td>\n",
       "      <td>zum</td>\n",
       "      <td>Žemės ūkio ministerija</td>\n",
       "      <td>Žemės ūkio</td>\n",
       "    </tr>\n",
       "    <tr>\n",
       "      <th>1</th>\n",
       "      <td>614bf1fc4307555f8af74454</td>\n",
       "      <td>2000-02-01 21:30:03</td>\n",
       "      <td>adamkus_v</td>\n",
       "      <td>Valdas Adamkus</td>\n",
       "      <td>Prezidentas</td>\n",
       "    </tr>\n",
       "    <tr>\n",
       "      <th>2</th>\n",
       "      <td>614b53a14307555f8af628a1</td>\n",
       "      <td>2000-02-02 15:55:13</td>\n",
       "      <td>smm</td>\n",
       "      <td>Švietimo ir mokslo ministerija</td>\n",
       "      <td>Švietimo ir mokslo</td>\n",
       "    </tr>\n",
       "    <tr>\n",
       "      <th>3</th>\n",
       "      <td>614bdfcb4307555f8af720cd</td>\n",
       "      <td>2000-02-07 16:00:50</td>\n",
       "      <td>adamkus_v</td>\n",
       "      <td>Valdas Adamkus</td>\n",
       "      <td>Prezidentas</td>\n",
       "    </tr>\n",
       "    <tr>\n",
       "      <th>4</th>\n",
       "      <td>614b8e8c4307555f8af67dde</td>\n",
       "      <td>2000-02-07 21:23:02</td>\n",
       "      <td>sam</td>\n",
       "      <td>Sveikatos apsaugos ministerija</td>\n",
       "      <td>Sveikatos apsaugos</td>\n",
       "    </tr>\n",
       "  </tbody>\n",
       "</table>\n",
       "</div>"
      ],
      "text/plain": [
       "                  source_id                date  person_id  \\\n",
       "0  614bbf4a4307555f8af6dd8f 2000-01-27 13:20:46        zum   \n",
       "1  614bf1fc4307555f8af74454 2000-02-01 21:30:03  adamkus_v   \n",
       "2  614b53a14307555f8af628a1 2000-02-02 15:55:13        smm   \n",
       "3  614bdfcb4307555f8af720cd 2000-02-07 16:00:50  adamkus_v   \n",
       "4  614b8e8c4307555f8af67dde 2000-02-07 21:23:02        sam   \n",
       "\n",
       "                      person_name            ministry  \n",
       "0          Žemės ūkio ministerija          Žemės ūkio  \n",
       "1                  Valdas Adamkus         Prezidentas  \n",
       "2  Švietimo ir mokslo ministerija  Švietimo ir mokslo  \n",
       "3                  Valdas Adamkus         Prezidentas  \n",
       "4  Sveikatos apsaugos ministerija  Sveikatos apsaugos  "
      ]
     },
     "execution_count": 32,
     "metadata": {},
     "output_type": "execute_result"
    }
   ],
   "source": [
    "query = {}\n",
    "\n",
    "cursor = mongo_lt_col.find(query, {\"_id\":0, \"text\":0})\n",
    "\n",
    "data = [i for i in cursor]\n",
    "print(len(data))\n",
    "\n",
    "df = pd.DataFrame(data)\n",
    "print(df.shape)\n",
    "df.head()"
   ]
  },
  {
   "cell_type": "code",
   "execution_count": 36,
   "id": "d9a6c039-a901-4923-ab44-413169dc0f43",
   "metadata": {},
   "outputs": [],
   "source": [
    "#df.to_parquet(\"Data.parquet\")"
   ]
  },
  {
   "cell_type": "markdown",
   "id": "fdfbc00c-4f08-4354-8ab2-dfed0dcdd57d",
   "metadata": {},
   "source": [
    "# Basic Data"
   ]
  },
  {
   "cell_type": "code",
   "execution_count": 37,
   "id": "48ecfdef-68b6-4eb4-a589-21b3e989021b",
   "metadata": {},
   "outputs": [
    {
     "data": {
      "text/plain": [
       "<AxesSubplot:>"
      ]
     },
     "execution_count": 37,
     "metadata": {},
     "output_type": "execute_result"
    },
    {
     "data": {
      "image/png": "[encoded data removed]",
      "text/plain": [
       "<Figure size 432x288 with 1 Axes>"
      ]
     },
     "metadata": {
      "needs_background": "light"
     },
     "output_type": "display_data"
    }
   ],
   "source": [
    "df.year.hist(bins=14)"
   ]
  },
  {
   "cell_type": "code",
   "execution_count": 38,
   "id": "6690744a-b2e3-4dbd-8710-3a592ac56e57",
   "metadata": {},
   "outputs": [
    {
     "data": {
      "text/plain": [
       "Saulius Skvernelis      17194\n",
       "Andrius Kubilius        10264\n",
       "Algirdas Butkevičius    10149\n",
       "Algirdas Brazauskas      9302\n",
       "Ingrida Šimonytė         6666\n",
       "Gediminas Kirkilas       3653\n",
       "Rolandas Paksas           932\n",
       "                          669\n",
       "Name: cabinet, dtype: int64"
      ]
     },
     "execution_count": 38,
     "metadata": {},
     "output_type": "execute_result"
    }
   ],
   "source": [
    "df.cabinet.value_counts()"
   ]
  },
  {
   "cell_type": "code",
   "execution_count": 39,
   "id": "02c19b5d-a074-44ac-8ed2-ccdcf6cda126",
   "metadata": {},
   "outputs": [
    {
     "data": {
      "text/plain": [
       "Dalia Grybauskaite    28200\n",
       "Gitanas Nausėda       14397\n",
       "Valdas Adamkus        13362\n",
       "Rolandas Paksas        2586\n",
       "                        284\n",
       "Name: president, dtype: int64"
      ]
     },
     "execution_count": 39,
     "metadata": {},
     "output_type": "execute_result"
    }
   ],
   "source": [
    "dfg.president.value_counts()"
   ]
  },
  {
   "cell_type": "markdown",
   "id": "e8bbe632-bc82-4899-b727-b5ba25a408c2",
   "metadata": {},
   "source": [
    "# Adding dummies for media & presidential attention for each policy sphere"
   ]
  },
  {
   "cell_type": "code",
   "execution_count": 40,
   "id": "7d8ffca8-3e5e-4b51-9ce3-9e8b49a87612",
   "metadata": {},
   "outputs": [
    {
     "data": {
      "text/html": [
       "<div>\n",
       "<style scoped>\n",
       "    .dataframe tbody tr th:only-of-type {\n",
       "        vertical-align: middle;\n",
       "    }\n",
       "\n",
       "    .dataframe tbody tr th {\n",
       "        vertical-align: top;\n",
       "    }\n",
       "\n",
       "    .dataframe thead th {\n",
       "        text-align: right;\n",
       "    }\n",
       "</style>\n",
       "<table border=\"1\" class=\"dataframe\">\n",
       "  <thead>\n",
       "    <tr style=\"text-align: right;\">\n",
       "      <th></th>\n",
       "      <th>_id</th>\n",
       "      <th>cabinet_ents</th>\n",
       "      <th>date</th>\n",
       "      <th>year</th>\n",
       "      <th>month</th>\n",
       "      <th>day</th>\n",
       "      <th>cabinet</th>\n",
       "      <th>cabinet_no</th>\n",
       "      <th>president</th>\n",
       "      <th>Užsienio reikalų</th>\n",
       "      <th>...</th>\n",
       "      <th>president_Energetikos</th>\n",
       "      <th>president_Žemės ūkio</th>\n",
       "      <th>president_Ekonomikos ir inovacijų</th>\n",
       "      <th>president_Finansų</th>\n",
       "      <th>president_Žemės Ūkio</th>\n",
       "      <th>president_Krašto apsaugos</th>\n",
       "      <th>president_Socialinės apsaugos ir darbo</th>\n",
       "      <th>president_Aplinkos</th>\n",
       "      <th>president_Susisiekimo</th>\n",
       "      <th>president_Ūkio</th>\n",
       "    </tr>\n",
       "  </thead>\n",
       "  <tbody>\n",
       "    <tr>\n",
       "      <th>47100</th>\n",
       "      <td>614bbf4a4307555f8af6dd8f</td>\n",
       "      <td>[Žemės ūkio]</td>\n",
       "      <td>2000-01-27 13:20:46</td>\n",
       "      <td>2000</td>\n",
       "      <td>1</td>\n",
       "      <td>27</td>\n",
       "      <td></td>\n",
       "      <td></td>\n",
       "      <td>Valdas Adamkus</td>\n",
       "      <td>0</td>\n",
       "      <td>...</td>\n",
       "      <td>0</td>\n",
       "      <td>0</td>\n",
       "      <td>0</td>\n",
       "      <td>0</td>\n",
       "      <td>0</td>\n",
       "      <td>0</td>\n",
       "      <td>0</td>\n",
       "      <td>0</td>\n",
       "      <td>0</td>\n",
       "      <td>0</td>\n",
       "    </tr>\n",
       "    <tr>\n",
       "      <th>55970</th>\n",
       "      <td>614bf1fc4307555f8af74454</td>\n",
       "      <td>[Prezidentas]</td>\n",
       "      <td>2000-02-01 21:30:03</td>\n",
       "      <td>2000</td>\n",
       "      <td>2</td>\n",
       "      <td>1</td>\n",
       "      <td></td>\n",
       "      <td></td>\n",
       "      <td>Valdas Adamkus</td>\n",
       "      <td>0</td>\n",
       "      <td>...</td>\n",
       "      <td>0</td>\n",
       "      <td>0</td>\n",
       "      <td>0</td>\n",
       "      <td>0</td>\n",
       "      <td>0</td>\n",
       "      <td>0</td>\n",
       "      <td>0</td>\n",
       "      <td>0</td>\n",
       "      <td>0</td>\n",
       "      <td>0</td>\n",
       "    </tr>\n",
       "    <tr>\n",
       "      <th>31304</th>\n",
       "      <td>614b53a14307555f8af628a1</td>\n",
       "      <td>[Švietimo ir mokslo]</td>\n",
       "      <td>2000-02-02 15:55:13</td>\n",
       "      <td>2000</td>\n",
       "      <td>2</td>\n",
       "      <td>2</td>\n",
       "      <td></td>\n",
       "      <td></td>\n",
       "      <td>Valdas Adamkus</td>\n",
       "      <td>0</td>\n",
       "      <td>...</td>\n",
       "      <td>0</td>\n",
       "      <td>0</td>\n",
       "      <td>0</td>\n",
       "      <td>0</td>\n",
       "      <td>0</td>\n",
       "      <td>0</td>\n",
       "      <td>0</td>\n",
       "      <td>0</td>\n",
       "      <td>0</td>\n",
       "      <td>0</td>\n",
       "    </tr>\n",
       "    <tr>\n",
       "      <th>52888</th>\n",
       "      <td>614bdfcb4307555f8af720cd</td>\n",
       "      <td>[Prezidentas]</td>\n",
       "      <td>2000-02-07 16:00:50</td>\n",
       "      <td>2000</td>\n",
       "      <td>2</td>\n",
       "      <td>7</td>\n",
       "      <td></td>\n",
       "      <td></td>\n",
       "      <td>Valdas Adamkus</td>\n",
       "      <td>0</td>\n",
       "      <td>...</td>\n",
       "      <td>0</td>\n",
       "      <td>0</td>\n",
       "      <td>0</td>\n",
       "      <td>0</td>\n",
       "      <td>0</td>\n",
       "      <td>0</td>\n",
       "      <td>0</td>\n",
       "      <td>0</td>\n",
       "      <td>0</td>\n",
       "      <td>0</td>\n",
       "    </tr>\n",
       "    <tr>\n",
       "      <th>38735</th>\n",
       "      <td>614b8e8c4307555f8af67dde</td>\n",
       "      <td>[Sveikatos apsaugos]</td>\n",
       "      <td>2000-02-07 21:23:02</td>\n",
       "      <td>2000</td>\n",
       "      <td>2</td>\n",
       "      <td>7</td>\n",
       "      <td></td>\n",
       "      <td></td>\n",
       "      <td>Valdas Adamkus</td>\n",
       "      <td>0</td>\n",
       "      <td>...</td>\n",
       "      <td>0</td>\n",
       "      <td>0</td>\n",
       "      <td>0</td>\n",
       "      <td>0</td>\n",
       "      <td>0</td>\n",
       "      <td>0</td>\n",
       "      <td>0</td>\n",
       "      <td>0</td>\n",
       "      <td>0</td>\n",
       "      <td>0</td>\n",
       "    </tr>\n",
       "  </tbody>\n",
       "</table>\n",
       "<p>5 rows × 46 columns</p>\n",
       "</div>"
      ],
      "text/plain": [
       "                            _id          cabinet_ents                date  \\\n",
       "47100  614bbf4a4307555f8af6dd8f          [Žemės ūkio] 2000-01-27 13:20:46   \n",
       "55970  614bf1fc4307555f8af74454         [Prezidentas] 2000-02-01 21:30:03   \n",
       "31304  614b53a14307555f8af628a1  [Švietimo ir mokslo] 2000-02-02 15:55:13   \n",
       "52888  614bdfcb4307555f8af720cd         [Prezidentas] 2000-02-07 16:00:50   \n",
       "38735  614b8e8c4307555f8af67dde  [Sveikatos apsaugos] 2000-02-07 21:23:02   \n",
       "\n",
       "       year  month  day cabinet cabinet_no       president  Užsienio reikalų  \\\n",
       "47100  2000      1   27                     Valdas Adamkus                 0   \n",
       "55970  2000      2    1                     Valdas Adamkus                 0   \n",
       "31304  2000      2    2                     Valdas Adamkus                 0   \n",
       "52888  2000      2    7                     Valdas Adamkus                 0   \n",
       "38735  2000      2    7                     Valdas Adamkus                 0   \n",
       "\n",
       "       ...  president_Energetikos  president_Žemės ūkio  \\\n",
       "47100  ...                      0                     0   \n",
       "55970  ...                      0                     0   \n",
       "31304  ...                      0                     0   \n",
       "52888  ...                      0                     0   \n",
       "38735  ...                      0                     0   \n",
       "\n",
       "       president_Ekonomikos ir inovacijų  president_Finansų  \\\n",
       "47100                                  0                  0   \n",
       "55970                                  0                  0   \n",
       "31304                                  0                  0   \n",
       "52888                                  0                  0   \n",
       "38735                                  0                  0   \n",
       "\n",
       "       president_Žemės Ūkio  president_Krašto apsaugos  \\\n",
       "47100                     0                          0   \n",
       "55970                     0                          0   \n",
       "31304                     0                          0   \n",
       "52888                     0                          0   \n",
       "38735                     0                          0   \n",
       "\n",
       "       president_Socialinės apsaugos ir darbo  president_Aplinkos   \\\n",
       "47100                                       0                    0   \n",
       "55970                                       0                    0   \n",
       "31304                                       0                    0   \n",
       "52888                                       0                    0   \n",
       "38735                                       0                    0   \n",
       "\n",
       "       president_Susisiekimo  president_Ūkio  \n",
       "47100                      0               0  \n",
       "55970                      0               0  \n",
       "31304                      0               0  \n",
       "52888                      0               0  \n",
       "38735                      0               0  \n",
       "\n",
       "[5 rows x 46 columns]"
      ]
     },
     "execution_count": 40,
     "metadata": {},
     "output_type": "execute_result"
    }
   ],
   "source": [
    "ministries = set()\n",
    "for i in list(df.cabinet_ents):\n",
    "    for a in i:\n",
    "        ministries.add(a)\n",
    "    \n",
    "for item in list(ministries):\n",
    "    df[item]= df.apply(lambda x : int(item in x[\"cabinet_ents\"]), axis = 1)\n",
    "\n",
    "\n",
    "def prez_attention( list_min , minister):\n",
    "    if \"Prezidentas\" in list_min and minister in list_min:\n",
    "        return 1\n",
    "    else:\n",
    "        return 0\n",
    "    \n",
    "for item in list(ministries):\n",
    "    if item != \"Prezidentas\":\n",
    "        df[\"president_\"+item]= dfg.apply(lambda x : prez_attention(x[\"cabinet_ents\"], item), axis = 1)\n",
    "    \n",
    "df.head() "
   ]
  },
  {
   "cell_type": "code",
   "execution_count": 41,
   "id": "132174a0-e820-4673-b220-e0cfe58e8c0d",
   "metadata": {},
   "outputs": [
    {
     "data": {
      "text/plain": [
       "Index(['_id', 'cabinet_ents', 'date', 'year', 'month', 'day', 'cabinet',\n",
       "       'cabinet_no', 'president', 'Užsienio reikalų', 'Vidaus reikalų',\n",
       "       'Švietimo ir mokslo', 'Teisingumo', 'Sveikatos apsaugos', 'Kultūros',\n",
       "       'Premjeras', 'Švietimo, mokslo ir sporto', 'Prezidentas', 'Energetikos',\n",
       "       'Žemės ūkio', 'Ekonomikos ir inovacijų', 'Finansų', 'Žemės Ūkio',\n",
       "       'Krašto apsaugos', 'Socialinės apsaugos ir darbo', 'Aplinkos ',\n",
       "       'Susisiekimo', 'Ūkio', 'president_Užsienio reikalų',\n",
       "       'president_Vidaus reikalų', 'president_Švietimo ir mokslo',\n",
       "       'president_Teisingumo', 'president_Sveikatos apsaugos',\n",
       "       'president_Kultūros', 'president_Premjeras',\n",
       "       'president_Švietimo, mokslo ir sporto', 'president_Energetikos',\n",
       "       'president_Žemės ūkio', 'president_Ekonomikos ir inovacijų',\n",
       "       'president_Finansų', 'president_Žemės Ūkio',\n",
       "       'president_Krašto apsaugos', 'president_Socialinės apsaugos ir darbo',\n",
       "       'president_Aplinkos ', 'president_Susisiekimo', 'president_Ūkio'],\n",
       "      dtype='object')"
      ]
     },
     "execution_count": 41,
     "metadata": {},
     "output_type": "execute_result"
    }
   ],
   "source": [
    "df.columns"
   ]
  },
  {
   "cell_type": "code",
   "execution_count": 42,
   "id": "509c07a8-88d5-4856-8b10-07049ee35c4f",
   "metadata": {},
   "outputs": [],
   "source": [
    "df.to_parquet(\"DataEnhanced.parquet\")"
   ]
  },
  {
   "cell_type": "code",
   "execution_count": null,
   "id": "8ac42f5c-e180-4e97-b105-eccb6e20b7c2",
   "metadata": {},
   "outputs": [],
   "source": []
  }
 ],
 "metadata": {
  "kernelspec": {
   "display_name": "Python 3",
   "language": "python",
   "name": "python3"
  },
  "language_info": {
   "codemirror_mode": {
    "name": "ipython",
    "version": 3
   },
   "file_extension": ".py",
   "mimetype": "text/x-python",
   "name": "python",
   "nbconvert_exporter": "python",
   "pygments_lexer": "ipython3",
   "version": "3.8.8"
  }
 },
 "nbformat": 4,
 "nbformat_minor": 5
}
