{
 "cells": [
  {
   "cell_type": "code",
   "execution_count": null,
   "id": "dc306c23-edf6-46a9-87aa-0fefd912e365",
   "metadata": {},
   "outputs": [],
   "source": [
    "from datetime import datetime\n",
    "\n",
    "import pandas as pd\n",
    "import matplotlib.pyplot as plt\n",
    "from scipy.stats import ttest_ind, pearsonr\n",
    "import statsmodels.api as sm\n",
    "\n",
    "import numpy as np\n",
    "%matplotlib inline"
   ]
  },
  {
   "cell_type": "code",
   "execution_count": null,
   "id": "9d890c5e-20b0-4e87-a1ad-3cecdd02ed71",
   "metadata": {},
   "outputs": [],
   "source": [
    "df = pd.read_parquet(\"DataEnhanced_LV.parquet\")\n",
    "print(df.shape)\n",
    "df.head()"
   ]
  },
  {
   "cell_type": "code",
   "execution_count": null,
   "id": "313068e2-d157-46ca-86c1-bc81f4a14d61",
   "metadata": {},
   "outputs": [],
   "source": [
    "#df[df[\"year\"]<2005].cabinet_ents.value_counts()"
   ]
  },
  {
   "cell_type": "code",
   "execution_count": null,
   "id": "10d44d7a-c2fd-4e2c-81ca-9afcf632e41b",
   "metadata": {},
   "outputs": [],
   "source": [
    "# DRopping Vaira vike, since coverage is bad\n",
    "#df = df[df[\"president\"]!= 'Vaira Vīķe-Freiberga']\n",
    "print(df.shape)\n",
    "df.head()"
   ]
  },
  {
   "cell_type": "code",
   "execution_count": null,
   "id": "fe4adeda-df6c-4cc6-b307-98a115863e29",
   "metadata": {},
   "outputs": [],
   "source": [
    "df.columns"
   ]
  },
  {
   "cell_type": "code",
   "execution_count": null,
   "id": "f09cf69d-d9e4-4b4c-a92d-1819656dba48",
   "metadata": {},
   "outputs": [],
   "source": [
    "cabinet_map = {'Izglītības un zinātnes' : \"Research-Education\",\n",
    "               'Aizsardzības': \"Defense\", \n",
    "               'Premjers': \"Prime-Minister\", \n",
    "               'Reģionālās attīstības un pašvaldību lietu' : \"Other\",\n",
    "               'Ekonomikas' : \"Economy\", \n",
    "               'Labklājības' : \"Social-Affairs\", \n",
    "               'Ārlietu': \"Foreign-Affairs\", \n",
    "               'Iekšlietu': \"Internal-Affairs\", \n",
    "               'Veselības': \"Healthcare\", \n",
    "               'Kultūras': \"Culture\", \n",
    "               'Bērnu un ģimenes lietu' : \"Other\", \n",
    "               'Tieslietu' : \"Justice\", \n",
    "               'Vides': \"Environment\",\n",
    "               'Satiksmes' : \"Other\", \n",
    "               'Zemkopības': \"Agriculture\", \n",
    "               'Finanšu': \"Finance\",\n",
    "               'Vides aizsardzības un reģionālās attīstības' : \"Environment\",\n",
    "               'Bērnu, ģimenes un sabiedrības integrācijas lietu': \"Other\",\n",
    "               'president_Izglītības un zinātnes' : \"President-Research-Education\", \n",
    "               'president_Aizsardzības': \"President-Defense\",\n",
    "               'president_Premjers': \"President-Prime-Minister\",\n",
    "               'president_Reģionālās attīstības un pašvaldību lietu': \"President-Other\",\n",
    "               'president_Ekonomikas': \"President-Economy\", \n",
    "               'president_Labklājības': \"President-Social-Affairs\", \n",
    "               'president_Ārlietu': \"President-Foreign-Affairs\",\n",
    "               'president_Iekšlietu' : \"President-Internal-Affairs\", \n",
    "               'president_Veselības': \"President-Healthcare\",\n",
    "               'president_Kultūras': \"President-Culture\", \n",
    "               'president_Bērnu un ģimenes lietu' : \"President-Other\",\n",
    "               'president_Tieslietu': \"President-Justice\", \n",
    "               'president_Vides': \"President-Environment\", \n",
    "               'president_Satiksmes': \"President-Other\",\n",
    "               'president_Zemkopības': \"President-Agriculture\", \n",
    "               'president_Finanšu': \"President-Finance\",\n",
    "               'president_Vides aizsardzības un reģionālās attīstības' : \"President-Other\",\n",
    "               'president_Bērnu, ģimenes un sabiedrības integrācijas lietu': \"President-Other\"}"
   ]
  },
  {
   "cell_type": "code",
   "execution_count": null,
   "id": "d84425da-65ee-41dd-a6ce-97288fe071e3",
   "metadata": {},
   "outputs": [],
   "source": [
    "new_cols = list(set(cabinet_map.values()))\n",
    "old_cols = list(set(cabinet_map.keys()))\n",
    "\n",
    "new_col_data = {item:[] for item in new_cols}\n",
    "\n",
    "for index, row in df.iterrows():\n",
    "    plh = {item : 0 for item in new_cols}\n",
    "    for entry in old_cols:\n",
    "        if entry in row:\n",
    "            plh[cabinet_map[entry]]+=row[entry]\n",
    "    plh2 = {key: value != 0 for key, value in plh.items()}\n",
    "    \n",
    "    for key, value in plh2.items():\n",
    "        new_col_data[key].append(value)    \n",
    "        \n",
    "for key, value in new_col_data.items():\n",
    "    df[key]=value\n",
    "\n",
    "df.head()"
   ]
  },
  {
   "cell_type": "code",
   "execution_count": null,
   "id": "2ec639ac-b3d0-4d9e-a5d8-cf3d8f492245",
   "metadata": {},
   "outputs": [],
   "source": [
    "sorted(new_cols)"
   ]
  },
  {
   "cell_type": "markdown",
   "id": "aab07fa9-9033-471a-a0c1-3de6d1c4a0b2",
   "metadata": {},
   "source": [
    "# Question 1 : How is presidential attention distributed accross policy spheres?  "
   ]
  },
  {
   "cell_type": "code",
   "execution_count": null,
   "id": "177c5f6a-5cf4-4796-be80-00244f0a9603",
   "metadata": {},
   "outputs": [],
   "source": [
    "columns = [  'President-Agriculture',\n",
    " 'President-Culture',\n",
    " 'President-Defense',\n",
    " 'President-Economy',\n",
    " 'President-Environment',\n",
    " 'President-Finance',\n",
    " 'President-Foreign-Affairs',\n",
    " 'President-Healthcare',\n",
    " 'President-Internal-Affairs',\n",
    " 'President-Justice',\n",
    " 'President-Other',\n",
    " 'President-Prime-Minister',\n",
    " 'President-Research-Education',\n",
    " 'President-Social-Affairs',]\n",
    "\n",
    "\n",
    "data = {item.replace(\"President-\", \"\") : df[item].mean() for item in columns}\n",
    "data_s = sorted(data.items(), key = lambda x:x[1])\n",
    "\n",
    "label_vals = [i[0] for i in data_s]\n",
    "values = [i[1] for i in data_s]\n",
    "\n",
    "plt.rcParams[\"figure.figsize\"] = (12,12)\n",
    "y_pos = np.arange(len(values))\n",
    "\n",
    "plt.barh(y_pos, values, color=\"grey\")\n",
    "plt.yticks(y_pos, label_vals, fontsize=14)\n",
    "plt.xticks(fontsize=14)\n",
    "plt.show()"
   ]
  },
  {
   "cell_type": "code",
   "execution_count": null,
   "id": "64ac59e6-32df-4ac2-ad98-349fc4aedace",
   "metadata": {},
   "outputs": [],
   "source": [
    "print(df[\"President-Defense\"].mean())\n",
    "print(df[\"President-Foreign-Affairs\"].mean())"
   ]
  },
  {
   "cell_type": "markdown",
   "id": "c2cc37ec-8198-47e0-9b6d-4b55f54a0721",
   "metadata": {},
   "source": [
    "# Q2: How the attention pattern differs over time?"
   ]
  },
  {
   "cell_type": "code",
   "execution_count": null,
   "id": "70e8d17b-6870-49a0-892b-7517431305ea",
   "metadata": {},
   "outputs": [],
   "source": [
    "columns = ['President-Prime-Minister',\n",
    "            'President-Foreign-Affairs',\n",
    "            'President-Defense', \n",
    "            'President-Internal-Affairs',\n",
    "            'President-Healthcare',]\n",
    "\n",
    "\n",
    "agg_dict = {i : \"mean\" for i in columns}\n",
    "\n",
    "df2 = df.groupby([\"year\"]).agg(agg_dict)\n",
    "#print(df2.shape)\n",
    "#df2.head()\n",
    "\n",
    "years = list(df2.index)\n",
    "data = [list(df2[i]) for i in columns]\n",
    "\n",
    "\n",
    "\n",
    "fig, ax = plt.subplots(figsize=(18, 10))\n",
    "\n",
    "style_dict = {0 : \"k-\", \n",
    "             1: \"k--\", \n",
    "             2: \"k-.\",\n",
    "             3: \"k:\",\n",
    "             4: \"k-x\"}\n",
    "\n",
    "for i in range(len(columns)):\n",
    "    ax.plot(years, data[i], style_dict[i], label=columns[i])\n",
    "plt.legend()"
   ]
  },
  {
   "cell_type": "code",
   "execution_count": null,
   "id": "2d407916-1f43-46ef-ac3e-49821f8ece58",
   "metadata": {},
   "outputs": [],
   "source": []
  },
  {
   "cell_type": "markdown",
   "id": "ae71aed4-e6eb-4002-8589-a9db7bebfa06",
   "metadata": {},
   "source": [
    "## Is Attention Higher For FP/DP than for others?"
   ]
  },
  {
   "cell_type": "code",
   "execution_count": null,
   "id": "f7a99251-b37d-4053-afbe-09ac36b785e6",
   "metadata": {},
   "outputs": [],
   "source": [
    "target =  'President-Foreign-Affairs'\n",
    "nincl = ['President-Foreign-Affairs', 'President-Prime-Minister', 'President-Defense']\n",
    "target_dist = list(df[target])\n",
    "\n",
    "other_dist = []\n",
    "for c in columns:\n",
    "    if c != target and c not in nincl:\n",
    "        other_dist += list(df[c])\n",
    "        \n",
    "print(len(target_dist))\n",
    "print(len(other_dist))\n",
    "\n",
    "print( sum(target_dist)/len(target_dist))\n",
    "print( sum(other_dist)/len(other_dist))\n",
    "\n",
    "ttest_ind(target_dist, other_dist)"
   ]
  },
  {
   "cell_type": "code",
   "execution_count": null,
   "id": "59f7445e-8fee-4ee1-b5e8-08de4739e718",
   "metadata": {},
   "outputs": [],
   "source": [
    "target =  'President-Defense'\n",
    "nincl = ['President-Foreign-Affairs', 'President-Prime-Minister', 'President-Defense']\n",
    "target_dist = list(df[target])\n",
    "\n",
    "other_dist = []\n",
    "for c in columns:\n",
    "    if c != target and c not in nincl:\n",
    "        other_dist += list(df[c])\n",
    "        \n",
    "print(len(target_dist))\n",
    "print(len(other_dist))\n",
    "\n",
    "print( sum(target_dist)/len(target_dist))\n",
    "print( sum(other_dist)/len(other_dist))\n",
    "\n",
    "ttest_ind(target_dist, other_dist)"
   ]
  },
  {
   "cell_type": "markdown",
   "id": "05c504c4-180f-49d9-92f8-0fc2bf53a27b",
   "metadata": {},
   "source": [
    "# Does presidential attention mirror media attention?"
   ]
  },
  {
   "cell_type": "code",
   "execution_count": null,
   "id": "88c07994-f84d-4a7d-8969-a0415c8efd09",
   "metadata": {},
   "outputs": [],
   "source": [
    "columns = [  'President-Agriculture',\n",
    " 'President-Culture',\n",
    " 'President-Defense',\n",
    " 'President-Economy',\n",
    " 'President-Environment',\n",
    " 'President-Finance',\n",
    " 'President-Foreign-Affairs',\n",
    " 'President-Healthcare',\n",
    " 'President-Internal-Affairs',\n",
    " 'President-Justice',\n",
    " 'President-Other',\n",
    " 'President-Prime-Minister',\n",
    " 'President-Research-Education',\n",
    " 'President-Social-Affairs',]"
   ]
  },
  {
   "cell_type": "code",
   "execution_count": null,
   "id": "d3676c07-2032-458a-9b8a-9ce4d89525ff",
   "metadata": {},
   "outputs": [],
   "source": [
    "columns2 = [i.replace(\"President-\", \"\") for i in columns]\n",
    "ministries_full = columns + columns2\n",
    "\n",
    "agg_dict = {i:\"mean\" for i in ministries_full}\n",
    "agg_dict[\"president\"] = \"last\" \n",
    "\n",
    "dfg = df.groupby([\"year\", \"month\"]).agg(agg_dict)\n",
    "dfg[\"grybauskaite\"] = dfg.apply(lambda x:int(x[\"president\"] in [\"Valdis Zatlers\", \"Andris Bērziņš\"]), axis=1)\n",
    "print(dfg.shape)\n",
    "dfg.head()"
   ]
  },
  {
   "cell_type": "code",
   "execution_count": null,
   "id": "5fd9c006-32f2-4a43-99c0-38c84a05ba01",
   "metadata": {},
   "outputs": [],
   "source": [
    "df.president.value_counts()"
   ]
  },
  {
   "cell_type": "code",
   "execution_count": null,
   "id": "6117f8ef-7b37-4568-b09d-42fe5feab737",
   "metadata": {},
   "outputs": [],
   "source": [
    "for m in columns2:\n",
    "    print(m)\n",
    "    print(pearsonr(dfg[m], dfg[\"President-\"+m]))\n",
    "    print()"
   ]
  },
  {
   "cell_type": "code",
   "execution_count": null,
   "id": "b92ebb2e-13ea-47f5-9f8a-6d8b7dcdf775",
   "metadata": {},
   "outputs": [],
   "source": [
    "for m in columns2:\n",
    "    print(m)\n",
    "    y = dfg[[\"President-\"+m]]\n",
    "    X = dfg[[m, \"grybauskaite\"]]\n",
    "    X = sm.add_constant(X)\n",
    "    \n",
    "    model = sm.OLS(y, X)\n",
    "    results = model.fit()\n",
    "    print(results.summary())\n",
    "    \n",
    "    print()"
   ]
  },
  {
   "cell_type": "markdown",
   "id": "53bd109f-547e-47e7-a883-117f10d07f5f",
   "metadata": {},
   "source": [
    "# Is the attention higher on the first year"
   ]
  },
  {
   "cell_type": "code",
   "execution_count": null,
   "id": "5b559852-e77c-4c1b-8c48-80dc285a58d7",
   "metadata": {},
   "outputs": [],
   "source": [
    "vvf1b = datetime(1999, 7, 8)\n",
    "vvf1e = datetime(2000, 7, 8)\n",
    "vvf2b = datetime(2003, 7, 8)\n",
    "vvf2e = datetime(2004, 7, 8)\n",
    "vzb = datetime(2007, 7, 8)\n",
    "vze = datetime(2008, 7, 8)\n",
    "abb = datetime(2011, 7, 8)\n",
    "abe = datetime(2012, 7, 8)\n",
    "rvb = datetime(2015, 7, 8)\n",
    "rve = datetime(2016, 7, 8)\n",
    "elb = datetime(2019, 7, 8)\n",
    "ele = datetime(2020, 7, 8)\n",
    "\n",
    "first_year = []\n",
    "\n",
    "for i in df.date:\n",
    "    plh = 0\n",
    "    if vvf1b <= i < vvf1e :\n",
    "        plh = 1\n",
    "    if vvf2b <= i < vvf2e :\n",
    "        plh = 1\n",
    "    if vzb <= i < vze :\n",
    "        plh = 1\n",
    "    if abb <= i < abe :\n",
    "        plh = 1\n",
    "    if rvb <= i < rve :\n",
    "        plh = 1\n",
    "    if elb <= i < ele :\n",
    "        plh = 1\n",
    "    first_year.append(plh)\n",
    "    \n",
    "df[\"first_year\"] = first_year\n",
    "print(df.first_year.mean())"
   ]
  },
  {
   "cell_type": "code",
   "execution_count": null,
   "id": "fbbb15b0-6b0e-427e-a294-6ccf8d4cd595",
   "metadata": {},
   "outputs": [],
   "source": [
    "def get_pres_att(ents):\n",
    "    if \"Prezidents\" in ents and len(ents)>1:\n",
    "        return 1\n",
    "    elif \"Prezidente\" in ents and len(ents)>1:\n",
    "        return 1\n",
    "    else:\n",
    "        return 0\n",
    "\n",
    "df[\"PresAtt\"] = df.apply(lambda x : get_pres_att(x[\"cabinet_ents\"]), axis =1)"
   ]
  },
  {
   "cell_type": "code",
   "execution_count": null,
   "id": "42c46ad9-e4cf-4229-b72d-d3ac60fc7fb1",
   "metadata": {},
   "outputs": [],
   "source": [
    "dfa = df[df.first_year == 0]\n",
    "dfb = df[df.first_year == 1]"
   ]
  },
  {
   "cell_type": "code",
   "execution_count": null,
   "id": "4a0a5078-fda0-46e8-bc74-dff50848049b",
   "metadata": {},
   "outputs": [],
   "source": [
    "for m in columns:\n",
    "    print(m)\n",
    "    print(\"Normal: \", dfa[m].mean())\n",
    "    print(\"First year: \", dfb[m].mean())\n",
    "    print(ttest_ind(dfa[m], dfb[m]))\n",
    "    print()"
   ]
  },
  {
   "cell_type": "code",
   "execution_count": null,
   "id": "57b500a4-d2a9-4075-a45f-73f9c79a08c6",
   "metadata": {},
   "outputs": [],
   "source": []
  },
  {
   "cell_type": "code",
   "execution_count": null,
   "id": "654b84ec-af9e-483f-aab9-62475c47c4d7",
   "metadata": {},
   "outputs": [],
   "source": [
    "m=\"PresAtt\"\n",
    "print(m)\n",
    "print(\"Normal: \", dfa[m].mean())\n",
    "print(\"First year: \", dfb[m].mean())\n",
    "print(ttest_ind(dfa[m], dfb[m]))\n",
    "print()"
   ]
  },
  {
   "cell_type": "markdown",
   "id": "cbd29f9c-b76b-4f0c-8d14-1116d131b4aa",
   "metadata": {},
   "source": [
    "# Latvia PM Strength"
   ]
  },
  {
   "cell_type": "code",
   "execution_count": null,
   "id": "6e980f4f-519c-4c3d-a17d-9d411a5a5e46",
   "metadata": {},
   "outputs": [],
   "source": [
    "df[\"cab_id\"] = df.apply(lambda x : x[\"cabinet\"]+\"_\"+str(x[\"cabinet_no\"]), axis = 1)\n",
    "print(df.shape)\n",
    "df.head()"
   ]
  },
  {
   "cell_type": "code",
   "execution_count": null,
   "id": "1ee3af40-df9f-490d-a8f6-183671e9675e",
   "metadata": {},
   "outputs": [],
   "source": [
    "cab_strength_dict = {'Laimdota Straujuma_37': 2.4, \n",
    "                     'Laimdota Straujuma_38': 1.95, \n",
    "                     'Valdis Dombrovskis_36': 2.7, \n",
    "                     'Valdis Dombrovskis_35': 3, \n",
    "                     'Valdis Dombrovskis_34': 3.3,\n",
    "                     'Einars Repše_29': 2.25,  \n",
    "                     'Andris Bērziņš_28': 2.3, \n",
    "                     'Aigars Kalvītis_31': 2.15, \n",
    "                     'Aigars Kalvītis_32': 1.35, \n",
    "                     'Indulis Emsis_30': 1.35, \n",
    "                     'Ivars Godmanis_33': 1.2,\n",
    "                     'Andris Šķēle_27': 2}"
   ]
  },
  {
   "cell_type": "code",
   "execution_count": null,
   "id": "faaaa1ab-05ca-4981-bdf7-4802d47c218d",
   "metadata": {},
   "outputs": [],
   "source": [
    "cols = ['PresAtt','President-Prime-Minister', 'President-Culture', 'President-Defense',\n",
    "       'President-Research-Education', 'President-Finance', 'President-Economy',\n",
    "       'President-Justice', 'President-Healthcare',\n",
    "       'President-Foreign-Affairs', 'President-Internal-Affairs',\n",
    "       'President-Agriculture', 'President-Social-Affairs', 'President-Environment', 'President-Other']\n",
    "\n",
    "agg_dict = {i : \"mean\" for i in cols }\n",
    "\n",
    "dfg2 = df.groupby([\"cab_id\"]).agg(agg_dict)\n",
    "print(dfg2.shape)\n",
    "dfg2.head()"
   ]
  },
  {
   "cell_type": "code",
   "execution_count": null,
   "id": "4253c77b-94e4-4af3-bb05-57b4fd8a6958",
   "metadata": {},
   "outputs": [],
   "source": [
    "dfg2[\"cab_ids\"] = list(dfg2.index) \n",
    "dfg2[\"pm_strength\"] = dfg2.apply(lambda x : cab_strength_dict.get(x.cab_ids, None), axis = 1)\n",
    "print(dfg2.shape)\n",
    "dfg2.head()"
   ]
  },
  {
   "cell_type": "code",
   "execution_count": null,
   "id": "9065f2b0-c10a-42f7-b079-763f918446e8",
   "metadata": {},
   "outputs": [],
   "source": [
    "dfg2 = dfg2.dropna()\n",
    "print(dfg2.shape)\n",
    "dfg2.head(20)"
   ]
  },
  {
   "cell_type": "code",
   "execution_count": null,
   "id": "952010d9-e569-41ac-b2b0-fdde734bf699",
   "metadata": {},
   "outputs": [],
   "source": [
    "pearsonr(dfg2[\"PresAtt\"], dfg2[\"pm_strength\"])"
   ]
  },
  {
   "cell_type": "code",
   "execution_count": null,
   "id": "1fe2f736-3df3-4cf0-ae43-fdae7584fb10",
   "metadata": {},
   "outputs": [],
   "source": [
    "dfg2[[\"PresAtt\", \"pm_strength\"]]"
   ]
  },
  {
   "cell_type": "code",
   "execution_count": null,
   "id": "17c3d4ed-487d-45aa-9570-27f54d13df3b",
   "metadata": {},
   "outputs": [],
   "source": [
    "plh = df.groupby([\"president\"]).agg({\"PresAtt\": \"mean\"})\n",
    "plh"
   ]
  },
  {
   "cell_type": "code",
   "execution_count": null,
   "id": "db8d451f-4d57-4ac6-ace4-a09b7dac7e29",
   "metadata": {},
   "outputs": [],
   "source": [
    "plh = df[df[\"year\"]<2005]\n",
    "plh[\"PresAtt\"].sum()"
   ]
  },
  {
   "cell_type": "code",
   "execution_count": null,
   "id": "cafe9f93-6210-4237-835d-ee828d88a7ff",
   "metadata": {},
   "outputs": [],
   "source": []
  }
 ],
 "metadata": {
  "kernelspec": {
   "display_name": "Python 3",
   "language": "python",
   "name": "python3"
  },
  "language_info": {
   "codemirror_mode": {
    "name": "ipython",
    "version": 3
   },
   "file_extension": ".py",
   "mimetype": "text/x-python",
   "name": "python",
   "nbconvert_exporter": "python",
   "pygments_lexer": "ipython3",
   "version": "3.8.8"
  }
 },
 "nbformat": 4,
 "nbformat_minor": 5
}
