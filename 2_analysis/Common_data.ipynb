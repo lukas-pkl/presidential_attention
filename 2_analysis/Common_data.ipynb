{
 "cells": [
  {
   "cell_type": "code",
   "execution_count": null,
   "id": "365284dc-eaed-48f7-aa42-1df7ef0b95a9",
   "metadata": {},
   "outputs": [],
   "source": [
    "from datetime import datetime\n",
    "\n",
    "import pandas as pd"
   ]
  },
  {
   "cell_type": "markdown",
   "id": "e715dd81-b3bf-4381-9245-46a3147e898e",
   "metadata": {},
   "source": [
    "# LT"
   ]
  },
  {
   "cell_type": "code",
   "execution_count": null,
   "id": "d6fb1895-83f5-4f7d-863a-2193550bc0cb",
   "metadata": {},
   "outputs": [],
   "source": [
    "# Load Data\n",
    "df = pd.read_parquet(\"DataEnhanced.parquet\")\n",
    "print(df.shape)\n",
    "df.head()"
   ]
  },
  {
   "cell_type": "code",
   "execution_count": null,
   "id": "4c182ad8-b5ed-4ae4-b5af-9095d23750e1",
   "metadata": {},
   "outputs": [],
   "source": [
    "# Create a dummy for general prsidential attention\n",
    "def get_pres_att(ents):\n",
    "    if \"Prezidentas\" in ents and len(ents)>1:\n",
    "        return 1\n",
    "    else:\n",
    "        return 0\n",
    "\n",
    "df[\"PresAtt\"] = df.apply(lambda x : get_pres_att(x[\"cabinet_ents\"]), axis =1)"
   ]
  },
  {
   "cell_type": "code",
   "execution_count": null,
   "id": "0a21c501-4774-4d15-a834-4234b78a9784",
   "metadata": {},
   "outputs": [],
   "source": [
    "# Create a dummy for first-year\n",
    "dg1b = datetime(2009, 7, 12)\n",
    "dg1e = datetime(2010, 7, 12)\n",
    "dg2b = datetime(2014, 7, 12)\n",
    "dg2e = datetime(2015, 7, 12)\n",
    "gnb = datetime(2019, 7, 12)\n",
    "gne = datetime(2020, 7, 12)\n",
    "\n",
    "first_year = []\n",
    "\n",
    "for i in df.date:\n",
    "    plh = 0\n",
    "    if dg1b <= i < dg1e :\n",
    "        plh = 1\n",
    "    if dg2b <= i < dg2e :\n",
    "        plh = 1\n",
    "    if gnb <= i < gne :\n",
    "        plh = 1\n",
    "    first_year.append(plh)\n",
    "    \n",
    "df[\"first_year\"] = first_year\n",
    "print(df.first_year.mean())"
   ]
  },
  {
   "cell_type": "code",
   "execution_count": null,
   "id": "e63412cf-00b5-41ef-8df6-aefd12daa468",
   "metadata": {},
   "outputs": [],
   "source": [
    "# ADD PM strength\n",
    "cabinet_strength = {\n",
    "    \"17_Saulius Skvernelis\":None,\n",
    "    \"15_Andrius Kubilius\" : 2.58,\n",
    "    \"16_Algirdas Butkevičius\": 2.16, \n",
    "    \"18_Ingrida Šimonytė\" : None,\n",
    "    \"12_Algirdas Brazauskas\": 2.33,\n",
    "    \"14_Gediminas Kirkilas\": 1.8,\n",
    "    \"13_Algirdas Brazauskas\" : 2.33,\n",
    "    \"11_Rolandas Paksas\" : 1.33, \n",
    "    None: None, \n",
    "    \"_\": None\n",
    "}\n",
    "df[\"cab_cab_no\"] = df.apply(lambda x : str(x[\"cabinet_no\"])+\"_\"+x[\"cabinet\"], axis = 1)\n",
    "df[\"pm_strength\"] = df.apply(lambda x : cabinet_strength[x[\"cab_cab_no\"]], axis = 1)\n",
    "df['pm_strength'].fillna((df['pm_strength'].mean()), inplace=True) # NB!\n",
    "print(df.shape)\n",
    "df.head()"
   ]
  },
  {
   "cell_type": "code",
   "execution_count": null,
   "id": "867dc768-cafb-43da-804d-c496261ebd56",
   "metadata": {},
   "outputs": [],
   "source": [
    "df.columns"
   ]
  },
  {
   "cell_type": "code",
   "execution_count": null,
   "id": "d8f78ee9-d954-425c-b438-7792314f0960",
   "metadata": {},
   "outputs": [],
   "source": [
    "cabinet_map = {'Krašto apsaugos' : \"Defense\", \n",
    "               'Premjeras': \"Prime-Minister\",\n",
    "               'Susisiekimo': \"Other\", \n",
    "               'Žemės Ūkio': \"Agriculture\", \n",
    "               'Kultūros': \"Culture\", \n",
    "               'Ūkio': \"Economy\", \n",
    "               'Aplinkos ': \"Environment\",\n",
    "               'Energetikos': \"Other\", \n",
    "               'Ekonomikos ir inovacijų': \"Economy\", \n",
    "               'Teisingumo': \"Justice\", \n",
    "               'Finansų': \"Finance\",\n",
    "               'Užsienio reikalų': \"Foreign-Affairs\", \n",
    "               'Prezidentas': \"President\", \n",
    "               'Socialinės apsaugos ir darbo': \"Social-Security\",\n",
    "               'Sveikatos apsaugos': \"Healthcare\", \n",
    "               'Švietimo ir mokslo': \"Research-Education\",\n",
    "               'Švietimo, mokslo ir sporto': \"Research-Education\", \n",
    "               'Vidaus reikalų': \"Internal-Affairs\",\n",
    "               'president_Krašto apsaugos': \"President-Defense\", \n",
    "               'president_Premjeras': \"President-Prime-Minister\",\n",
    "               'president_Susisiekimo': \"President-Other\", \n",
    "               'president_Žemės Ūkio': \"President-Agriculture\", \n",
    "               'president_Kultūros': \"President-Culture\",\n",
    "               'president_Ūkio': \"President-Economy\", \n",
    "               'president_Aplinkos ': \"President-Environment\", \n",
    "               'president_Energetikos': \"President-Other\",\n",
    "               'president_Ekonomikos ir inovacijų': \"President-Economy\", \n",
    "               'president_Teisingumo': \"President-Justice\",\n",
    "               'president_Finansų': \"President-Finance\", \n",
    "               'president_Užsienio reikalų': \"President-Foreign-Affairs\",\n",
    "               'president_Socialinės apsaugos ir darbo': \"President-Social-Security\",\n",
    "               'president_Sveikatos apsaugos': \"President-Healthcare\", \n",
    "               'president_Švietimo ir mokslo': \"President-Research-Education\",\n",
    "               'president_Švietimo, mokslo ir sporto': \"President-Research-Education\", \n",
    "               'president_Vidaus reikalų': \"President-Internal-Affairs\"}"
   ]
  },
  {
   "cell_type": "code",
   "execution_count": null,
   "id": "3c5cb8be-a707-4d6c-93b1-2b2f5c126b40",
   "metadata": {},
   "outputs": [],
   "source": [
    "new_cols = list(set(cabinet_map.values()))\n",
    "old_cols = list(set(cabinet_map.keys()))\n",
    "\n",
    "new_col_data = {item:[] for item in new_cols}\n",
    "\n",
    "for index, row in df.iterrows():\n",
    "    plh = {item : 0 for item in new_cols}\n",
    "    for entry in old_cols:\n",
    "        if entry in row:\n",
    "            plh[cabinet_map[entry]]+=row[entry]\n",
    "    plh2 = {key: value != 0 for key, value in plh.items()}\n",
    "    \n",
    "    for key, value in plh2.items():\n",
    "        new_col_data[key].append(value)    "
   ]
  },
  {
   "cell_type": "code",
   "execution_count": null,
   "id": "4b96e75a-2e70-42f3-8eb7-cd1d10a98c02",
   "metadata": {},
   "outputs": [],
   "source": [
    "for key, value in new_col_data.items():\n",
    "    df[key]=value"
   ]
  },
  {
   "cell_type": "code",
   "execution_count": null,
   "id": "f847d6f7-9cb7-4c42-b663-10cf3212f408",
   "metadata": {},
   "outputs": [],
   "source": [
    "df.head()"
   ]
  },
  {
   "cell_type": "code",
   "execution_count": null,
   "id": "2baf9234-aefa-40ec-b063-906e1519d785",
   "metadata": {},
   "outputs": [],
   "source": [
    "df.columns"
   ]
  },
  {
   "cell_type": "code",
   "execution_count": null,
   "id": "219f18b8-94c4-441b-8670-d5cfcb6f6ff8",
   "metadata": {},
   "outputs": [],
   "source": [
    "df_lt = df[['para_id', 'source', \n",
    "            'year', 'month', 'day', 'first_year',\n",
    "            'cabinet', 'cabinet_no', \"PresAtt\", 'president', \"President\", \n",
    "            'Prime-Minister','President-Prime-Minister', \n",
    "            'Foreign-Affairs',  'President-Foreign-Affairs',\n",
    "            'Defense',  'President-Defense', \n",
    "            'Healthcare', 'President-Healthcare',\n",
    "            'Internal-Affairs', 'President-Internal-Affairs',\n",
    "            'Economy', 'President-Economy',\n",
    "            'Finance', 'President-Finance',\n",
    "            'Social-Security', 'President-Social-Security', \n",
    "            'Research-Education', 'President-Research-Education',\n",
    "            'Environment', 'President-Environment',\n",
    "            'Justice', 'President-Justice',\n",
    "            'Culture', 'President-Culture',\n",
    "            'Agriculture', 'President-Agriculture',\n",
    "            'Other', 'President-Other', \"pm_strength\"]]\n",
    "    "
   ]
  },
  {
   "cell_type": "code",
   "execution_count": null,
   "id": "f4599cf6-3438-4a50-b2d4-1ec403d8f571",
   "metadata": {},
   "outputs": [],
   "source": [
    "# Create a var for country\n",
    "df_lt[\"country\"] = [\"LT\"]* len(df_lt)\n",
    "print(df_lt.shape)\n",
    "df_lt.head()"
   ]
  },
  {
   "cell_type": "markdown",
   "id": "979d90fb-266b-422f-a9a0-1b69388bcd12",
   "metadata": {},
   "source": [
    "# LV"
   ]
  },
  {
   "cell_type": "code",
   "execution_count": null,
   "id": "902a3136-8e3e-4d9b-883e-0b31a16a8fea",
   "metadata": {},
   "outputs": [],
   "source": [
    "# load data\n",
    "df = pd.read_parquet(\"DataEnhanced_LV.parquet\")\n",
    "print(df.shape)\n",
    "df.head()"
   ]
  },
  {
   "cell_type": "code",
   "execution_count": null,
   "id": "ad27552d-8561-4484-b2ec-de765117efc9",
   "metadata": {},
   "outputs": [],
   "source": [
    "# dummy for presidential attention\n",
    "def get_pres_att(ents):\n",
    "    if \"Prezidents\" in ents and len(ents)>1:\n",
    "        return 1\n",
    "    else:\n",
    "        return 0\n",
    "\n",
    "df[\"PresAtt\"] = df.apply(lambda x : get_pres_att(x[\"cabinet_ents\"]), axis =1)"
   ]
  },
  {
   "cell_type": "code",
   "execution_count": null,
   "id": "813ca781-0393-4a92-a2db-f98609ae9976",
   "metadata": {},
   "outputs": [],
   "source": [
    "# Dummy for first year\n",
    "vvf1b = datetime(1999, 7, 8)\n",
    "vvf1e = datetime(2000, 7, 8)\n",
    "vvf2b = datetime(2003, 7, 8)\n",
    "vvf2e = datetime(2004, 7, 8)\n",
    "vzb = datetime(2007, 7, 8)\n",
    "vze = datetime(2008, 7, 8)\n",
    "abb = datetime(2011, 7, 8)\n",
    "abe = datetime(2012, 7, 8)\n",
    "rvb = datetime(2015, 7, 8)\n",
    "rve = datetime(2016, 7, 8)\n",
    "elb = datetime(2019, 7, 8)\n",
    "ele = datetime(2020, 7, 8)\n",
    "\n",
    "first_year = []\n",
    "\n",
    "for i in df.date:\n",
    "    plh = 0\n",
    "    if vvf1b <= i < vvf1e :\n",
    "        plh = 1\n",
    "    if vvf2b <= i < vvf2e :\n",
    "        plh = 1\n",
    "    if vzb <= i < vze :\n",
    "        plh = 1\n",
    "    if abb <= i < abe :\n",
    "        plh = 1\n",
    "    if rvb <= i < rve :\n",
    "        plh = 1\n",
    "    if elb <= i < ele :\n",
    "        plh = 1\n",
    "    first_year.append(plh)\n",
    "    \n",
    "df[\"first_year\"] = first_year\n",
    "print(df.first_year.mean())"
   ]
  },
  {
   "cell_type": "code",
   "execution_count": null,
   "id": "79c3400b-0a0f-45a7-b05e-51226c12312d",
   "metadata": {},
   "outputs": [],
   "source": [
    "# PM Strength\n",
    "df[\"cab_id\"] = df.apply(lambda x : x[\"cabinet\"]+\"_\"+str(x[\"cabinet_no\"]), axis = 1)\n",
    "cab_strength_dict = {'Laimdota Straujuma_37': 2.4, \n",
    "                     'Laimdota Straujuma_38': 1.95, \n",
    "                     'Valdis Dombrovskis_36': 2.7, \n",
    "                     'Valdis Dombrovskis_35': 3, \n",
    "                     'Valdis Dombrovskis_34': 3.3,\n",
    "                     'Einars Repše_29': 2.25,  \n",
    "                     'Andris Bērziņš_28': 2.3, \n",
    "                     'Aigars Kalvītis_31': 2.15, \n",
    "                     'Aigars Kalvītis_32': 1.35, \n",
    "                     'Indulis Emsis_30': 1.35, \n",
    "                     'Ivars Godmanis_33': 1.2,\n",
    "                     'Andris Šķēle_27': 2}\n",
    "\n",
    "df[\"pm_strength\"]=df.apply(lambda x : cab_strength_dict.get(x[\"cab_id\"], None), axis = 1)\n",
    "df['pm_strength'].fillna((df['pm_strength'].mean()), inplace=True)"
   ]
  },
  {
   "cell_type": "code",
   "execution_count": null,
   "id": "f6353693-c44c-4e75-ab0e-2c4d0a06911c",
   "metadata": {},
   "outputs": [],
   "source": [
    "cabinet_map = {'Izglītības un zinātnes' : \"Research-Education\",\n",
    "               'Aizsardzības': \"Defense\", \n",
    "               'Premjers': \"Prime-Minister\", \n",
    "               'Reģionālās attīstības un pašvaldību lietu' : \"Other\",\n",
    "               'Ekonomikas' : \"Economy\", \n",
    "               'Labklājības' : \"Social-Security\", \n",
    "               'Ārlietu': \"Foreign-Affairs\", \n",
    "               'Iekšlietu': \"Internal-Affairs\", \n",
    "               'Veselības': \"Healthcare\", \n",
    "               'Kultūras': \"Culture\", \n",
    "               'Bērnu un ģimenes lietu' : \"Other\", \n",
    "               'Tieslietu' : \"Justice\", \n",
    "               'Vides': \"Environment\",\n",
    "               'Satiksmes' : \"Other\", \n",
    "               'Zemkopības': \"Agriculture\", \n",
    "               'Finanšu': \"Finance\",\n",
    "               'Vides aizsardzības un reģionālās attīstības' : \"Environment\",\n",
    "               'Bērnu, ģimenes un sabiedrības integrācijas lietu': \"Other\",\n",
    "               'president_Izglītības un zinātnes' : \"President-Research-Education\", \n",
    "               'president_Aizsardzības': \"President-Defense\",\n",
    "               'president_Premjers': \"President-Prime-Minister\",\n",
    "               'president_Reģionālās attīstības un pašvaldību lietu': \"President-Other\",\n",
    "               'president_Ekonomikas': \"President-Economy\", \n",
    "               'president_Labklājības': \"President-Social-Security\", \n",
    "               'president_Ārlietu': \"President-Foreign-Affairs\",\n",
    "               'president_Iekšlietu' : \"President-Internal-Affairs\", \n",
    "               'president_Veselības': \"President-Healthcare\",\n",
    "               'president_Kultūras': \"President-Culture\", \n",
    "               'president_Bērnu un ģimenes lietu' : \"President-Other\",\n",
    "               'president_Tieslietu': \"President-Justice\", \n",
    "               'president_Vides': \"President-Environment\", \n",
    "               'president_Satiksmes': \"President-Other\",\n",
    "               'president_Zemkopības': \"President-Agriculture\", \n",
    "               'president_Finanšu': \"President-Finance\",\n",
    "               'president_Vides aizsardzības un reģionālās attīstības' : \"President-Other\",\n",
    "               'president_Bērnu, ģimenes un sabiedrības integrācijas lietu': \"President-Other\"}"
   ]
  },
  {
   "cell_type": "code",
   "execution_count": null,
   "id": "f3183085-b962-4864-a8db-3e29c381de30",
   "metadata": {},
   "outputs": [],
   "source": [
    "new_cols = list(set(cabinet_map.values()))\n",
    "old_cols = list(set(cabinet_map.keys()))\n",
    "\n",
    "new_col_data = {item:[] for item in new_cols}\n",
    "\n",
    "for index, row in df.iterrows():\n",
    "    plh = {item : 0 for item in new_cols}\n",
    "    for entry in old_cols:\n",
    "        if entry in row:\n",
    "            plh[cabinet_map[entry]]+=row[entry]\n",
    "    plh2 = {key: value != 0 for key, value in plh.items()}\n",
    "    \n",
    "    for key, value in plh2.items():\n",
    "        new_col_data[key].append(value)    \n",
    "        \n",
    "for key, value in new_col_data.items():\n",
    "    df[key]=value\n",
    "\n",
    "df.head()"
   ]
  },
  {
   "cell_type": "code",
   "execution_count": null,
   "id": "e388f14e-358a-49a1-965d-f6c03cf9b68b",
   "metadata": {},
   "outputs": [],
   "source": [
    "df.columns"
   ]
  },
  {
   "cell_type": "code",
   "execution_count": null,
   "id": "8e3b4ef5-c6db-40c2-b110-cb04e819b709",
   "metadata": {},
   "outputs": [],
   "source": [
    "df = df.rename(columns={'Prezidents':\"President\"})\n",
    "df_lv = df[['para_id', 'source', \n",
    "            'year', 'month', 'day', 'first_year',\n",
    "            'cabinet', 'cabinet_no', \"PresAtt\", 'president', \"President\", \n",
    "            'Prime-Minister','President-Prime-Minister', \n",
    "            'Foreign-Affairs',  'President-Foreign-Affairs',\n",
    "            'Defense',  'President-Defense', \n",
    "            'Healthcare', 'President-Healthcare',\n",
    "            'Internal-Affairs', 'President-Internal-Affairs',\n",
    "            'Economy', 'President-Economy',\n",
    "            'Finance', 'President-Finance',\n",
    "            'Social-Security', 'President-Social-Security', \n",
    "            'Research-Education', 'President-Research-Education',\n",
    "            'Environment', 'President-Environment',\n",
    "            'Justice', 'President-Justice',\n",
    "            'Culture', 'President-Culture',\n",
    "            'Agriculture', 'President-Agriculture',\n",
    "            'Other', 'President-Other', \"pm_strength\"]]\n",
    "\n",
    "df_lv[\"country\"] = [\"LV\"]* len(df_lv)\n",
    "print(df_lv.shape)\n",
    "df_lv.head()"
   ]
  },
  {
   "cell_type": "markdown",
   "id": "2a3e29ff-fdbf-447a-8f5e-f81c13474371",
   "metadata": {},
   "source": [
    "# Adding "
   ]
  },
  {
   "cell_type": "code",
   "execution_count": null,
   "id": "9a2b5aa9-7cb0-482d-bb96-2c03c57e4586",
   "metadata": {},
   "outputs": [],
   "source": [
    "df = df_lt.append(df_lv)\n",
    "print(df.shape)\n",
    "df.head()"
   ]
  },
  {
   "cell_type": "code",
   "execution_count": null,
   "id": "56922a60-8044-4e62-8610-65c607ffb2ee",
   "metadata": {},
   "outputs": [],
   "source": [
    "df[\"MedAtt\"] = [1]*len(df)"
   ]
  },
  {
   "cell_type": "code",
   "execution_count": null,
   "id": "643358c3-cc7b-4ba0-b2f8-abd5d5cff913",
   "metadata": {},
   "outputs": [],
   "source": [
    "df[\"DaliaGryb\"] = df.apply(lambda x : x[\"president\"]== \"Dalia Grybauskaite\", axis = 1)\n",
    "df[\"DaliaGryb\"].mean()"
   ]
  },
  {
   "cell_type": "code",
   "execution_count": null,
   "id": "f26f88f0-cc21-4760-a722-86472420465e",
   "metadata": {},
   "outputs": [],
   "source": [
    "df[\"LT\"] =  df.apply(lambda x : x[\"country\"]== \"LT\", axis = 1)\n",
    "df[\"LT\"].mean()"
   ]
  },
  {
   "cell_type": "code",
   "execution_count": null,
   "id": "84246798-ea7e-4205-8248-edca3b421865",
   "metadata": {},
   "outputs": [],
   "source": [
    "df[\"fp_def\"] = df.apply(lambda x : (x[\"Foreign-Affairs\"] + x[\"Defense\"]) > 0, axis = 1 )"
   ]
  },
  {
   "cell_type": "code",
   "execution_count": null,
   "id": "a06b5209-c20f-45bf-9a89-7694fe12e5c0",
   "metadata": {},
   "outputs": [],
   "source": [
    "df[\"pandemic_period\"] = df.apply(lambda x : 2019< x[\"year\"] < 2022, axis = 1 )"
   ]
  },
  {
   "cell_type": "code",
   "execution_count": null,
   "id": "6f975d1e-8643-4e6f-86d6-49a9666c156d",
   "metadata": {},
   "outputs": [],
   "source": [
    "df.to_parquet('MainData_disagg.parquet')"
   ]
  },
  {
   "cell_type": "markdown",
   "id": "42862909-a1c4-475e-9462-a967453e3e08",
   "metadata": {},
   "source": [
    "# Aggregating"
   ]
  },
  {
   "cell_type": "code",
   "execution_count": null,
   "id": "5ce961ed-c2ee-459a-98ac-72b571d88e11",
   "metadata": {},
   "outputs": [],
   "source": [
    "df.columns"
   ]
  },
  {
   "cell_type": "code",
   "execution_count": null,
   "id": "ff00f20c-079e-4d99-ac50-d66aaee470fe",
   "metadata": {},
   "outputs": [],
   "source": [
    "agg_dict = {'first_year' : \"mean\",\n",
    "            'PresAtt' : \"mean\", \n",
    "            'Prime-Minister' : \"mean\",\n",
    "            'President-Prime-Minister' : \"mean\",\n",
    "            'Foreign-Affairs' : \"mean\",\n",
    "            'President-Foreign-Affairs': \"mean\", \n",
    "            'Defense': \"mean\",\n",
    "            'President-Defense': \"mean\",\n",
    "            'Healthcare': \"mean\",\n",
    "            'President-Healthcare': \"mean\", \n",
    "            'Internal-Affairs': \"mean\",\n",
    "            'President-Internal-Affairs' : \"mean\", \n",
    "            'Economy' : \"mean\",\n",
    "            'President-Economy' : \"mean\", \n",
    "            'Finance' : \"mean\",\n",
    "            'President-Finance': \"mean\", \n",
    "            'Social-Security': \"mean\",\n",
    "            'President-Social-Security' : \"mean\",\n",
    "            'Research-Education': \"mean\",\n",
    "            'President-Research-Education' : \"mean\", \n",
    "            'Environment' : \"mean\",\n",
    "            'President-Environment' : \"mean\", \n",
    "            'Justice' : \"mean\",\n",
    "            'President-Justice' : \"mean\", \n",
    "            'Culture' : \"mean\",\n",
    "            'President-Culture' : \"mean\", \n",
    "            'Agriculture': \"mean\",\n",
    "            'President-Agriculture': \"mean\", \n",
    "            'Other': \"mean\",\n",
    "            'President-Other' : \"mean\", \n",
    "            'pm_strength' : \"mean\",\n",
    "            'LT' : \"mean\",\n",
    "            'MedAtt': \"mean\",\n",
    "            'DaliaGryb': \"mean\", \n",
    "            \"fp_def\" : \"mean\", \n",
    "           \"pandemic_period\" : \"mean\"}\n",
    "\n",
    "dfg = df.groupby([\"year\", \"month\", \"country\"]).agg(agg_dict)\n",
    "print(dfg.shape)\n",
    "dfg.head()"
   ]
  },
  {
   "cell_type": "code",
   "execution_count": null,
   "id": "68059e8b-dee2-4196-9136-a33b2522b065",
   "metadata": {},
   "outputs": [],
   "source": [
    "dfg2 = pd.DataFrame()\n",
    "dfg2[\"year\"] = [i[0] for i in list(dfg.index)]\n",
    "dfg2[\"month\"] = [i[1] for i in list(dfg.index)]\n",
    "for col in list(dfg.columns):\n",
    "    dfg2[col] = list(dfg[col])\n",
    "print(dfg2.shape)\n",
    "dfg2.head()"
   ]
  },
  {
   "cell_type": "code",
   "execution_count": null,
   "id": "f398d9d5-6bd5-4b06-928b-04aa30b1d721",
   "metadata": {},
   "outputs": [],
   "source": [
    "dfg2.tail()"
   ]
  },
  {
   "cell_type": "code",
   "execution_count": null,
   "id": "143210fa-68d7-454c-a3ae-e182b2a477c9",
   "metadata": {},
   "outputs": [],
   "source": [
    "dfg2.to_parquet(\"MainData.parquet\")"
   ]
  },
  {
   "cell_type": "code",
   "execution_count": null,
   "id": "12a90e45-f453-47cb-bc58-808b4db045af",
   "metadata": {},
   "outputs": [],
   "source": []
  },
  {
   "cell_type": "code",
   "execution_count": null,
   "id": "68cc8938-f13f-44d7-87f2-57880cf51e18",
   "metadata": {},
   "outputs": [],
   "source": [
    "dfg2[\"pm_strength\"]"
   ]
  },
  {
   "cell_type": "code",
   "execution_count": null,
   "id": "e0dccfec-d4ab-419e-a2b5-ad5fbff2d0f6",
   "metadata": {},
   "outputs": [],
   "source": []
  }
 ],
 "metadata": {
  "kernelspec": {
   "display_name": "Python 3",
   "language": "python",
   "name": "python3"
  },
  "language_info": {
   "codemirror_mode": {
    "name": "ipython",
    "version": 3
   },
   "file_extension": ".py",
   "mimetype": "text/x-python",
   "name": "python",
   "nbconvert_exporter": "python",
   "pygments_lexer": "ipython3",
   "version": "3.8.8"
  }
 },
 "nbformat": 4,
 "nbformat_minor": 5
}
