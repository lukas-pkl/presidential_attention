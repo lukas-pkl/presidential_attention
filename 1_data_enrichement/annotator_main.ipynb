{
 "cells": [
  {
   "cell_type": "code",
   "execution_count": 1,
   "id": "ba300d19-a5f1-4e3e-8ad3-12a34395088f",
   "metadata": {},
   "outputs": [],
   "source": [
    "from datetime import datetime\n",
    "\n",
    "from pymongo import MongoClient\n",
    "\n",
    "import constants\n",
    "from annotator import LTAnnotator\n",
    "from utils import LTDoc"
   ]
  },
  {
   "cell_type": "code",
   "execution_count": 2,
   "id": "1095c419-e89d-492c-b155-75d74fd2b498",
   "metadata": {},
   "outputs": [],
   "source": [
    "mongo = MongoClient(constants.mongo_conn_string)\n",
    "mongo_lt_source_col = mongo[constants.mongo_db][constants.mongo_lt_col]\n",
    "mongo_lt_destination_col = mongo[constants.mongo_db][constants.mongo_lt_annotated_col]"
   ]
  },
  {
   "cell_type": "code",
   "execution_count": 3,
   "id": "9b5f589d-3dc4-4a38-98ff-29602483db9e",
   "metadata": {},
   "outputs": [],
   "source": [
    "anno = LTAnnotator()"
   ]
  },
  {
   "cell_type": "code",
   "execution_count": 4,
   "id": "f2b6be3a-f43d-4642-906b-c8df558a7db4",
   "metadata": {},
   "outputs": [],
   "source": [
    "years = [i for i in range(1999,2022)]"
   ]
  },
  {
   "cell_type": "code",
   "execution_count": null,
   "id": "9b707912-bea2-4bc7-8c4e-29974ad016d3",
   "metadata": {},
   "outputs": [
    {
     "name": "stdout",
     "output_type": "stream",
     "text": [
      "1999\n",
      "Records for this year 0\n",
      "2000\n"
     ]
    },
    {
     "name": "stderr",
     "output_type": "stream",
     "text": [
      "  0%|          | 5/2971 [00:00<01:04, 46.13it/s]"
     ]
    },
    {
     "name": "stdout",
     "output_type": "stream",
     "text": [
      "Records for this year 2971\n"
     ]
    },
    {
     "name": "stderr",
     "output_type": "stream",
     "text": [
      "100%|██████████| 2971/2971 [01:17<00:00, 38.42it/s]\n",
      "100%|██████████| 581/581 [00:00<00:00, 68334.89it/s]\n"
     ]
    },
    {
     "name": "stdout",
     "output_type": "stream",
     "text": [
      "2001\n"
     ]
    },
    {
     "name": "stderr",
     "output_type": "stream",
     "text": [
      "  0%|          | 4/5134 [00:00<02:11, 39.14it/s]"
     ]
    },
    {
     "name": "stdout",
     "output_type": "stream",
     "text": [
      "Records for this year 5134\n"
     ]
    },
    {
     "name": "stderr",
     "output_type": "stream",
     "text": [
      "100%|██████████| 5134/5134 [02:48<00:00, 30.51it/s]\n",
      "100%|██████████| 1195/1195 [00:00<00:00, 44712.20it/s]\n"
     ]
    },
    {
     "name": "stdout",
     "output_type": "stream",
     "text": [
      "2002\n"
     ]
    },
    {
     "name": "stderr",
     "output_type": "stream",
     "text": [
      "  0%|          | 2/6197 [00:00<08:01, 12.87it/s]"
     ]
    },
    {
     "name": "stdout",
     "output_type": "stream",
     "text": [
      "Records for this year 6197\n"
     ]
    },
    {
     "name": "stderr",
     "output_type": "stream",
     "text": [
      " 88%|████████▊ | 5447/6197 [04:13<00:35, 20.99it/s]"
     ]
    }
   ],
   "source": [
    "for y in years:\n",
    "    print(y)\n",
    "    query = {\"date\" : {\"$gte\": datetime(y, 1, 1), \"$lt\":datetime(y+1, 1, 1)}}\n",
    "    cursor = mongo_lt_source_col.find(query)\n",
    "    input_data = [i for i in cursor]\n",
    "    print(f\"Records for this year {len(input_data)}\")\n",
    "    if len(input_data)>0:\n",
    "\n",
    "        df = anno.detect_entities(input_data)\n",
    "        df2 = anno.extend_data_datetime_vars(df)\n",
    "        df3 = anno.extend_data_cabinet_vars(df2)\n",
    "        \n",
    "        validated_data = [LTDoc(**i) for i in df3.to_dict(orient=\"records\")] #Testing for schema compliance\n",
    "        validated_data2 = [i.dict() for i in validated_data]\n",
    "        \n",
    "        mongo_lt_destination_col.insert_many(validated_data2)\n"
   ]
  },
  {
   "cell_type": "code",
   "execution_count": null,
   "id": "9eafe140-100a-44c9-94d1-0ee3e82cf5fb",
   "metadata": {},
   "outputs": [],
   "source": []
  }
 ],
 "metadata": {
  "kernelspec": {
   "display_name": "Python 3",
   "language": "python",
   "name": "python3"
  },
  "language_info": {
   "codemirror_mode": {
    "name": "ipython",
    "version": 3
   },
   "file_extension": ".py",
   "mimetype": "text/x-python",
   "name": "python",
   "nbconvert_exporter": "python",
   "pygments_lexer": "ipython3",
   "version": "3.8.8"
  }
 },
 "nbformat": 4,
 "nbformat_minor": 5
}
