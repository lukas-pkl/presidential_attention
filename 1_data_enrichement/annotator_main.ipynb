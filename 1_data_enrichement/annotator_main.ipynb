{
 "cells": [
  {
   "cell_type": "code",
   "execution_count": 1,
   "id": "ba300d19-a5f1-4e3e-8ad3-12a34395088f",
   "metadata": {},
   "outputs": [],
   "source": [
    "from datetime import datetime\n",
    "\n",
    "from pymongo import MongoClient\n",
    "\n",
    "import constants\n",
    "from annotator import LTAnnotator\n",
    "from utils import LTDoc"
   ]
  },
  {
   "cell_type": "code",
   "execution_count": 2,
   "id": "1095c419-e89d-492c-b155-75d74fd2b498",
   "metadata": {},
   "outputs": [],
   "source": [
    "mongo = MongoClient(constants.mongo_conn_string)\n",
    "mongo_lt_source_col = mongo[constants.mongo_db][constants.mongo_lt_col]\n",
    "mongo_lt_destination_col = mongo[constants.mongo_db][constants.mongo_lt_annotated_col]"
   ]
  },
  {
   "cell_type": "code",
   "execution_count": 3,
   "id": "9b5f589d-3dc4-4a38-98ff-29602483db9e",
   "metadata": {},
   "outputs": [],
   "source": [
    "anno = LTAnnotator()"
   ]
  },
  {
   "cell_type": "code",
   "execution_count": 4,
   "id": "f2b6be3a-f43d-4642-906b-c8df558a7db4",
   "metadata": {},
   "outputs": [],
   "source": [
    "years = [i for i in range(1999,2022)]"
   ]
  },
  {
   "cell_type": "code",
   "execution_count": 5,
   "id": "9b707912-bea2-4bc7-8c4e-29974ad016d3",
   "metadata": {},
   "outputs": [
    {
     "name": "stdout",
     "output_type": "stream",
     "text": [
      "1999\n",
      "Records for this year 0\n",
      "2000\n"
     ]
    },
    {
     "name": "stderr",
     "output_type": "stream",
     "text": [
      "  0%|          | 5/2971 [00:00<01:04, 46.13it/s]"
     ]
    },
    {
     "name": "stdout",
     "output_type": "stream",
     "text": [
      "Records for this year 2971\n"
     ]
    },
    {
     "name": "stderr",
     "output_type": "stream",
     "text": [
      "100%|██████████| 2971/2971 [01:17<00:00, 38.42it/s]\n",
      "100%|██████████| 581/581 [00:00<00:00, 68334.89it/s]\n"
     ]
    },
    {
     "name": "stdout",
     "output_type": "stream",
     "text": [
      "2001\n"
     ]
    },
    {
     "name": "stderr",
     "output_type": "stream",
     "text": [
      "  0%|          | 4/5134 [00:00<02:11, 39.14it/s]"
     ]
    },
    {
     "name": "stdout",
     "output_type": "stream",
     "text": [
      "Records for this year 5134\n"
     ]
    },
    {
     "name": "stderr",
     "output_type": "stream",
     "text": [
      "100%|██████████| 5134/5134 [02:48<00:00, 30.51it/s]\n",
      "100%|██████████| 1195/1195 [00:00<00:00, 44712.20it/s]\n"
     ]
    },
    {
     "name": "stdout",
     "output_type": "stream",
     "text": [
      "2002\n"
     ]
    },
    {
     "name": "stderr",
     "output_type": "stream",
     "text": [
      "  0%|          | 2/6197 [00:00<08:01, 12.87it/s]"
     ]
    },
    {
     "name": "stdout",
     "output_type": "stream",
     "text": [
      "Records for this year 6197\n"
     ]
    },
    {
     "name": "stderr",
     "output_type": "stream",
     "text": [
      "100%|██████████| 6197/6197 [04:45<00:00, 21.69it/s]\n",
      "100%|██████████| 1781/1781 [00:00<00:00, 61246.03it/s]\n"
     ]
    },
    {
     "name": "stdout",
     "output_type": "stream",
     "text": [
      "2003\n"
     ]
    },
    {
     "name": "stderr",
     "output_type": "stream",
     "text": [
      "  0%|          | 3/5505 [00:00<03:10, 28.83it/s]"
     ]
    },
    {
     "name": "stdout",
     "output_type": "stream",
     "text": [
      "Records for this year 5505\n"
     ]
    },
    {
     "name": "stderr",
     "output_type": "stream",
     "text": [
      "100%|██████████| 5505/5505 [04:01<00:00, 22.80it/s]\n",
      "100%|██████████| 1959/1959 [00:00<00:00, 68338.18it/s]\n"
     ]
    },
    {
     "name": "stdout",
     "output_type": "stream",
     "text": [
      "2004\n"
     ]
    },
    {
     "name": "stderr",
     "output_type": "stream",
     "text": [
      "  0%|          | 5/5889 [00:00<02:14, 43.62it/s]"
     ]
    },
    {
     "name": "stdout",
     "output_type": "stream",
     "text": [
      "Records for this year 5889\n"
     ]
    },
    {
     "name": "stderr",
     "output_type": "stream",
     "text": [
      "100%|██████████| 5889/5889 [04:03<00:00, 24.16it/s]\n",
      "100%|██████████| 1664/1664 [00:00<00:00, 51805.75it/s]\n"
     ]
    },
    {
     "name": "stdout",
     "output_type": "stream",
     "text": [
      "2005\n"
     ]
    },
    {
     "name": "stderr",
     "output_type": "stream",
     "text": [
      "  0%|          | 1/5446 [00:00<11:59,  7.56it/s]"
     ]
    },
    {
     "name": "stdout",
     "output_type": "stream",
     "text": [
      "Records for this year 5446\n"
     ]
    },
    {
     "name": "stderr",
     "output_type": "stream",
     "text": [
      "100%|██████████| 5446/5446 [03:33<00:00, 25.56it/s]\n",
      "100%|██████████| 1429/1429 [00:00<00:00, 68000.05it/s]\n"
     ]
    },
    {
     "name": "stdout",
     "output_type": "stream",
     "text": [
      "2006\n"
     ]
    },
    {
     "name": "stderr",
     "output_type": "stream",
     "text": [
      "  0%|          | 3/5301 [00:00<03:10, 27.77it/s]"
     ]
    },
    {
     "name": "stdout",
     "output_type": "stream",
     "text": [
      "Records for this year 5301\n"
     ]
    },
    {
     "name": "stderr",
     "output_type": "stream",
     "text": [
      "100%|██████████| 5301/5301 [03:27<00:00, 25.55it/s]\n",
      "100%|██████████| 1435/1435 [00:00<00:00, 66351.67it/s]\n"
     ]
    },
    {
     "name": "stdout",
     "output_type": "stream",
     "text": [
      "2007\n"
     ]
    },
    {
     "name": "stderr",
     "output_type": "stream",
     "text": [
      "  0%|          | 1/4567 [00:00<08:33,  8.90it/s]"
     ]
    },
    {
     "name": "stdout",
     "output_type": "stream",
     "text": [
      "Records for this year 4567\n"
     ]
    },
    {
     "name": "stderr",
     "output_type": "stream",
     "text": [
      "100%|██████████| 4567/4567 [05:12<00:00, 14.63it/s]  \n",
      "100%|██████████| 1151/1151 [00:00<00:00, 66193.77it/s]\n"
     ]
    },
    {
     "name": "stdout",
     "output_type": "stream",
     "text": [
      "2008\n"
     ]
    },
    {
     "name": "stderr",
     "output_type": "stream",
     "text": [
      "  0%|          | 3/4682 [00:00<03:47, 20.60it/s]"
     ]
    },
    {
     "name": "stdout",
     "output_type": "stream",
     "text": [
      "Records for this year 4682\n"
     ]
    },
    {
     "name": "stderr",
     "output_type": "stream",
     "text": [
      "100%|██████████| 4682/4682 [04:02<00:00, 19.28it/s]\n",
      "100%|██████████| 1224/1224 [00:00<00:00, 59145.48it/s]\n"
     ]
    },
    {
     "name": "stdout",
     "output_type": "stream",
     "text": [
      "2009\n"
     ]
    },
    {
     "name": "stderr",
     "output_type": "stream",
     "text": [
      "  0%|          | 0/6288 [00:00<?, ?it/s]"
     ]
    },
    {
     "name": "stdout",
     "output_type": "stream",
     "text": [
      "Records for this year 6288\n"
     ]
    },
    {
     "name": "stderr",
     "output_type": "stream",
     "text": [
      "100%|██████████| 6288/6288 [06:41<00:00, 15.66it/s]\n",
      "100%|██████████| 2748/2748 [00:00<00:00, 52256.70it/s]\n"
     ]
    },
    {
     "name": "stdout",
     "output_type": "stream",
     "text": [
      "2010\n"
     ]
    },
    {
     "name": "stderr",
     "output_type": "stream",
     "text": [
      "  0%|          | 3/5676 [00:00<03:18, 28.55it/s]"
     ]
    },
    {
     "name": "stdout",
     "output_type": "stream",
     "text": [
      "Records for this year 5676\n"
     ]
    },
    {
     "name": "stderr",
     "output_type": "stream",
     "text": [
      "100%|██████████| 5676/5676 [05:13<00:00, 18.08it/s]\n",
      "100%|██████████| 2334/2334 [00:00<00:00, 50723.09it/s]\n"
     ]
    },
    {
     "name": "stdout",
     "output_type": "stream",
     "text": [
      "2011\n"
     ]
    },
    {
     "name": "stderr",
     "output_type": "stream",
     "text": [
      "  0%|          | 4/6734 [00:00<03:26, 32.54it/s]"
     ]
    },
    {
     "name": "stdout",
     "output_type": "stream",
     "text": [
      "Records for this year 6734\n"
     ]
    },
    {
     "name": "stderr",
     "output_type": "stream",
     "text": [
      "100%|██████████| 6734/6734 [05:23<00:00, 20.83it/s]\n",
      "100%|██████████| 2575/2575 [00:00<00:00, 41005.25it/s]\n"
     ]
    },
    {
     "name": "stdout",
     "output_type": "stream",
     "text": [
      "2012\n"
     ]
    },
    {
     "name": "stderr",
     "output_type": "stream",
     "text": [
      "  0%|          | 4/6336 [00:00<03:23, 31.13it/s]"
     ]
    },
    {
     "name": "stdout",
     "output_type": "stream",
     "text": [
      "Records for this year 6336\n"
     ]
    },
    {
     "name": "stderr",
     "output_type": "stream",
     "text": [
      "100%|██████████| 6336/6336 [05:33<00:00, 19.01it/s]\n",
      "100%|██████████| 2503/2503 [00:00<00:00, 48910.26it/s]\n"
     ]
    },
    {
     "name": "stdout",
     "output_type": "stream",
     "text": [
      "2013\n"
     ]
    },
    {
     "name": "stderr",
     "output_type": "stream",
     "text": [
      "  0%|          | 5/6179 [00:00<03:19, 30.95it/s]"
     ]
    },
    {
     "name": "stdout",
     "output_type": "stream",
     "text": [
      "Records for this year 6179\n"
     ]
    },
    {
     "name": "stderr",
     "output_type": "stream",
     "text": [
      "100%|██████████| 6179/6179 [06:11<00:00, 16.63it/s]\n",
      "100%|██████████| 2155/2155 [00:00<00:00, 48404.28it/s]\n"
     ]
    },
    {
     "name": "stdout",
     "output_type": "stream",
     "text": [
      "2014\n"
     ]
    },
    {
     "name": "stderr",
     "output_type": "stream",
     "text": [
      "  0%|          | 5/6122 [00:00<02:13, 45.90it/s]"
     ]
    },
    {
     "name": "stdout",
     "output_type": "stream",
     "text": [
      "Records for this year 6122\n"
     ]
    },
    {
     "name": "stderr",
     "output_type": "stream",
     "text": [
      "100%|██████████| 6122/6122 [06:22<00:00, 16.02it/s]\n",
      "100%|██████████| 2332/2332 [00:00<00:00, 46674.99it/s]\n"
     ]
    },
    {
     "name": "stdout",
     "output_type": "stream",
     "text": [
      "2015\n"
     ]
    },
    {
     "name": "stderr",
     "output_type": "stream",
     "text": [
      "  0%|          | 1/7132 [00:00<14:12,  8.36it/s]"
     ]
    },
    {
     "name": "stdout",
     "output_type": "stream",
     "text": [
      "Records for this year 7132\n"
     ]
    },
    {
     "name": "stderr",
     "output_type": "stream",
     "text": [
      "100%|██████████| 7132/7132 [07:56<00:00, 14.98it/s]\n",
      "100%|██████████| 2735/2735 [00:00<00:00, 44534.68it/s]\n"
     ]
    },
    {
     "name": "stdout",
     "output_type": "stream",
     "text": [
      "2016\n"
     ]
    },
    {
     "name": "stderr",
     "output_type": "stream",
     "text": [
      "  0%|          | 1/7433 [00:00<14:23,  8.60it/s]"
     ]
    },
    {
     "name": "stdout",
     "output_type": "stream",
     "text": [
      "Records for this year 7433\n"
     ]
    },
    {
     "name": "stderr",
     "output_type": "stream",
     "text": [
      "100%|██████████| 7433/7433 [08:48<00:00, 14.05it/s]\n",
      "100%|██████████| 2943/2943 [00:00<00:00, 43554.70it/s]\n"
     ]
    },
    {
     "name": "stdout",
     "output_type": "stream",
     "text": [
      "2017\n"
     ]
    },
    {
     "name": "stderr",
     "output_type": "stream",
     "text": [
      "  0%|          | 2/7586 [00:00<08:07, 15.57it/s]"
     ]
    },
    {
     "name": "stdout",
     "output_type": "stream",
     "text": [
      "Records for this year 7586\n"
     ]
    },
    {
     "name": "stderr",
     "output_type": "stream",
     "text": [
      "100%|██████████| 7586/7586 [08:28<00:00, 14.92it/s]\n",
      "100%|██████████| 2999/2999 [00:00<00:00, 37761.57it/s]\n"
     ]
    },
    {
     "name": "stdout",
     "output_type": "stream",
     "text": [
      "2018\n"
     ]
    },
    {
     "name": "stderr",
     "output_type": "stream",
     "text": [
      "  0%|          | 1/9097 [00:00<20:45,  7.30it/s]"
     ]
    },
    {
     "name": "stdout",
     "output_type": "stream",
     "text": [
      "Records for this year 9097\n"
     ]
    },
    {
     "name": "stderr",
     "output_type": "stream",
     "text": [
      "100%|██████████| 9097/9097 [10:51<00:00, 13.97it/s]\n",
      "100%|██████████| 3821/3821 [00:00<00:00, 36859.33it/s]\n"
     ]
    },
    {
     "name": "stdout",
     "output_type": "stream",
     "text": [
      "2019\n"
     ]
    },
    {
     "name": "stderr",
     "output_type": "stream",
     "text": [
      "  0%|          | 0/10856 [00:00<?, ?it/s]"
     ]
    },
    {
     "name": "stdout",
     "output_type": "stream",
     "text": [
      "Records for this year 10856\n"
     ]
    },
    {
     "name": "stderr",
     "output_type": "stream",
     "text": [
      "100%|██████████| 10856/10856 [12:20<00:00, 14.66it/s] \n",
      "100%|██████████| 4702/4702 [00:00<00:00, 43149.43it/s]\n"
     ]
    },
    {
     "name": "stdout",
     "output_type": "stream",
     "text": [
      "2020\n"
     ]
    },
    {
     "name": "stderr",
     "output_type": "stream",
     "text": [
      "  0%|          | 1/12909 [00:00<30:14,  7.11it/s]"
     ]
    },
    {
     "name": "stdout",
     "output_type": "stream",
     "text": [
      "Records for this year 12909\n"
     ]
    },
    {
     "name": "stderr",
     "output_type": "stream",
     "text": [
      "100%|██████████| 12909/12909 [14:40<00:00, 14.66it/s] \n",
      "100%|██████████| 5858/5858 [00:00<00:00, 42613.23it/s]\n"
     ]
    },
    {
     "name": "stdout",
     "output_type": "stream",
     "text": [
      "2021\n"
     ]
    },
    {
     "name": "stderr",
     "output_type": "stream",
     "text": [
      "  0%|          | 1/12911 [00:00<22:19,  9.63it/s]"
     ]
    },
    {
     "name": "stdout",
     "output_type": "stream",
     "text": [
      "Records for this year 12911\n"
     ]
    },
    {
     "name": "stderr",
     "output_type": "stream",
     "text": [
      "100%|██████████| 12911/12911 [14:01<00:00, 15.35it/s]\n",
      "100%|██████████| 5826/5826 [00:00<00:00, 38691.76it/s]\n"
     ]
    }
   ],
   "source": [
    "for y in years:\n",
    "    print(y)\n",
    "    query = {\"date\" : {\"$gte\": datetime(y, 1, 1), \"$lt\":datetime(y+1, 1, 1)}}\n",
    "    cursor = mongo_lt_source_col.find(query)\n",
    "    input_data = [i for i in cursor]\n",
    "    print(f\"Records for this year {len(input_data)}\")\n",
    "    if len(input_data)>0:\n",
    "\n",
    "        df = anno.detect_entities(input_data)\n",
    "        df2 = anno.extend_data_datetime_vars(df)\n",
    "        df3 = anno.extend_data_cabinet_vars(df2)\n",
    "        \n",
    "        validated_data = [LTDoc(**i) for i in df3.to_dict(orient=\"records\")] #Testing for schema compliance\n",
    "        validated_data2 = [i.dict() for i in validated_data]\n",
    "        \n",
    "        mongo_lt_destination_col.insert_many(validated_data2)\n"
   ]
  },
  {
   "cell_type": "code",
   "execution_count": 6,
   "id": "9eafe140-100a-44c9-94d1-0ee3e82cf5fb",
   "metadata": {},
   "outputs": [
    {
     "data": {
      "text/plain": [
       "2021"
      ]
     },
     "execution_count": 6,
     "metadata": {},
     "output_type": "execute_result"
    }
   ],
   "source": [
    "datetime.now().year"
   ]
  },
  {
   "cell_type": "code",
   "execution_count": null,
   "id": "8baa0d17-a99b-4b7e-a2af-e35c6e081b43",
   "metadata": {},
   "outputs": [],
   "source": []
  }
 ],
 "metadata": {
  "kernelspec": {
   "display_name": "Python 3",
   "language": "python",
   "name": "python3"
  },
  "language_info": {
   "codemirror_mode": {
    "name": "ipython",
    "version": 3
   },
   "file_extension": ".py",
   "mimetype": "text/x-python",
   "name": "python",
   "nbconvert_exporter": "python",
   "pygments_lexer": "ipython3",
   "version": "3.8.8"
  }
 },
 "nbformat": 4,
 "nbformat_minor": 5
}
