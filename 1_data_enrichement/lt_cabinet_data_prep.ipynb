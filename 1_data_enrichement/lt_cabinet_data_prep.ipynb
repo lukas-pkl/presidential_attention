{
 "cells": [
  {
   "cell_type": "code",
   "execution_count": null,
   "id": "5936da3b-e14e-4d0e-aa0e-92312aa874fb",
   "metadata": {},
   "outputs": [],
   "source": [
    "import pandas as pd\n",
    "import pickle"
   ]
  },
  {
   "cell_type": "markdown",
   "id": "9db498a7-424b-4248-9b3a-4bfb79e2674a",
   "metadata": {},
   "source": [
    "# Cabinets"
   ]
  },
  {
   "cell_type": "code",
   "execution_count": null,
   "id": "a18eb3ae-a173-4872-89e5-92a73386a91e",
   "metadata": {},
   "outputs": [],
   "source": [
    "df = pd.read_excel(\"./data/CabinetMembers.ods\", engine = \"odf\")\n",
    "print(df.shape)\n",
    "df.head()"
   ]
  },
  {
   "cell_type": "code",
   "execution_count": null,
   "id": "dbd1f93f-dba2-40f0-a6df-31ba2b818386",
   "metadata": {},
   "outputs": [],
   "source": [
    "df_forms = pd.read_excel(\"./data/CabinetMemberForms.ods\", engine = \"odf\")\n",
    "df_forms[\"full_name\"] = df_forms.apply(lambda x: x[\"name\"] + \" \" + x[\"surname\"], axis = 1)\n",
    "print(df_forms.shape)\n",
    "df_forms.head()"
   ]
  },
  {
   "cell_type": "code",
   "execution_count": null,
   "id": "72a7d877-8c43-4bf9-9952-8541e233934d",
   "metadata": {},
   "outputs": [],
   "source": [
    "df_forms_g = df_forms.groupby([\"person_id\"]).agg({'full_name':lambda x: list(x)})\n",
    "print(df_forms_g.shape)\n",
    "df_forms_g.head()"
   ]
  },
  {
   "cell_type": "code",
   "execution_count": null,
   "id": "dcced7c5-d468-4498-b009-3b137e3c406d",
   "metadata": {},
   "outputs": [],
   "source": [
    "df_forms2 = pd.DataFrame()\n",
    "df_forms2[\"person_id\"] = list(df_forms_g.index)\n",
    "df_forms2[\"names\"] = list(df_forms_g[\"full_name\"])\n",
    "print(df_forms2.shape)\n",
    "df_forms2.head()"
   ]
  },
  {
   "cell_type": "code",
   "execution_count": null,
   "id": "4cf1c4c0-eaa1-4a1b-abd2-fa2f89de5a2e",
   "metadata": {},
   "outputs": [],
   "source": [
    "df_full = pd.merge(left=df, right=df_forms2, on=\"person_id\", how=\"inner\")\n",
    "print(df_full.shape)\n",
    "df_full.head()"
   ]
  },
  {
   "cell_type": "code",
   "execution_count": null,
   "id": "c6cdfd65-a191-4050-9b51-38f9e73ccce1",
   "metadata": {},
   "outputs": [],
   "source": [
    "dfl = df_full.to_dict(orient=\"records\")\n",
    "dfl[10]"
   ]
  },
  {
   "cell_type": "markdown",
   "id": "80f89c48-8859-4b54-8dc5-2d8ae81ad587",
   "metadata": {},
   "source": [
    "# Cabinet institutions"
   ]
  },
  {
   "cell_type": "code",
   "execution_count": null,
   "id": "1f26d61b-e374-4e21-8460-3775dddd73a9",
   "metadata": {},
   "outputs": [],
   "source": [
    "df_ins = pd.read_excel(\"./data/CabinetInstitutions.ods\", engine = \"odf\")\n",
    "print(df_ins.shape)\n",
    "df_ins.head()"
   ]
  },
  {
   "cell_type": "code",
   "execution_count": null,
   "id": "9c6e3cc4-6f0a-4ee1-a004-ac929121fcd9",
   "metadata": {},
   "outputs": [],
   "source": [
    "df_ins_forms = pd.read_excel(\"./data/CabinetInstitutionForms.ods\", engine = \"odf\")\n",
    "df_ins_forms[\"full_name\"] = df_ins_forms.apply(lambda x: x[\"name\"] + \" \" + x[\"surname\"], axis = 1)\n",
    "print(df_ins_forms.shape)\n",
    "df_ins_forms.head()"
   ]
  },
  {
   "cell_type": "code",
   "execution_count": null,
   "id": "54c7de75-7d12-47a4-9efe-a3dc685adf0b",
   "metadata": {},
   "outputs": [],
   "source": [
    "df_ins_forms_g = df_ins_forms.groupby([\"person_id\"]).agg({'full_name':lambda x: list(x)})\n",
    "print(df_ins_forms_g.shape)\n",
    "df_ins_forms_g.head()"
   ]
  },
  {
   "cell_type": "code",
   "execution_count": null,
   "id": "ecb44a12-f72b-4a3c-90f7-114e5fc74b5c",
   "metadata": {},
   "outputs": [],
   "source": [
    "df_ins_forms2 = pd.DataFrame()\n",
    "df_ins_forms2[\"person_id\"] = list(df_ins_forms_g.index)\n",
    "df_ins_forms2[\"names\"] = list(df_ins_forms_g[\"full_name\"])\n",
    "print(df_ins_forms2.shape)\n",
    "df_ins_forms2.head()"
   ]
  },
  {
   "cell_type": "code",
   "execution_count": null,
   "id": "328eed2f-3bb3-49b5-87ad-2fe59359a66f",
   "metadata": {},
   "outputs": [],
   "source": [
    "df_ins_full = pd.merge(left=df_ins, right=df_ins_forms2, on=\"person_id\", how=\"inner\")\n",
    "print(df_ins_full.shape)\n",
    "df_ins_full.head()"
   ]
  },
  {
   "cell_type": "code",
   "execution_count": null,
   "id": "ab91d4a5-b469-40b9-9e26-f7107ee5a873",
   "metadata": {},
   "outputs": [],
   "source": [
    "dfl_ins = df_ins_full.to_dict(orient=\"records\")\n",
    "dfl_ins[10]"
   ]
  },
  {
   "cell_type": "code",
   "execution_count": null,
   "id": "397099c2-cc26-493f-8417-450b1baf167f",
   "metadata": {},
   "outputs": [],
   "source": [
    "dfl += dfl_ins"
   ]
  },
  {
   "cell_type": "markdown",
   "id": "bea831f3-d93a-4fff-a4a4-c193b1da91ef",
   "metadata": {},
   "source": [
    "# Presidents"
   ]
  },
  {
   "cell_type": "code",
   "execution_count": null,
   "id": "f6302ae8-6da0-494c-a226-9220598a4553",
   "metadata": {},
   "outputs": [],
   "source": [
    "df_prez = pd.read_excel(\"./data/Presidents.ods\", engine = \"odf\")\n",
    "print(df_prez.shape)\n",
    "df_prez.head()"
   ]
  },
  {
   "cell_type": "code",
   "execution_count": null,
   "id": "f0d0cdb4-bc10-4506-bc48-1bdc1ae12475",
   "metadata": {},
   "outputs": [],
   "source": [
    "df_prez_forms = pd.read_excel(\"./data/PresidentForms.ods\", engine = \"odf\")\n",
    "df_prez_forms[\"full_name\"] = df_prez_forms.apply(lambda x: x[\"name\"] + \" \" + x[\"surname\"], axis = 1)\n",
    "print(df_prez_forms.shape)\n",
    "df_prez_forms.head()"
   ]
  },
  {
   "cell_type": "code",
   "execution_count": null,
   "id": "6ca27ad2-86b7-43e7-834e-fdf8cd4514c0",
   "metadata": {},
   "outputs": [],
   "source": [
    "df_prez_forms_g = df_prez_forms.groupby([\"person_id\"]).agg({'full_name':lambda x: list(x)})\n",
    "print(df_prez_forms_g.shape)\n",
    "df_prez_forms_g.head()"
   ]
  },
  {
   "cell_type": "code",
   "execution_count": null,
   "id": "5a667a6a-c17c-4d37-9e15-7f483f245d52",
   "metadata": {},
   "outputs": [],
   "source": [
    "df_prez_forms2 = pd.DataFrame()\n",
    "df_prez_forms2[\"person_id\"] = list(df_prez_forms_g.index)\n",
    "df_prez_forms2[\"names\"] = list(df_prez_forms_g[\"full_name\"])\n",
    "print(df_prez_forms2.shape)\n",
    "df_prez_forms2.head()"
   ]
  },
  {
   "cell_type": "code",
   "execution_count": null,
   "id": "ce9e0e98-8a8e-4861-a5bd-31d2f808c0fe",
   "metadata": {},
   "outputs": [],
   "source": [
    "df_prez_full = pd.merge(left=df_prez, right=df_prez_forms2, on=\"person_id\", how=\"inner\")\n",
    "print(df_prez_full.shape)\n",
    "df_prez_full.head()"
   ]
  },
  {
   "cell_type": "code",
   "execution_count": null,
   "id": "ae9d4f65-2ec6-4c01-b719-bad3ca8fe424",
   "metadata": {},
   "outputs": [],
   "source": [
    "dfl_prez = df_prez_full.to_dict(orient=\"records\")\n",
    "dfl_prez[0]"
   ]
  },
  {
   "cell_type": "code",
   "execution_count": null,
   "id": "b6c52f1d-ac95-42e9-b8ac-2900d64677c3",
   "metadata": {},
   "outputs": [],
   "source": [
    "dfl += dfl_prez"
   ]
  },
  {
   "cell_type": "markdown",
   "id": "ae04b1be-5089-4e72-8955-ab9db7fea337",
   "metadata": {},
   "source": [
    "# Joining"
   ]
  },
  {
   "cell_type": "code",
   "execution_count": null,
   "id": "e3f4ca44-12be-4575-ba5a-5e665f371f7e",
   "metadata": {},
   "outputs": [],
   "source": [
    "with open(\"Cabinet_data_NER.pkl\", \"wb\") as file:\n",
    "    pickle.dump(dfl, file)"
   ]
  },
  {
   "cell_type": "code",
   "execution_count": null,
   "id": "836a912c-9605-4a22-9c46-a90217807eae",
   "metadata": {},
   "outputs": [],
   "source": []
  },
  {
   "cell_type": "code",
   "execution_count": null,
   "id": "8e289e2b-f578-44e3-b493-e68d95aa5723",
   "metadata": {},
   "outputs": [],
   "source": []
  }
 ],
 "metadata": {
  "kernelspec": {
   "display_name": "Python 3",
   "language": "python",
   "name": "python3"
  },
  "language_info": {
   "codemirror_mode": {
    "name": "ipython",
    "version": 3
   },
   "file_extension": ".py",
   "mimetype": "text/x-python",
   "name": "python",
   "nbconvert_exporter": "python",
   "pygments_lexer": "ipython3",
   "version": "3.8.8"
  }
 },
 "nbformat": 4,
 "nbformat_minor": 5
}
