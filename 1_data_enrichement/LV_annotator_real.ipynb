{
 "cells": [
  {
   "cell_type": "code",
   "execution_count": 1,
   "id": "00d6464b-b7aa-4fe7-913e-e32ca58d8e66",
   "metadata": {},
   "outputs": [],
   "source": [
    "import pandas as pd\n",
    "from tqdm import tqdm\n",
    "from pymongo import MongoClient\n",
    "import re\n",
    "import pickle\n",
    "from datetime import datetime\n",
    "from utils import LVDoc\n",
    "import time"
   ]
  },
  {
   "cell_type": "code",
   "execution_count": 2,
   "id": "c4b53ed3-00ae-478b-b4be-250fd0824656",
   "metadata": {},
   "outputs": [],
   "source": [
    "# DB Constants\n",
    "mongo = MongoClient(\"mongodb://localhost:27017/?readPreference=primary&appname=MongoDB%20Compass&ssl=false\")\n",
    "db = mongo[\"delfi_texts\"]\n",
    "source_col = db[\"lv_news\"]\n",
    "\n",
    "destination_col = db[\"lv_news_annotated\"]\n",
    "destination_col.drop()\n",
    "destination_col = db[\"lv_news_annotated\"]"
   ]
  },
  {
   "cell_type": "code",
   "execution_count": 3,
   "id": "20a8464f-3e52-49bc-ab27-28a71f6a9e0e",
   "metadata": {},
   "outputs": [
    {
     "name": "stdout",
     "output_type": "stream",
     "text": [
      "255\n"
     ]
    }
   ],
   "source": [
    "# Load cabinet data\n",
    "with open(\"Cabinet_data_NER_LV.pkl\", \"rb\") as file:\n",
    "    dfl = pickle.load(file)\n",
    "print(len(dfl))"
   ]
  },
  {
   "cell_type": "code",
   "execution_count": 4,
   "id": "a478413e-f497-49d2-b25d-fc83c676bc4c",
   "metadata": {},
   "outputs": [],
   "source": [
    "# Helpers\n",
    "\n",
    "\n",
    "def resolve_cabinet(cabinet_data, datetime_obj):\n",
    "    \"\"\"\n",
    "    Assembles list of cabinet member names for a particular datetime\n",
    "    \n",
    "    PARAMS:\n",
    "        cabinet_data:list - a list of cabinet members, their positions and incumbency duration\n",
    "        datetime_obj:datetime - date when a news article was published\n",
    "    RETURNS:\n",
    "        cabinet - a list of people who were ministers and the president for that time\n",
    "    \"\"\"\n",
    "\n",
    "    cabinet = []\n",
    "\n",
    "    for row in cabinet_data:\n",
    "        if row[\"from\"] <= datetime_obj <= row[\"to\"]:\n",
    "            cabinet.append(row)\n",
    "    return cabinet\n",
    "\n",
    "\n",
    "def cabinet_entities(datetime_obj, entities, cabinet_data):\n",
    "    \"\"\"\n",
    "    Cross-references a list of entities extracted from text\n",
    "    with a list of cabinet ministers in office at the time the article was published\n",
    "    \n",
    "    PARAMS:\n",
    "        datetime_obj:datetime - datetime when the article was published\n",
    "        entities:list - a list of entities extracted from text\n",
    "        cabinet_data:list - a list of cabinet members, their positions and incumbency duration\n",
    "    \n",
    "    RETURNS:\n",
    "        rel_mentions:list - a list of enities mentioned in text that were the cabinet \n",
    "                            members at the time and the president\n",
    "    \"\"\"\n",
    "    entities = set(entities)\n",
    "    relevant_cabinet = resolve_cabinet(cabinet_data, datetime_obj)\n",
    "    rel_mentions = []\n",
    "    for row in relevant_cabinet:\n",
    "        if any(name in entities for name in row[\"names\"]):\n",
    "            plh = {\n",
    "                \"person_id\": row[\"person_id\"],\n",
    "                \"person_name\": row[\"person_name\"],\n",
    "                \"cabinet_ents\": row[\"ministry\"],\n",
    "            }\n",
    "            rel_mentions.append(plh)\n",
    "    return rel_mentions\n",
    "\n",
    "def detect_ents_row(text, dfl, timestamp):\n",
    "    cabinet = resolve_cabinet(dfl, timestamp)\n",
    "    \n",
    "    plh = []\n",
    "    \n",
    "    for item in cabinet:\n",
    "        for entry in item[\"names\"]:\n",
    "            if entry in text:\n",
    "                d = {\"person_id\" : item[\"person_id\"], \n",
    "                    \"cabinet_no\" : item[\"cabinet_no\"], \n",
    "                    \"cabinet_ents\" : item[\"ministry\"], \n",
    "                    }\n",
    "                if d not in plh:\n",
    "                    plh.append(d)\n",
    "    return plh\n",
    "\n",
    "\n",
    "def prime_and_prez(cabinet: list):\n",
    "    pm = \"\"\n",
    "    cabinet_no = \"\"\n",
    "    prezident = \"\"\n",
    "\n",
    "    for item in cabinet:\n",
    "        if item[\"ministry\"] == \"Premjers\":\n",
    "            pm = item[\"person_name\"]\n",
    "            cabinet_no = str(item[\"cabinet_no\"])\n",
    "\n",
    "        if item[\"ministry\"] in (\"Prezidente\", \"Prezidents\"):\n",
    "            prezident = item[\"person_name\"]\n",
    "    return (pm, cabinet_no, prezident)"
   ]
  },
  {
   "cell_type": "code",
   "execution_count": 5,
   "id": "d67f8ef1-8c38-48ff-a9a9-57b7468b5acf",
   "metadata": {},
   "outputs": [],
   "source": [
    "class LVAnnotator:\n",
    "    \"\"\"\n",
    "    Annotates LV news texts to detect mentions of cabinet members and president\n",
    "    \"\"\"\n",
    "\n",
    "    def __init__(self):\n",
    "    \n",
    "        self.cabinet_data = dfl\n",
    "\n",
    "    def detect_entities(self, input_data):\n",
    "        \"\"\"\n",
    "        PARAMS: \n",
    "            input_data: list [{\"_id\":IDObject, \"text\":str, \"date\":datetime, \"source\":str}, \n",
    "                            {{\"_id\":IDObject, \"text\":str, \"date\":datetime, \"source\":str}}]\n",
    "        RETURNS:\n",
    "            annotate_data: pandas.DataFrame\n",
    "        \"\"\"\n",
    "\n",
    "        annotated_raw = []\n",
    "\n",
    "        for row in tqdm(input_data):\n",
    "\n",
    "            cab_ents = detect_ents_row(row[\"text\"], self.cabinet_data, row[\"date\"]) #text, dfl, timestamp):\n",
    "            if cab_ents != []:\n",
    "                for i in cab_ents:\n",
    "                    d = {\n",
    "                        \"para_id\": str(row[\"_id\"]),\n",
    "                        \"date\": row[\"date\"],\n",
    "                        \"text\": row[\"text\"],\n",
    "                        \"source\": row[\"source\"],\n",
    "                    }\n",
    "                    d.update(i)\n",
    "                    annotated_raw.append(d)\n",
    "\n",
    "        df_ent = pd.DataFrame(annotated_raw)\n",
    "\n",
    "        plh = df_ent.groupby([\"para_id\"]).agg(\n",
    "            {\n",
    "                \"cabinet_ents\": lambda x: list(x),\n",
    "                \"date\": \"first\",\n",
    "                \"text\": \"first\",\n",
    "                \"source\": \"first\",\n",
    "            }\n",
    "        )\n",
    "        df_ent_g = pd.DataFrame()\n",
    "        df_ent_g[\"para_id\"] = list(plh.index)\n",
    "        df_ent_g[\"cabinet_ents\"] = list(plh[\"cabinet_ents\"])\n",
    "        df_ent_g[\"date\"] = list(plh[\"date\"])\n",
    "        df_ent_g[\"source\"] = list(plh[\"source\"])\n",
    "        df_ent_g[\"text\"] = list(plh[\"text\"])\n",
    "\n",
    "        return df_ent_g\n",
    "    \n",
    "\n",
    "    def extend_data_datetime_vars(self, interim_data):\n",
    "\n",
    "        \"\"\"\n",
    "        Adds year, mothm day vars to the dataframe\n",
    "\n",
    "        PARAMS:\n",
    "            interim_data:DataFrame - a dataframe with `date` column\n",
    "        RETURNS:\n",
    "            interim_data:DataFrame\n",
    "        \"\"\"\n",
    "\n",
    "        interim_data[\"year\"] = interim_data.apply(lambda x: x[\"date\"].year, axis=1)\n",
    "        interim_data[\"month\"] = interim_data.apply(lambda x: x[\"date\"].month, axis=1)\n",
    "        interim_data[\"day\"] = interim_data.apply(lambda x: x[\"date\"].day, axis=1)\n",
    "        interim_data = interim_data.sort_values(by=[\"date\"])\n",
    "\n",
    "        return interim_data\n",
    "\n",
    "    def extend_data_cabinet_vars(self, interim_data):\n",
    "\n",
    "        \"\"\"\n",
    "        Adds cabinet vars: cabinet, cabinet_number, president\n",
    "\n",
    "        PARAMS:\n",
    "            interim_data:DataFrame - a dataframe with `date` column\n",
    "        RETURNS:\n",
    "            interim_data:DataFrame\n",
    "        \"\"\"\n",
    "\n",
    "        pm = []\n",
    "        cabinet_no = []\n",
    "        prezident = []\n",
    "\n",
    "        for row in tqdm(interim_data.date):\n",
    "            cabinet = resolve_cabinet(self.cabinet_data, row)\n",
    "            plh = prime_and_prez(cabinet)\n",
    "            pm.append(plh[0])\n",
    "            cabinet_no.append(plh[1])\n",
    "            prezident.append(plh[2])\n",
    "\n",
    "        interim_data[\"cabinet\"] = pm\n",
    "        interim_data[\"cabinet_no\"] = cabinet_no\n",
    "        interim_data[\"president\"] = prezident\n",
    "\n",
    "        return interim_data"
   ]
  },
  {
   "cell_type": "code",
   "execution_count": 6,
   "id": "38b4b99f-1c01-4a07-877d-bc73a96fc2ce",
   "metadata": {},
   "outputs": [],
   "source": [
    "begin = 1999\n",
    "end = datetime.now().year + 1\n",
    "\n",
    "years = [i for i in range(begin, end)]\n",
    "\n",
    "anno = LVAnnotator()"
   ]
  },
  {
   "cell_type": "code",
   "execution_count": 7,
   "id": "14dc25ed-0cae-4885-ba62-c9a6d6e79c70",
   "metadata": {},
   "outputs": [
    {
     "name": "stderr",
     "output_type": "stream",
     "text": [
      "/home/lukas/anaconda3/lib/python3.8/site-packages/pymongo/collection.py:1532: UserWarning: use an explicit session with no_cursor_timeout=True otherwise the cursor may still timeout after 30 minutes, for more info see https://docs.mongodb.com/v4.4/reference/method/cursor.noCursorTimeout/#session-idle-timeout-overrides-nocursortimeout\n",
      "  return Cursor(self, *args, **kwargs)\n",
      " 48%|████▊     | 158/326 [00:00<00:00, 1572.23it/s]"
     ]
    },
    {
     "name": "stdout",
     "output_type": "stream",
     "text": [
      "1999\n",
      "Records for this year 326\n"
     ]
    },
    {
     "name": "stderr",
     "output_type": "stream",
     "text": [
      "100%|██████████| 326/326 [00:00<00:00, 1584.76it/s]\n",
      "100%|██████████| 51/51 [00:00<00:00, 18268.81it/s]\n",
      "  0%|          | 0/2901 [00:00<?, ?it/s]"
     ]
    },
    {
     "name": "stdout",
     "output_type": "stream",
     "text": [
      "2000\n",
      "Records for this year 2901\n"
     ]
    },
    {
     "name": "stderr",
     "output_type": "stream",
     "text": [
      "100%|██████████| 2901/2901 [00:01<00:00, 1762.96it/s]\n",
      "100%|██████████| 388/388 [00:00<00:00, 18408.14it/s]\n",
      "  0%|          | 0/3390 [00:00<?, ?it/s]"
     ]
    },
    {
     "name": "stdout",
     "output_type": "stream",
     "text": [
      "2001\n",
      "Records for this year 3390\n"
     ]
    },
    {
     "name": "stderr",
     "output_type": "stream",
     "text": [
      "100%|██████████| 3390/3390 [00:01<00:00, 1697.04it/s]\n",
      "100%|██████████| 337/337 [00:00<00:00, 18201.12it/s]\n",
      "  0%|          | 0/3977 [00:00<?, ?it/s]"
     ]
    },
    {
     "name": "stdout",
     "output_type": "stream",
     "text": [
      "2002\n",
      "Records for this year 3977\n"
     ]
    },
    {
     "name": "stderr",
     "output_type": "stream",
     "text": [
      "100%|██████████| 3977/3977 [00:02<00:00, 1467.07it/s]\n",
      "100%|██████████| 541/541 [00:00<00:00, 17869.19it/s]\n",
      "  0%|          | 0/4182 [00:00<?, ?it/s]"
     ]
    },
    {
     "name": "stdout",
     "output_type": "stream",
     "text": [
      "2003\n",
      "Records for this year 4182\n"
     ]
    },
    {
     "name": "stderr",
     "output_type": "stream",
     "text": [
      "100%|██████████| 4182/4182 [00:03<00:00, 1245.77it/s]\n",
      "100%|██████████| 783/783 [00:00<00:00, 14156.45it/s]\n",
      "  0%|          | 0/3284 [00:00<?, ?it/s]"
     ]
    },
    {
     "name": "stdout",
     "output_type": "stream",
     "text": [
      "2004\n",
      "Records for this year 3284\n"
     ]
    },
    {
     "name": "stderr",
     "output_type": "stream",
     "text": [
      "100%|██████████| 3284/3284 [00:02<00:00, 1208.21it/s]\n",
      "100%|██████████| 775/775 [00:00<00:00, 17069.71it/s]\n",
      "  0%|          | 0/4392 [00:00<?, ?it/s]"
     ]
    },
    {
     "name": "stdout",
     "output_type": "stream",
     "text": [
      "2005\n",
      "Records for this year 4392\n"
     ]
    },
    {
     "name": "stderr",
     "output_type": "stream",
     "text": [
      "100%|██████████| 4392/4392 [00:03<00:00, 1242.06it/s]\n",
      "100%|██████████| 1000/1000 [00:00<00:00, 16680.54it/s]\n",
      "  0%|          | 0/6320 [00:00<?, ?it/s]"
     ]
    },
    {
     "name": "stdout",
     "output_type": "stream",
     "text": [
      "2006\n",
      "Records for this year 6320\n"
     ]
    },
    {
     "name": "stderr",
     "output_type": "stream",
     "text": [
      "100%|██████████| 6320/6320 [00:05<00:00, 1261.76it/s]\n",
      "100%|██████████| 1118/1118 [00:00<00:00, 15566.38it/s]\n",
      "  0%|          | 0/7373 [00:00<?, ?it/s]"
     ]
    },
    {
     "name": "stdout",
     "output_type": "stream",
     "text": [
      "2007\n",
      "Records for this year 7373\n"
     ]
    },
    {
     "name": "stderr",
     "output_type": "stream",
     "text": [
      "100%|██████████| 7373/7373 [00:06<00:00, 1205.15it/s]\n",
      "100%|██████████| 1662/1662 [00:00<00:00, 14811.73it/s]\n"
     ]
    },
    {
     "name": "stdout",
     "output_type": "stream",
     "text": [
      "2008\n"
     ]
    },
    {
     "name": "stderr",
     "output_type": "stream",
     "text": [
      "  1%|▏         | 103/7596 [00:00<00:07, 1022.99it/s]"
     ]
    },
    {
     "name": "stdout",
     "output_type": "stream",
     "text": [
      "Records for this year 7596\n"
     ]
    },
    {
     "name": "stderr",
     "output_type": "stream",
     "text": [
      "100%|██████████| 7596/7596 [00:06<00:00, 1197.77it/s]\n",
      "100%|██████████| 1765/1765 [00:00<00:00, 14948.20it/s]\n"
     ]
    },
    {
     "name": "stdout",
     "output_type": "stream",
     "text": [
      "2009\n"
     ]
    },
    {
     "name": "stderr",
     "output_type": "stream",
     "text": [
      "  1%|          | 106/9090 [00:00<00:08, 1057.08it/s]"
     ]
    },
    {
     "name": "stdout",
     "output_type": "stream",
     "text": [
      "Records for this year 9090\n"
     ]
    },
    {
     "name": "stderr",
     "output_type": "stream",
     "text": [
      "100%|██████████| 9090/9090 [00:07<00:00, 1172.46it/s]\n",
      "100%|██████████| 2587/2587 [00:00<00:00, 15188.31it/s]\n"
     ]
    },
    {
     "name": "stdout",
     "output_type": "stream",
     "text": [
      "2010\n"
     ]
    },
    {
     "name": "stderr",
     "output_type": "stream",
     "text": [
      "  1%|▏         | 100/7798 [00:00<00:07, 989.01it/s]"
     ]
    },
    {
     "name": "stdout",
     "output_type": "stream",
     "text": [
      "Records for this year 7798\n"
     ]
    },
    {
     "name": "stderr",
     "output_type": "stream",
     "text": [
      "100%|██████████| 7798/7798 [00:06<00:00, 1152.49it/s]\n",
      "100%|██████████| 1894/1894 [00:00<00:00, 15491.65it/s]\n"
     ]
    },
    {
     "name": "stdout",
     "output_type": "stream",
     "text": [
      "2011\n"
     ]
    },
    {
     "name": "stderr",
     "output_type": "stream",
     "text": [
      "  1%|          | 96/9658 [00:00<00:10, 952.18it/s]"
     ]
    },
    {
     "name": "stdout",
     "output_type": "stream",
     "text": [
      "Records for this year 9658\n"
     ]
    },
    {
     "name": "stderr",
     "output_type": "stream",
     "text": [
      "100%|██████████| 9658/9658 [00:08<00:00, 1081.56it/s]\n",
      "100%|██████████| 2663/2663 [00:00<00:00, 15239.22it/s]\n"
     ]
    },
    {
     "name": "stdout",
     "output_type": "stream",
     "text": [
      "2012\n"
     ]
    },
    {
     "name": "stderr",
     "output_type": "stream",
     "text": [
      "  1%|▏         | 107/7282 [00:00<00:06, 1069.21it/s]"
     ]
    },
    {
     "name": "stdout",
     "output_type": "stream",
     "text": [
      "Records for this year 7282\n"
     ]
    },
    {
     "name": "stderr",
     "output_type": "stream",
     "text": [
      "100%|██████████| 7282/7282 [00:06<00:00, 1067.33it/s]\n",
      "100%|██████████| 1811/1811 [00:00<00:00, 14924.71it/s]\n"
     ]
    },
    {
     "name": "stdout",
     "output_type": "stream",
     "text": [
      "2013\n"
     ]
    },
    {
     "name": "stderr",
     "output_type": "stream",
     "text": [
      "  1%|▏         | 96/6852 [00:00<00:07, 958.62it/s]"
     ]
    },
    {
     "name": "stdout",
     "output_type": "stream",
     "text": [
      "Records for this year 6852\n"
     ]
    },
    {
     "name": "stderr",
     "output_type": "stream",
     "text": [
      "100%|██████████| 6852/6852 [00:06<00:00, 1076.85it/s]\n",
      "100%|██████████| 1555/1555 [00:00<00:00, 14249.79it/s]\n"
     ]
    },
    {
     "name": "stdout",
     "output_type": "stream",
     "text": [
      "2014\n"
     ]
    },
    {
     "name": "stderr",
     "output_type": "stream",
     "text": [
      "100%|██████████| 6527/6527 [00:05<00:00, 1116.47it/s]\n",
      "100%|██████████| 1192/1192 [00:00<00:00, 10548.72it/s]\n"
     ]
    },
    {
     "name": "stdout",
     "output_type": "stream",
     "text": [
      "Records for this year 6527\n",
      "2015\n"
     ]
    },
    {
     "name": "stderr",
     "output_type": "stream",
     "text": [
      "  1%|▏         | 123/8549 [00:00<00:06, 1220.92it/s]"
     ]
    },
    {
     "name": "stdout",
     "output_type": "stream",
     "text": [
      "Records for this year 8549\n"
     ]
    },
    {
     "name": "stderr",
     "output_type": "stream",
     "text": [
      "100%|██████████| 8549/8549 [00:07<00:00, 1144.59it/s]\n",
      "100%|██████████| 1464/1464 [00:00<00:00, 12434.77it/s]\n"
     ]
    },
    {
     "name": "stdout",
     "output_type": "stream",
     "text": [
      "2016\n"
     ]
    },
    {
     "name": "stderr",
     "output_type": "stream",
     "text": [
      "  2%|▏         | 118/6961 [00:00<00:05, 1177.17it/s]"
     ]
    },
    {
     "name": "stdout",
     "output_type": "stream",
     "text": [
      "Records for this year 6961\n"
     ]
    },
    {
     "name": "stderr",
     "output_type": "stream",
     "text": [
      "100%|██████████| 6961/6961 [00:05<00:00, 1171.60it/s]\n",
      "100%|██████████| 1341/1341 [00:00<00:00, 14114.05it/s]\n",
      "  0%|          | 0/5294 [00:00<?, ?it/s]"
     ]
    },
    {
     "name": "stdout",
     "output_type": "stream",
     "text": [
      "2017\n",
      "Records for this year 5294\n"
     ]
    },
    {
     "name": "stderr",
     "output_type": "stream",
     "text": [
      "100%|██████████| 5294/5294 [00:04<00:00, 1115.61it/s]\n",
      "100%|██████████| 865/865 [00:00<00:00, 13111.75it/s]\n"
     ]
    },
    {
     "name": "stdout",
     "output_type": "stream",
     "text": [
      "2018\n"
     ]
    },
    {
     "name": "stderr",
     "output_type": "stream",
     "text": [
      "  2%|▏         | 105/5649 [00:00<00:05, 1049.19it/s]"
     ]
    },
    {
     "name": "stdout",
     "output_type": "stream",
     "text": [
      "Records for this year 5649\n"
     ]
    },
    {
     "name": "stderr",
     "output_type": "stream",
     "text": [
      "100%|██████████| 5649/5649 [00:05<00:00, 1078.62it/s]\n",
      "100%|██████████| 956/956 [00:00<00:00, 13557.92it/s]\n",
      "  0%|          | 0/5101 [00:00<?, ?it/s]"
     ]
    },
    {
     "name": "stdout",
     "output_type": "stream",
     "text": [
      "2019\n",
      "Records for this year 5101\n"
     ]
    },
    {
     "name": "stderr",
     "output_type": "stream",
     "text": [
      "100%|██████████| 5101/5101 [00:05<00:00, 997.25it/s] \n",
      "100%|██████████| 1054/1054 [00:00<00:00, 13260.41it/s]\n"
     ]
    },
    {
     "name": "stdout",
     "output_type": "stream",
     "text": [
      "2020\n"
     ]
    },
    {
     "name": "stderr",
     "output_type": "stream",
     "text": [
      "  1%|▏         | 97/6627 [00:00<00:06, 969.39it/s]"
     ]
    },
    {
     "name": "stdout",
     "output_type": "stream",
     "text": [
      "Records for this year 6627\n"
     ]
    },
    {
     "name": "stderr",
     "output_type": "stream",
     "text": [
      "100%|██████████| 6627/6627 [00:06<00:00, 975.38it/s] \n",
      "100%|██████████| 1084/1084 [00:00<00:00, 13537.63it/s]\n"
     ]
    },
    {
     "name": "stdout",
     "output_type": "stream",
     "text": [
      "2021\n"
     ]
    },
    {
     "name": "stderr",
     "output_type": "stream",
     "text": [
      "  1%|▏         | 108/8139 [00:00<00:07, 1074.53it/s]"
     ]
    },
    {
     "name": "stdout",
     "output_type": "stream",
     "text": [
      "Records for this year 8139\n"
     ]
    },
    {
     "name": "stderr",
     "output_type": "stream",
     "text": [
      "100%|██████████| 8139/8139 [00:08<00:00, 990.63it/s] \n",
      "100%|██████████| 1669/1669 [00:00<00:00, 13699.34it/s]\n",
      "  0%|          | 0/1272 [00:00<?, ?it/s]"
     ]
    },
    {
     "name": "stdout",
     "output_type": "stream",
     "text": [
      "2022\n",
      "Records for this year 1272\n"
     ]
    },
    {
     "name": "stderr",
     "output_type": "stream",
     "text": [
      "100%|██████████| 1272/1272 [00:01<00:00, 1043.75it/s]\n",
      "100%|██████████| 309/309 [00:00<00:00, 13396.45it/s]\n"
     ]
    }
   ],
   "source": [
    "for y in years:\n",
    "    print(y)\n",
    "    query = {\"date\": {\"$gte\": datetime(y, 1, 1), \"$lt\": datetime(y + 1, 1, 1)}}\n",
    "    cursor = source_col.find(query, no_cursor_timeout=True)\n",
    "    input_data = [i for i in cursor]\n",
    "    print(f\"Records for this year {len(input_data)}\")\n",
    "    if len(input_data) > 0:\n",
    "\n",
    "        df = anno.detect_entities(input_data)\n",
    "        df2 = anno.extend_data_datetime_vars(df)\n",
    "        df3 = anno.extend_data_cabinet_vars(df2)\n",
    "\n",
    "        validated_data = [\n",
    "            LVDoc(**i) for i in df3.to_dict(orient=\"records\")\n",
    "        ]  # Testing for schema compliance\n",
    "        validated_data2 = [i.dict() for i in validated_data]\n",
    "        #break\n",
    "        destination_col.insert_many(validated_data2)\n",
    "    time.sleep(60)"
   ]
  },
  {
   "cell_type": "code",
   "execution_count": null,
   "id": "06b2c7a8-5c61-423c-addd-e2672481561a",
   "metadata": {},
   "outputs": [],
   "source": []
  },
  {
   "cell_type": "code",
   "execution_count": null,
   "id": "45afb659-189b-451b-b9bd-94262747a114",
   "metadata": {},
   "outputs": [],
   "source": []
  },
  {
   "cell_type": "code",
   "execution_count": null,
   "id": "c09159cc-b019-4f19-9a22-ebcbe46c606d",
   "metadata": {},
   "outputs": [],
   "source": []
  }
 ],
 "metadata": {
  "kernelspec": {
   "display_name": "Python 3",
   "language": "python",
   "name": "python3"
  },
  "language_info": {
   "codemirror_mode": {
    "name": "ipython",
    "version": 3
   },
   "file_extension": ".py",
   "mimetype": "text/x-python",
   "name": "python",
   "nbconvert_exporter": "python",
   "pygments_lexer": "ipython3",
   "version": "3.8.8"
  }
 },
 "nbformat": 4,
 "nbformat_minor": 5
}
