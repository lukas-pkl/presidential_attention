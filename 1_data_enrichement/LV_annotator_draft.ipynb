{
 "cells": [
  {
   "cell_type": "code",
   "execution_count": null,
   "id": "03f4702d-3167-4ac7-af29-eb654cb2750e",
   "metadata": {},
   "outputs": [],
   "source": [
    "import pandas as pd\n",
    "from tqdm import tqdm\n",
    "from pymongo import MongoClient\n",
    "import re\n",
    "import pickle\n",
    "from datetime import datetime"
   ]
  },
  {
   "cell_type": "markdown",
   "id": "019aa597-b592-489b-b569-a051c00ecc8e",
   "metadata": {},
   "source": [
    "# Prep cabinet entities"
   ]
  },
  {
   "cell_type": "code",
   "execution_count": null,
   "id": "5825914e-af7d-4117-b728-d32f786b44eb",
   "metadata": {},
   "outputs": [],
   "source": [
    "with open(\"Cabinet_data_NER_LV.pkl\", \"rb\") as file:\n",
    "    dfl = pickle.load(file)\n",
    "print(len(dfl))"
   ]
  },
  {
   "cell_type": "code",
   "execution_count": null,
   "id": "ef188e72-23bb-4575-9441-97faf919e7c5",
   "metadata": {},
   "outputs": [],
   "source": [
    "dfl[70]"
   ]
  },
  {
   "cell_type": "code",
   "execution_count": null,
   "id": "e690045a-26de-47f2-9d75-b18283921bfa",
   "metadata": {},
   "outputs": [],
   "source": [
    "\n",
    "\n",
    "def resolve_cabinet(cabinet_data, datetime_obj):\n",
    "    \"\"\"\n",
    "    Assembles list of cabinet member names for a particular datetime\n",
    "    \n",
    "    PARAMS:\n",
    "        cabinet_data:list - a list of cabinet members, their positions and incumbency duration\n",
    "        datetime_obj:datetime - date when a news article was published\n",
    "    RETURNS:\n",
    "        cabinet - a list of people who were ministers and the president for that time\n",
    "    \"\"\"\n",
    "\n",
    "    cabinet = []\n",
    "\n",
    "    for row in cabinet_data:\n",
    "        if row[\"from\"] <= datetime_obj <= row[\"to\"]:\n",
    "            cabinet.append(row)\n",
    "    return cabinet\n",
    "\n",
    "\n",
    "def cabinet_entities(datetime_obj, entities, cabinet_data):\n",
    "    \"\"\"\n",
    "    Cross-references a list of entities extracted from text\n",
    "    with a list of cabinet ministers in office at the time the article was published\n",
    "    \n",
    "    PARAMS:\n",
    "        datetime_obj:datetime - datetime when the article was published\n",
    "        entities:list - a list of entities extracted from text\n",
    "        cabinet_data:list - a list of cabinet members, their positions and incumbency duration\n",
    "    \n",
    "    RETURNS:\n",
    "        rel_mentions:list - a list of enities mentioned in text that were the cabinet \n",
    "                            members at the time and the president\n",
    "    \"\"\"\n",
    "    entities = set(entities)\n",
    "    relevant_cabinet = resolve_cabinet(cabinet_data, datetime_obj)\n",
    "    rel_mentions = []\n",
    "    for row in relevant_cabinet:\n",
    "        if any(name in entities for name in row[\"names\"]):\n",
    "            plh = {\n",
    "                \"person_id\": row[\"person_id\"],\n",
    "                \"person_name\": row[\"person_name\"],\n",
    "                \"cabinet_ents\": row[\"ministry\"],\n",
    "            }\n",
    "            rel_mentions.append(plh)\n",
    "    return rel_mentions\n"
   ]
  },
  {
   "cell_type": "code",
   "execution_count": null,
   "id": "ae27d410-81f9-41e3-8c86-868113e75314",
   "metadata": {},
   "outputs": [],
   "source": [
    "#resolve_cabinet(dfl, datetime.now())"
   ]
  },
  {
   "cell_type": "markdown",
   "id": "53cb055e-6686-4d66-91be-cafced98bb56",
   "metadata": {},
   "source": [
    "# Load Data from momgo"
   ]
  },
  {
   "cell_type": "code",
   "execution_count": null,
   "id": "e947cf9c-3f88-43df-8aed-5aae644eb4a4",
   "metadata": {},
   "outputs": [],
   "source": [
    "mongo = MongoClient(\"mongodb://localhost:27017/?readPreference=primary&appname=MongoDB%20Compass&ssl=false\")\n",
    "db = mongo[\"delfi_texts\"]\n",
    "col = db[\"lv_news\"]"
   ]
  },
  {
   "cell_type": "code",
   "execution_count": null,
   "id": "5cedfdee-dac8-41ad-b437-88e7e3833bf7",
   "metadata": {},
   "outputs": [],
   "source": [
    "query = {}\n",
    "cursor = col.find(query, {\"_id\" :0}).limit(50000)\n",
    "data = [i for i in cursor]\n",
    "\n",
    "df = pd.DataFrame(data)\n",
    "print(df.shape)\n",
    "df.head()"
   ]
  },
  {
   "cell_type": "markdown",
   "id": "54bebe17-75f2-483f-b029-8501aaaab5aa",
   "metadata": {},
   "source": [
    "# Detect ents"
   ]
  },
  {
   "cell_type": "code",
   "execution_count": null,
   "id": "3b0c48f0-02e1-453f-9513-5919cac0d062",
   "metadata": {},
   "outputs": [],
   "source": [
    "def detect_ents(text, timestamp):\n",
    "    cabinet = resolve_cabinet(dfl, timestamp)\n",
    "    \n",
    "    plh = []\n",
    "    \n",
    "    for item in cabinet:\n",
    "        for entry in item[\"names\"]:\n",
    "            if entry in text:\n",
    "                d = {\"person_id\" : item[\"person_id\"], \n",
    "                    \"cabinet_no\" : item[\"cabinet_no\"], \n",
    "                    \"ministry\" : item[\"ministry\"], \n",
    "                    }\n",
    "                if d not in plh:\n",
    "                    plh.append(d)\n",
    "    return plh\n",
    "\n",
    "\n",
    "def extend_data_datetime_vars(interim_data):\n",
    "\n",
    "    \"\"\"\n",
    "    Adds year, mothm day vars to the dataframe\n",
    "\n",
    "    PARAMS:\n",
    "        interim_data:DataFrame - a dataframe with `date` column\n",
    "    RETURNS:\n",
    "        interim_data:DataFrame\n",
    "    \"\"\"\n",
    "\n",
    "    interim_data[\"year\"] = interim_data.apply(lambda x: x[\"date\"].year, axis=1)\n",
    "    interim_data[\"month\"] = interim_data.apply(lambda x: x[\"date\"].month, axis=1)\n",
    "    interim_data[\"day\"] = interim_data.apply(lambda x: x[\"date\"].day, axis=1)\n",
    "    interim_data = interim_data.sort_values(by=[\"date\"])\n",
    "\n",
    "    return interim_data\n",
    "\n",
    "\n",
    "def prime_and_prez(cabinet: list):\n",
    "    pm = \"\"\n",
    "    cabinet_no = \"\"\n",
    "    prezident = \"\"\n",
    "\n",
    "    for item in cabinet:\n",
    "        if item[\"ministry\"] == \"Premjers\":\n",
    "            pm = item[\"person_name\"]\n",
    "            cabinet_no = str(item[\"cabinet_no\"])\n",
    "\n",
    "        if item[\"ministry\"] in (\"Prezidente\", \"Prezidents\"):\n",
    "            prezident = item[\"person_name\"]\n",
    "    return (pm, cabinet_no, prezident)\n",
    "\n",
    "def extend_data_cabinet_vars(interim_data):\n",
    "\n",
    "    \"\"\"\n",
    "    Adds cabinet vars: cabinet, cabinet_number, president\n",
    "\n",
    "    PARAMS:\n",
    "        interim_data:DataFrame - a dataframe with `date` column\n",
    "    RETURNS:\n",
    "        interim_data:DataFrame\n",
    "    \"\"\"\n",
    "\n",
    "    pm = []\n",
    "    cabinet_no = []\n",
    "    prezident = []\n",
    "\n",
    "    for row in tqdm(interim_data.date):\n",
    "        cabinet = resolve_cabinet(dfl, row)\n",
    "        plh = prime_and_prez(cabinet)\n",
    "        pm.append(plh[0])\n",
    "        cabinet_no.append(plh[1])\n",
    "        prezident.append(plh[2])\n",
    "\n",
    "    interim_data[\"cabinet\"] = pm\n",
    "    interim_data[\"cabinet_no\"] = cabinet_no\n",
    "    interim_data[\"president\"] = prezident\n",
    "\n",
    "    return interim_data"
   ]
  },
  {
   "cell_type": "code",
   "execution_count": null,
   "id": "0fc72d8d-4c61-4ffe-bcce-77c48798ffd1",
   "metadata": {},
   "outputs": [],
   "source": [
    "entities = []\n",
    "\n",
    "for index, row in tqdm(df.iterrows()):\n",
    "    ents = detect_ents(row[\"text\"], row[\"date\"])\n",
    "    entities.append(ents)\n",
    "    \n",
    "df[\"entities_full\"] = entities\n",
    "df[\"entities\"] = df.apply(lambda x : [i[\"ministry\"] for i in x[\"entities_full\"]], axis = 1)\n",
    "\n",
    "\n",
    "df = extend_data_datetime_vars(df)\n",
    "df = extend_data_cabinet_vars(df)\n",
    "\n",
    "df.head()\n"
   ]
  },
  {
   "cell_type": "code",
   "execution_count": null,
   "id": "9c61b99a-9081-48d7-9194-251f50fb776d",
   "metadata": {},
   "outputs": [],
   "source": [
    "df.tail()"
   ]
  },
  {
   "cell_type": "code",
   "execution_count": null,
   "id": "ba84b91c-7163-4ab8-a39a-1dfea1110b02",
   "metadata": {},
   "outputs": [],
   "source": [
    "df[\"has_entities\"] = df.apply(lambda x : len(x[\"entities\"])>0, axis = 1)\n",
    "df[\"has_entities\"].mean()"
   ]
  },
  {
   "cell_type": "code",
   "execution_count": null,
   "id": "fd2e40d5-2b66-467d-a44b-21b287a5633c",
   "metadata": {},
   "outputs": [],
   "source": [
    "df2 = df[df[\"has_entities\"]==1]\n",
    "print(df2.shape)\n",
    "df2.head()"
   ]
  },
  {
   "cell_type": "code",
   "execution_count": null,
   "id": "5f8dd060-d952-4af1-8da7-a3591780399c",
   "metadata": {},
   "outputs": [],
   "source": [
    "df2.year.value_counts()"
   ]
  },
  {
   "cell_type": "code",
   "execution_count": null,
   "id": "49c0060a-364e-4421-ba58-10fc81fba7c0",
   "metadata": {},
   "outputs": [],
   "source": [
    "ministries_i= {}\n",
    "for item in list(df2.entities):\n",
    "    for i in item:\n",
    "        if i not in ministries_i:\n",
    "            ministries_i[i]=0\n",
    "        ministries_i[i]+=1\n",
    "\n",
    "s_min = sorted(ministries_i.items(), key = lambda kv : kv[1], reverse = True)        \n",
    "\n",
    "s_min"
   ]
  },
  {
   "cell_type": "code",
   "execution_count": null,
   "id": "a0cf90ed-f5e2-4a9a-abd4-65fb825f4f74",
   "metadata": {},
   "outputs": [],
   "source": [
    "ministries = set(ministries_i.keys())\n",
    "ministries.remove(\"Prezidents\")\n",
    "if \"Prezidente\" in ministries:\n",
    "    ministries.remove(\"Prezidente\")\n",
    "\n",
    "for item in ministries:\n",
    "    plh1 = []\n",
    "    plh2 = []\n",
    "    \n",
    "    for row in list(df2.entities):\n",
    "        if item in row:\n",
    "            plh1.append(1)\n",
    "        else:\n",
    "            plh1.append(0)\n",
    "        if item in row and any(i in row for i in [\"Prezidents\", \"Prezidente\"]):\n",
    "            plh2.append(1)\n",
    "        else:\n",
    "            plh2.append(0)\n",
    "    df2[item] = plh1\n",
    "    df2[\"Prezident_\"+item] = plh2\n",
    "    print(\"Prezident_\"+item, sum(plh2))\n",
    "    \n",
    "print(df2.shape)\n",
    "df2.head()"
   ]
  },
  {
   "cell_type": "code",
   "execution_count": null,
   "id": "a1371fa1-5f4a-419d-a426-b4790dfd201c",
   "metadata": {},
   "outputs": [],
   "source": [
    "df2[\"Prezident_Premjers\"].sum()"
   ]
  },
  {
   "cell_type": "code",
   "execution_count": null,
   "id": "2e45bc45-170c-4126-8608-c0907f0d84a3",
   "metadata": {},
   "outputs": [],
   "source": [
    "plh = df2[df2[\"Prezident_Aizsardzības\"]==1]\n",
    "plh.head()"
   ]
  },
  {
   "cell_type": "code",
   "execution_count": null,
   "id": "eaaa2ffc-141a-42b2-9c71-ff511a58db8c",
   "metadata": {},
   "outputs": [],
   "source": [
    "list(plh.source)[50]"
   ]
  },
  {
   "cell_type": "code",
   "execution_count": null,
   "id": "40d1aa77-ce7e-47b1-b6b2-ab2f98b5ef6d",
   "metadata": {},
   "outputs": [],
   "source": []
  },
  {
   "cell_type": "code",
   "execution_count": null,
   "id": "21a965b8-fb74-4e48-bbd4-378a8d280edf",
   "metadata": {},
   "outputs": [],
   "source": [
    "cab = resolve_cabinet(dfl, datetime.now())\n",
    "\n",
    "prime_and_prez(cab)"
   ]
  },
  {
   "cell_type": "code",
   "execution_count": null,
   "id": "4b5f2d28-8313-477b-a854-eb2b6624c357",
   "metadata": {},
   "outputs": [],
   "source": [
    "for index, row in df.iterrows():\n",
    "    res = detect_ents(row[\"text\"], row[\"date\"])\n",
    "    if res != []:\n",
    "        print(res)\n",
    "        print()"
   ]
  },
  {
   "cell_type": "code",
   "execution_count": null,
   "id": "8aff0484-09bd-4695-b6c2-a6711ce7a31b",
   "metadata": {},
   "outputs": [],
   "source": [
    "text = list(df.text)[10]\n",
    "timestamp = list(df.date)[10]\n",
    "\n",
    "detect_ents(text, timestamp)"
   ]
  },
  {
   "cell_type": "code",
   "execution_count": null,
   "id": "73f2a8f6-9a42-4c04-ab87-7904b6afe826",
   "metadata": {},
   "outputs": [],
   "source": []
  },
  {
   "cell_type": "code",
   "execution_count": null,
   "id": "05cb5f42-ca51-44ac-8e0f-00ea270dc175",
   "metadata": {},
   "outputs": [],
   "source": [
    "cab"
   ]
  },
  {
   "cell_type": "code",
   "execution_count": null,
   "id": "097c5d12-8a11-4778-bb1b-13d9b01a3de4",
   "metadata": {},
   "outputs": [],
   "source": [
    "# P"
   ]
  }
 ],
 "metadata": {
  "kernelspec": {
   "display_name": "Python 3",
   "language": "python",
   "name": "python3"
  },
  "language_info": {
   "codemirror_mode": {
    "name": "ipython",
    "version": 3
   },
   "file_extension": ".py",
   "mimetype": "text/x-python",
   "name": "python",
   "nbconvert_exporter": "python",
   "pygments_lexer": "ipython3",
   "version": "3.8.8"
  }
 },
 "nbformat": 4,
 "nbformat_minor": 5
}
