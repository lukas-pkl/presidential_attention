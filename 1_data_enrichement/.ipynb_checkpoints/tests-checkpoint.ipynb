{
 "cells": [
  {
   "cell_type": "code",
   "execution_count": 1,
   "id": "20789263-8c01-45b5-a055-43486b23eb79",
   "metadata": {},
   "outputs": [],
   "source": [
    "from pymongo import MongoClient\n",
    "import constants\n",
    "import pandas as pd"
   ]
  },
  {
   "cell_type": "code",
   "execution_count": 2,
   "id": "a37f4585-e56b-481a-9ecf-282d91cf281a",
   "metadata": {},
   "outputs": [],
   "source": [
    "mongo = MongoClient(constants.mongo_conn_string)\n",
    "mongo_lt_source_col = mongo[constants.mongo_db][constants.mongo_lt_col]\n",
    "mongo_lt_destination_col = mongo[constants.mongo_db][constants.mongo_lt_annotated_col]"
   ]
  },
  {
   "cell_type": "code",
   "execution_count": 3,
   "id": "7f889d42-7763-47c9-9131-cf0788199312",
   "metadata": {},
   "outputs": [],
   "source": [
    "from annotator import LTAnnotator"
   ]
  },
  {
   "cell_type": "code",
   "execution_count": 4,
   "id": "87bf73ef-f76c-4d04-88fe-a5a5441723fd",
   "metadata": {},
   "outputs": [],
   "source": [
    "anno = LTAnnotator()"
   ]
  },
  {
   "cell_type": "code",
   "execution_count": 5,
   "id": "4737d97c-e3d4-45b4-8d4f-9d5a417e5885",
   "metadata": {},
   "outputs": [
    {
     "name": "stdout",
     "output_type": "stream",
     "text": [
      "(100, 3)\n"
     ]
    },
    {
     "data": {
      "text/html": [
       "<div>\n",
       "<style scoped>\n",
       "    .dataframe tbody tr th:only-of-type {\n",
       "        vertical-align: middle;\n",
       "    }\n",
       "\n",
       "    .dataframe tbody tr th {\n",
       "        vertical-align: top;\n",
       "    }\n",
       "\n",
       "    .dataframe thead th {\n",
       "        text-align: right;\n",
       "    }\n",
       "</style>\n",
       "<table border=\"1\" class=\"dataframe\">\n",
       "  <thead>\n",
       "    <tr style=\"text-align: right;\">\n",
       "      <th></th>\n",
       "      <th>source</th>\n",
       "      <th>text</th>\n",
       "      <th>date</th>\n",
       "    </tr>\n",
       "  </thead>\n",
       "  <tbody>\n",
       "    <tr>\n",
       "      <th>0</th>\n",
       "      <td>https://www.delfi.lt/news/daily/lithuania/oru-...</td>\n",
       "      <td>\\n\\t\\t\\tSekmadienio naktį lietus įsisiautėjo R...</td>\n",
       "      <td>2021-09-19 00:06:57</td>\n",
       "    </tr>\n",
       "    <tr>\n",
       "      <th>1</th>\n",
       "      <td>https://www.delfi.lt/news/daily/lithuania/dreg...</td>\n",
       "      <td>\\n\\t\\t\\tŠiandien Lietuvos orus lems šiaurės va...</td>\n",
       "      <td>2021-09-20 00:00:15</td>\n",
       "    </tr>\n",
       "    <tr>\n",
       "      <th>2</th>\n",
       "      <td>https://www.delfi.lt/news/daily/lithuania/nega...</td>\n",
       "      <td>\\n\\t\\t\\tRegos negalią turinti vilnietė patyrė ...</td>\n",
       "      <td>2021-09-19 14:09:52</td>\n",
       "    </tr>\n",
       "    <tr>\n",
       "      <th>3</th>\n",
       "      <td>https://www.delfi.lt/news/daily/lithuania/i-li...</td>\n",
       "      <td>\\n\\t\\t\\tLiberalų sąjūdžiui ir toliau vadovaus ...</td>\n",
       "      <td>2021-09-18 18:42:14</td>\n",
       "    </tr>\n",
       "    <tr>\n",
       "      <th>4</th>\n",
       "      <td>https://www.delfi.lt/news/daily/lithuania/is-u...</td>\n",
       "      <td>\\n\\t\\t\\tIš Užsieniečių registracijos centro Pa...</td>\n",
       "      <td>2021-09-20 09:39:01</td>\n",
       "    </tr>\n",
       "  </tbody>\n",
       "</table>\n",
       "</div>"
      ],
      "text/plain": [
       "                                              source  \\\n",
       "0  https://www.delfi.lt/news/daily/lithuania/oru-...   \n",
       "1  https://www.delfi.lt/news/daily/lithuania/dreg...   \n",
       "2  https://www.delfi.lt/news/daily/lithuania/nega...   \n",
       "3  https://www.delfi.lt/news/daily/lithuania/i-li...   \n",
       "4  https://www.delfi.lt/news/daily/lithuania/is-u...   \n",
       "\n",
       "                                                text                date  \n",
       "0  \\n\\t\\t\\tSekmadienio naktį lietus įsisiautėjo R... 2021-09-19 00:06:57  \n",
       "1  \\n\\t\\t\\tŠiandien Lietuvos orus lems šiaurės va... 2021-09-20 00:00:15  \n",
       "2  \\n\\t\\t\\tRegos negalią turinti vilnietė patyrė ... 2021-09-19 14:09:52  \n",
       "3  \\n\\t\\t\\tLiberalų sąjūdžiui ir toliau vadovaus ... 2021-09-18 18:42:14  \n",
       "4  \\n\\t\\t\\tIš Užsieniečių registracijos centro Pa... 2021-09-20 09:39:01  "
      ]
     },
     "execution_count": 5,
     "metadata": {},
     "output_type": "execute_result"
    }
   ],
   "source": [
    "query = {}\n",
    "\n",
    "cursor = mongo_lt_source_col.find(query, {\"text_paragraphs\":0, \"text_vectors\":0}).limit(100)\n",
    "\n",
    "data = [i for i in cursor]\n",
    "\n",
    "df = pd.DataFrame(data)\n",
    "print(df.shape)\n",
    "df.head()"
   ]
  },
  {
   "cell_type": "code",
   "execution_count": 6,
   "id": "2472f2d8-98d3-4114-91ec-2e6960bdfdfa",
   "metadata": {},
   "outputs": [],
   "source": [
    "dfl = df.to_dict(orient=\"records\")"
   ]
  },
  {
   "cell_type": "code",
   "execution_count": 7,
   "id": "e70e1eb3-72a7-4597-a5fb-c850d87d2dbc",
   "metadata": {},
   "outputs": [
    {
     "name": "stderr",
     "output_type": "stream",
     "text": [
      "  2%|▏         | 2/100 [00:00<00:06, 14.77it/s]\n"
     ]
    },
    {
     "ename": "KeyError",
     "evalue": "'_id'",
     "output_type": "error",
     "traceback": [
      "\u001b[0;31m---------------------------------------------------------------------------\u001b[0m",
      "\u001b[0;31mKeyError\u001b[0m                                  Traceback (most recent call last)",
      "\u001b[0;32m<ipython-input-7-6215075eb846>\u001b[0m in \u001b[0;36m<module>\u001b[0;34m\u001b[0m\n\u001b[0;32m----> 1\u001b[0;31m \u001b[0mdf2\u001b[0m \u001b[0;34m=\u001b[0m \u001b[0manno\u001b[0m\u001b[0;34m.\u001b[0m\u001b[0mdetect_entities\u001b[0m\u001b[0;34m(\u001b[0m\u001b[0mdfl\u001b[0m\u001b[0;34m)\u001b[0m\u001b[0;34m\u001b[0m\u001b[0;34m\u001b[0m\u001b[0m\n\u001b[0m",
      "\u001b[0;32m~/Scrip_Repos/presidential_attention/1_data_enrichement/annotator.py\u001b[0m in \u001b[0;36mdetect_entities\u001b[0;34m(self, input_data)\u001b[0m\n\u001b[1;32m     56\u001b[0m             \u001b[0;32mif\u001b[0m \u001b[0mcab_ents\u001b[0m \u001b[0;34m!=\u001b[0m \u001b[0;34m[\u001b[0m\u001b[0;34m]\u001b[0m \u001b[0;34m:\u001b[0m\u001b[0;34m\u001b[0m\u001b[0;34m\u001b[0m\u001b[0m\n\u001b[1;32m     57\u001b[0m                 \u001b[0;32mfor\u001b[0m \u001b[0mi\u001b[0m \u001b[0;32min\u001b[0m \u001b[0mcab_ents\u001b[0m\u001b[0;34m:\u001b[0m\u001b[0;34m\u001b[0m\u001b[0;34m\u001b[0m\u001b[0m\n\u001b[0;32m---> 58\u001b[0;31m                     d = {\"_id\": row[\"_id\"], \n\u001b[0m\u001b[1;32m     59\u001b[0m                         \u001b[0;34m\"date\"\u001b[0m\u001b[0;34m:\u001b[0m \u001b[0mrow\u001b[0m\u001b[0;34m[\u001b[0m\u001b[0;34m\"date\"\u001b[0m\u001b[0;34m]\u001b[0m\u001b[0;34m,\u001b[0m\u001b[0;34m\u001b[0m\u001b[0;34m\u001b[0m\u001b[0m\n\u001b[1;32m     60\u001b[0m                         \"text\":row[\"text\"],}\n",
      "\u001b[0;31mKeyError\u001b[0m: '_id'"
     ]
    }
   ],
   "source": [
    "df2 = anno.detect_entities(dfl)"
   ]
  },
  {
   "cell_type": "code",
   "execution_count": null,
   "id": "a8f15fcf-c8ed-408a-b0f0-3d260cd98f72",
   "metadata": {},
   "outputs": [],
   "source": []
  },
  {
   "cell_type": "code",
   "execution_count": null,
   "id": "22aa5da7-20a4-4b02-be08-cce5f1111dc7",
   "metadata": {},
   "outputs": [],
   "source": []
  },
  {
   "cell_type": "code",
   "execution_count": null,
   "id": "989d32cb-dcd9-478f-8fe9-ec9f348f343e",
   "metadata": {},
   "outputs": [],
   "source": [
    "mongo = MongoClient(constants.mongo_conn_string)\n",
    "mongo_lt_source_col = mongo[constants.mongo_db][constants.mongo_lt_col]\n",
    "mongo_lt_destination_col = mongo[constants.mongo_db][constants.mongo_lt_annotated_col]"
   ]
  }
 ],
 "metadata": {
  "kernelspec": {
   "display_name": "Python 3",
   "language": "python",
   "name": "python3"
  },
  "language_info": {
   "codemirror_mode": {
    "name": "ipython",
    "version": 3
   },
   "file_extension": ".py",
   "mimetype": "text/x-python",
   "name": "python",
   "nbconvert_exporter": "python",
   "pygments_lexer": "ipython3",
   "version": "3.8.8"
  }
 },
 "nbformat": 4,
 "nbformat_minor": 5
}
