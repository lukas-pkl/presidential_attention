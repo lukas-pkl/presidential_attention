{
 "cells": [
  {
   "cell_type": "code",
   "execution_count": null,
   "id": "0d5c91e7-a3c5-4a38-a289-881162fe781c",
   "metadata": {},
   "outputs": [],
   "source": [
    "import pandas as pd\n",
    "import pickle\n",
    "from datetime import datetime"
   ]
  },
  {
   "cell_type": "code",
   "execution_count": null,
   "id": "57904ce7-556b-4c6e-b069-b1f73e84d2dd",
   "metadata": {},
   "outputs": [],
   "source": [
    "def declanate(word:str, fem:bool)->list:\n",
    "    \"\"\"Provides singular declanation for a given word\"\"\"\n",
    "    \n",
    "    if word.endswith(\" \"):\n",
    "        word = word[:-1]\n",
    "    \n",
    "    res = {\"nominative\" : word}\n",
    "    if word.endswith(\"us\"):\n",
    "        res[\"genitive\"] = word\n",
    "        res[\"dative\"] = word[:-1]+\"m\"\n",
    "        res[\"accusative\"] = word[:-1]\n",
    "        res[\"locative\"] = word[:-2]+\"ū\"\n",
    "\n",
    "    elif word.endswith(\"is\"):\n",
    "        res[\"genitive\"] = word[:-2]+\"ja\"\n",
    "        res[\"dative\"] = word[:-1]+\"m\"\n",
    "        res[\"accusative\"] = word[:-1]\n",
    "        res[\"locative\"] = word[:-2]+\"ī\"  \n",
    "    \n",
    "    elif word.endswith(\"a\"):\n",
    "        res[\"genitive\"] = word+\"s\"\n",
    "        res[\"dative\"] = word+\"i\"\n",
    "        res[\"accusative\"] = word[:-1]+\"u\"\n",
    "        res[\"locative\"] = word[:-1]+\"ā\"\n",
    "\n",
    "    elif word.endswith(\"e\"):\n",
    "        res[\"genitive\"] = word+\"s\"\n",
    "        res[\"dative\"] = word+\"i\"\n",
    "        res[\"accusative\"] = word[:-1]+\"i\"\n",
    "        res[\"locative\"] = word[:-1]+\"ē\"  \n",
    "        \n",
    "    elif word.endswith(\"s\") or word.endswith(\"š\"):\n",
    "    \n",
    "        if fem == False:            \n",
    "            res[\"genitive\"] = word[:-1]+\"a\"\n",
    "            res[\"dative\"] = word[:-1]+\"am\"\n",
    "            res[\"accusative\"] = word[:-1]+\"u\"\n",
    "            res[\"locative\"] = word[:-1]+\"ā\"      \n",
    "            \n",
    "        else:\n",
    "            res[\"genitive\"] = word\n",
    "            res[\"dative\"] = word[:-1]+\"ij\"\n",
    "            res[\"accusative\"] = word[:-1]+\"i\"\n",
    "            res[\"locative\"] = word[:-1]+\"ī\"      \n",
    "    else:\n",
    "        res[\"genitive\"] = word\n",
    "        res[\"dative\"] = word\n",
    "        res[\"accusative\"] = word\n",
    "        res[\"locative\"] = word      \n",
    "\n",
    "            \n",
    "    return res"
   ]
  },
  {
   "cell_type": "markdown",
   "id": "622cf7b1-b5e9-4622-9ed8-95ec086eb0fa",
   "metadata": {},
   "source": [
    "# Cabinet Members and presidents"
   ]
  },
  {
   "cell_type": "code",
   "execution_count": null,
   "id": "b7d01d79-9f72-4fc2-8657-96dd583eac5f",
   "metadata": {},
   "outputs": [],
   "source": [
    "df = pd.read_excel(\"./data/CabinetMembersLatvia.ods\", engine = \"odf\")\n",
    "print(df.shape)\n",
    "df.head()"
   ]
  },
  {
   "cell_type": "markdown",
   "id": "044553d8-5b77-4a5b-ac88-9c3187a723bb",
   "metadata": {},
   "source": [
    "# Cabinet Member Forms"
   ]
  },
  {
   "cell_type": "code",
   "execution_count": null,
   "id": "97694699-3811-4225-a514-2d8fd1d46aab",
   "metadata": {},
   "outputs": [],
   "source": [
    "def resolve_time(input_str:str):\n",
    "    parts = [int(i) for i in input_str.split(\"-\")]\n",
    "    dt = datetime(parts[2], parts[1], parts[0])\n",
    "    return dt\n",
    "\n",
    "\n",
    "data = []\n",
    "\n",
    "cases = [\"nominative\", \"genitive\", \"dative\", \"accusative\", \"locative\"]\n",
    "\n",
    "for index, row in df.iterrows():\n",
    "    fem = False\n",
    "    if row[\"gender\"] == \"f\":\n",
    "        fem = True\n",
    "    if \" \" not in row[\"person_name\"]:\n",
    "        name_forms = declanate(row[\"person_name\"], fem)\n",
    "    else:\n",
    "        parts = row[\"person_name\"].split()\n",
    "        name_forms = {\"nominative\" : \"\", \"genitive\" : \"\", \"dative\" : \"\", \"accusative\" : \"\", \"locative\" : \"\"}\n",
    "        for p in parts:\n",
    "            pforms = declanate(p, fem)\n",
    "            for key, value in pforms.items():\n",
    "                name_forms[key] += value + \" \"\n",
    "        for key, value in name_forms.items():\n",
    "            name_forms[key] = value[:-1]\n",
    "            \n",
    "    lastname_forms = declanate(row[\"person_lastname\"], fem)\n",
    "    \n",
    "    for case in cases:\n",
    "        d = {key:value for key, value in row.items()}\n",
    "        d[\"from\"] = resolve_time(d[\"from\"])\n",
    "        d[\"to\"]=resolve_time(d[\"to\"])\n",
    "        \n",
    "        name_form = name_forms[case]+\" \"+lastname_forms[case]\n",
    "        d[\"names\"] = name_form\n",
    "        data.append(d)\n",
    "        \n",
    "        d = {key:value for key, value in row.items()}\n",
    "        d[\"from\"] = resolve_time(d[\"from\"])\n",
    "        d[\"to\"]=resolve_time(d[\"to\"])\n",
    "        \n",
    "        name_form = row[\"person_name\"][0]+\". \"+lastname_forms[case]\n",
    "        d[\"names\"] = name_form\n",
    "        data.append(d)\n",
    "        \n",
    "df2 = pd.DataFrame(data)\n",
    "print(df2.shape)\n",
    "df2.head()\n",
    "    "
   ]
  },
  {
   "cell_type": "code",
   "execution_count": null,
   "id": "d2f228d2-65fd-4fb3-a448-9273ebae6b85",
   "metadata": {},
   "outputs": [],
   "source": [
    "df2.tail(20)"
   ]
  },
  {
   "cell_type": "code",
   "execution_count": null,
   "id": "c17ea1fb-ba48-475a-8894-44986325a5fd",
   "metadata": {},
   "outputs": [],
   "source": [
    "# Hand correcting VVF\n",
    "\n",
    "df2.loc[df2.index == 2430, 'names'] = \"Vaira Vīķe-Freiberga\"\n",
    "df2.loc[df2.index == 2431, 'names'] = \"V. Vīķe-Freiberga\"\n",
    "df2.loc[df2.index == 2432, 'names'] = \"Vairas Vīķes-Freibergas\"\n",
    "df2.loc[df2.index == 2433, 'names'] = \"V. Vīķes-Freibergas\"\n",
    "df2.loc[df2.index == 2434, 'names'] = \"Vairai Vīķei-Freibergai\"\n",
    "df2.loc[df2.index == 2435, 'names'] = \"V. Vīķei-Freibergai\"\n",
    "df2.loc[df2.index == 2436, 'names'] = \"Vairu Vīķi-Freibergu\"\n",
    "df2.loc[df2.index == 2437, 'names'] = \"V. Vīķi-Freibergu\"\n",
    "df2.loc[df2.index == 2438, 'names'] = \"Vairā Vīķē-Freibergā\"\n",
    "df2.loc[df2.index == 2439, 'names'] = \"V. Vīķē-Freibergā\"\n",
    "\n",
    "\n",
    "df2.tail(10)"
   ]
  },
  {
   "cell_type": "code",
   "execution_count": null,
   "id": "718a8d37-473f-4b33-8ffa-43b8241e3b86",
   "metadata": {},
   "outputs": [],
   "source": [
    "df3 = df2.groupby([\"person_id\", \"cabinet_no\"]).agg({\"cabinet_no\": \"first\", \"person_id\":\"first\", \"ministry\":\"first\", \"from\":\"first\", \"to\":\"first\", \"names\":lambda x: list(x)})\n",
    "df3[\"person_name\"] = df3.apply(lambda x : x[\"names\"][0], axis = 1)\n",
    "df3.head()"
   ]
  },
  {
   "cell_type": "code",
   "execution_count": null,
   "id": "673ff21c-bcc3-47dc-bd9b-b05012668fe9",
   "metadata": {},
   "outputs": [],
   "source": [
    "df3.tail(20)"
   ]
  },
  {
   "cell_type": "code",
   "execution_count": null,
   "id": "980e661a-2370-47f4-b2c8-a58da7fe3701",
   "metadata": {},
   "outputs": [],
   "source": [
    "df4 = pd.DataFrame()\n",
    "cols = [\"cabinet_no\", \"person_id\", \"ministry\", \"from\", \"to\", \"names\", \"person_name\"]\n",
    "for col in cols:\n",
    "    df4[col] = list(df3[col])\n",
    "df4 = df4.sort_values([\"cabinet_no\", \"ministry\"])\n",
    "print(df4.shape)\n",
    "df4.head()"
   ]
  },
  {
   "cell_type": "code",
   "execution_count": null,
   "id": "566f0720-3766-4944-a0f7-6acdf3c16960",
   "metadata": {},
   "outputs": [],
   "source": [
    "dfl = df4.to_dict(orient= \"records\")"
   ]
  },
  {
   "cell_type": "markdown",
   "id": "92f5330a-8386-4ce4-a4c0-cdd1fac81d4d",
   "metadata": {},
   "source": [
    "# Institutions"
   ]
  },
  {
   "cell_type": "code",
   "execution_count": null,
   "id": "81eca1d5-6b85-4aaf-89bb-1929d3e74981",
   "metadata": {},
   "outputs": [],
   "source": [
    "word = \"minitrija\"\n",
    "\n",
    "word_forms = declanate(word, True)\n",
    "\n",
    "institution_forms = []\n",
    "bads = [\"Prezidente\", \"Prezidents\", \"Premjers\"]\n",
    "\n",
    "for item in list(set(df.ministry)):\n",
    "    if item not in  bads:\n",
    "        forms = []\n",
    "        for item2 in word_forms.values():\n",
    "            plh = item + \" \" + item2\n",
    "            forms.append(plh)\n",
    "        d = {\"cabinet_no\" : 1, \n",
    "            \"person_id\" : item, \n",
    "            \"ministry\" : item, \n",
    "            \"from\" : datetime(1998,1,1), \n",
    "            \"to\" : datetime(2024, 1, 1), \n",
    "            \"names\" : forms}\n",
    "            \n",
    "            \n",
    "            \n",
    "        institution_forms.append(d)\n",
    "        \n",
    "len(institution_forms)"
   ]
  },
  {
   "cell_type": "code",
   "execution_count": null,
   "id": "8b73987c-21cf-468a-8003-658d07a81e45",
   "metadata": {},
   "outputs": [],
   "source": [
    "institution_forms[10]"
   ]
  },
  {
   "cell_type": "code",
   "execution_count": null,
   "id": "975c3b34-a389-4f8d-a2bf-e9bb88b0f45a",
   "metadata": {},
   "outputs": [],
   "source": [
    "dfl += institution_forms"
   ]
  },
  {
   "cell_type": "code",
   "execution_count": null,
   "id": "0e51dd2b-1d9d-4170-a7b0-3ff979f8039e",
   "metadata": {},
   "outputs": [],
   "source": [
    "with open(\"Cabinet_data_NER_LV.pkl\", \"wb\") as file:\n",
    "    pickle.dump(dfl, file)"
   ]
  },
  {
   "cell_type": "code",
   "execution_count": null,
   "id": "92e6259c-0826-4346-ad61-3782727195ae",
   "metadata": {},
   "outputs": [],
   "source": []
  }
 ],
 "metadata": {
  "kernelspec": {
   "display_name": "Python 3",
   "language": "python",
   "name": "python3"
  },
  "language_info": {
   "codemirror_mode": {
    "name": "ipython",
    "version": 3
   },
   "file_extension": ".py",
   "mimetype": "text/x-python",
   "name": "python",
   "nbconvert_exporter": "python",
   "pygments_lexer": "ipython3",
   "version": "3.8.8"
  }
 },
 "nbformat": 4,
 "nbformat_minor": 5
}
